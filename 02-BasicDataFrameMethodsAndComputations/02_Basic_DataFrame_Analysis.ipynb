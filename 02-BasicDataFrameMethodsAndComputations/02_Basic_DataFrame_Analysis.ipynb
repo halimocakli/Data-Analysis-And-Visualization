{
 "cells": [
  {
   "cell_type": "markdown",
   "source": [
    "# TEMEL DATA FRAME(VERİ ÇERÇEVESİ) ANALİZİ\n",
    "***"
   ],
   "metadata": {
    "collapsed": false
   }
  },
  {
   "cell_type": "markdown",
   "id": "9b2614a5",
   "metadata": {},
   "source": [
    "`Analiz yaparken aşağıdaki metotları kullanacağız`\n",
    "\n",
    "* `sum`\n",
    "* `min`\n",
    "* `max`\n",
    "* `median`\n",
    "* `mean`\n",
    "* `count`\n",
    "* `describe`"
   ]
  },
  {
   "cell_type": "code",
   "execution_count": 1,
   "id": "2ec124bd",
   "metadata": {},
   "outputs": [],
   "source": [
    "# Pandas kütüphanesini import edelim\n",
    "import pandas as pd"
   ]
  },
  {
   "cell_type": "code",
   "execution_count": 2,
   "id": "c25eecf9",
   "metadata": {},
   "outputs": [],
   "source": [
    "# King County House veri setini import edelim\n",
    "houses = pd.read_csv(\"../Sources/data/kc_house_data.csv\")"
   ]
  },
  {
   "cell_type": "code",
   "execution_count": 3,
   "id": "319d7d7f",
   "metadata": {},
   "outputs": [
    {
     "data": {
      "text/plain": "               id             date     price  bedrooms  bathrooms  \\\n0      7129300520  20141013T000000  221900.0         3       1.00   \n1      6414100192  20141209T000000  538000.0         3       2.25   \n2      5631500400  20150225T000000  180000.0         2       1.00   \n3      2487200875  20141209T000000  604000.0         4       3.00   \n4      1954400510  20150218T000000  510000.0         3       2.00   \n...           ...              ...       ...       ...        ...   \n21608   263000018  20140521T000000  360000.0         3       2.50   \n21609  6600060120  20150223T000000  400000.0         4       2.50   \n21610  1523300141  20140623T000000  402101.0         2       0.75   \n21611   291310100  20150116T000000  400000.0         3       2.50   \n21612  1523300157  20141015T000000  325000.0         2       0.75   \n\n       sqft_living  sqft_lot  floors  waterfront  view  ...  grade  \\\n0             1180      5650     1.0           0     0  ...      7   \n1             2570      7242     2.0           0     0  ...      7   \n2              770     10000     1.0           0     0  ...      6   \n3             1960      5000     1.0           0     0  ...      7   \n4             1680      8080     1.0           0     0  ...      8   \n...            ...       ...     ...         ...   ...  ...    ...   \n21608         1530      1131     3.0           0     0  ...      8   \n21609         2310      5813     2.0           0     0  ...      8   \n21610         1020      1350     2.0           0     0  ...      7   \n21611         1600      2388     2.0           0     0  ...      8   \n21612         1020      1076     2.0           0     0  ...      7   \n\n       sqft_above  sqft_basement  yr_built  yr_renovated  zipcode      lat  \\\n0            1180              0      1955             0    98178  47.5112   \n1            2170            400      1951          1991    98125  47.7210   \n2             770              0      1933             0    98028  47.7379   \n3            1050            910      1965             0    98136  47.5208   \n4            1680              0      1987             0    98074  47.6168   \n...           ...            ...       ...           ...      ...      ...   \n21608        1530              0      2009             0    98103  47.6993   \n21609        2310              0      2014             0    98146  47.5107   \n21610        1020              0      2009             0    98144  47.5944   \n21611        1600              0      2004             0    98027  47.5345   \n21612        1020              0      2008             0    98144  47.5941   \n\n          long  sqft_living15  sqft_lot15  \n0     -122.257           1340        5650  \n1     -122.319           1690        7639  \n2     -122.233           2720        8062  \n3     -122.393           1360        5000  \n4     -122.045           1800        7503  \n...        ...            ...         ...  \n21608 -122.346           1530        1509  \n21609 -122.362           1830        7200  \n21610 -122.299           1020        2007  \n21611 -122.069           1410        1287  \n21612 -122.299           1020        1357  \n\n[21613 rows x 21 columns]",
      "text/html": "<div>\n<style scoped>\n    .dataframe tbody tr th:only-of-type {\n        vertical-align: middle;\n    }\n\n    .dataframe tbody tr th {\n        vertical-align: top;\n    }\n\n    .dataframe thead th {\n        text-align: right;\n    }\n</style>\n<table border=\"1\" class=\"dataframe\">\n  <thead>\n    <tr style=\"text-align: right;\">\n      <th></th>\n      <th>id</th>\n      <th>date</th>\n      <th>price</th>\n      <th>bedrooms</th>\n      <th>bathrooms</th>\n      <th>sqft_living</th>\n      <th>sqft_lot</th>\n      <th>floors</th>\n      <th>waterfront</th>\n      <th>view</th>\n      <th>...</th>\n      <th>grade</th>\n      <th>sqft_above</th>\n      <th>sqft_basement</th>\n      <th>yr_built</th>\n      <th>yr_renovated</th>\n      <th>zipcode</th>\n      <th>lat</th>\n      <th>long</th>\n      <th>sqft_living15</th>\n      <th>sqft_lot15</th>\n    </tr>\n  </thead>\n  <tbody>\n    <tr>\n      <th>0</th>\n      <td>7129300520</td>\n      <td>20141013T000000</td>\n      <td>221900.0</td>\n      <td>3</td>\n      <td>1.00</td>\n      <td>1180</td>\n      <td>5650</td>\n      <td>1.0</td>\n      <td>0</td>\n      <td>0</td>\n      <td>...</td>\n      <td>7</td>\n      <td>1180</td>\n      <td>0</td>\n      <td>1955</td>\n      <td>0</td>\n      <td>98178</td>\n      <td>47.5112</td>\n      <td>-122.257</td>\n      <td>1340</td>\n      <td>5650</td>\n    </tr>\n    <tr>\n      <th>1</th>\n      <td>6414100192</td>\n      <td>20141209T000000</td>\n      <td>538000.0</td>\n      <td>3</td>\n      <td>2.25</td>\n      <td>2570</td>\n      <td>7242</td>\n      <td>2.0</td>\n      <td>0</td>\n      <td>0</td>\n      <td>...</td>\n      <td>7</td>\n      <td>2170</td>\n      <td>400</td>\n      <td>1951</td>\n      <td>1991</td>\n      <td>98125</td>\n      <td>47.7210</td>\n      <td>-122.319</td>\n      <td>1690</td>\n      <td>7639</td>\n    </tr>\n    <tr>\n      <th>2</th>\n      <td>5631500400</td>\n      <td>20150225T000000</td>\n      <td>180000.0</td>\n      <td>2</td>\n      <td>1.00</td>\n      <td>770</td>\n      <td>10000</td>\n      <td>1.0</td>\n      <td>0</td>\n      <td>0</td>\n      <td>...</td>\n      <td>6</td>\n      <td>770</td>\n      <td>0</td>\n      <td>1933</td>\n      <td>0</td>\n      <td>98028</td>\n      <td>47.7379</td>\n      <td>-122.233</td>\n      <td>2720</td>\n      <td>8062</td>\n    </tr>\n    <tr>\n      <th>3</th>\n      <td>2487200875</td>\n      <td>20141209T000000</td>\n      <td>604000.0</td>\n      <td>4</td>\n      <td>3.00</td>\n      <td>1960</td>\n      <td>5000</td>\n      <td>1.0</td>\n      <td>0</td>\n      <td>0</td>\n      <td>...</td>\n      <td>7</td>\n      <td>1050</td>\n      <td>910</td>\n      <td>1965</td>\n      <td>0</td>\n      <td>98136</td>\n      <td>47.5208</td>\n      <td>-122.393</td>\n      <td>1360</td>\n      <td>5000</td>\n    </tr>\n    <tr>\n      <th>4</th>\n      <td>1954400510</td>\n      <td>20150218T000000</td>\n      <td>510000.0</td>\n      <td>3</td>\n      <td>2.00</td>\n      <td>1680</td>\n      <td>8080</td>\n      <td>1.0</td>\n      <td>0</td>\n      <td>0</td>\n      <td>...</td>\n      <td>8</td>\n      <td>1680</td>\n      <td>0</td>\n      <td>1987</td>\n      <td>0</td>\n      <td>98074</td>\n      <td>47.6168</td>\n      <td>-122.045</td>\n      <td>1800</td>\n      <td>7503</td>\n    </tr>\n    <tr>\n      <th>...</th>\n      <td>...</td>\n      <td>...</td>\n      <td>...</td>\n      <td>...</td>\n      <td>...</td>\n      <td>...</td>\n      <td>...</td>\n      <td>...</td>\n      <td>...</td>\n      <td>...</td>\n      <td>...</td>\n      <td>...</td>\n      <td>...</td>\n      <td>...</td>\n      <td>...</td>\n      <td>...</td>\n      <td>...</td>\n      <td>...</td>\n      <td>...</td>\n      <td>...</td>\n      <td>...</td>\n    </tr>\n    <tr>\n      <th>21608</th>\n      <td>263000018</td>\n      <td>20140521T000000</td>\n      <td>360000.0</td>\n      <td>3</td>\n      <td>2.50</td>\n      <td>1530</td>\n      <td>1131</td>\n      <td>3.0</td>\n      <td>0</td>\n      <td>0</td>\n      <td>...</td>\n      <td>8</td>\n      <td>1530</td>\n      <td>0</td>\n      <td>2009</td>\n      <td>0</td>\n      <td>98103</td>\n      <td>47.6993</td>\n      <td>-122.346</td>\n      <td>1530</td>\n      <td>1509</td>\n    </tr>\n    <tr>\n      <th>21609</th>\n      <td>6600060120</td>\n      <td>20150223T000000</td>\n      <td>400000.0</td>\n      <td>4</td>\n      <td>2.50</td>\n      <td>2310</td>\n      <td>5813</td>\n      <td>2.0</td>\n      <td>0</td>\n      <td>0</td>\n      <td>...</td>\n      <td>8</td>\n      <td>2310</td>\n      <td>0</td>\n      <td>2014</td>\n      <td>0</td>\n      <td>98146</td>\n      <td>47.5107</td>\n      <td>-122.362</td>\n      <td>1830</td>\n      <td>7200</td>\n    </tr>\n    <tr>\n      <th>21610</th>\n      <td>1523300141</td>\n      <td>20140623T000000</td>\n      <td>402101.0</td>\n      <td>2</td>\n      <td>0.75</td>\n      <td>1020</td>\n      <td>1350</td>\n      <td>2.0</td>\n      <td>0</td>\n      <td>0</td>\n      <td>...</td>\n      <td>7</td>\n      <td>1020</td>\n      <td>0</td>\n      <td>2009</td>\n      <td>0</td>\n      <td>98144</td>\n      <td>47.5944</td>\n      <td>-122.299</td>\n      <td>1020</td>\n      <td>2007</td>\n    </tr>\n    <tr>\n      <th>21611</th>\n      <td>291310100</td>\n      <td>20150116T000000</td>\n      <td>400000.0</td>\n      <td>3</td>\n      <td>2.50</td>\n      <td>1600</td>\n      <td>2388</td>\n      <td>2.0</td>\n      <td>0</td>\n      <td>0</td>\n      <td>...</td>\n      <td>8</td>\n      <td>1600</td>\n      <td>0</td>\n      <td>2004</td>\n      <td>0</td>\n      <td>98027</td>\n      <td>47.5345</td>\n      <td>-122.069</td>\n      <td>1410</td>\n      <td>1287</td>\n    </tr>\n    <tr>\n      <th>21612</th>\n      <td>1523300157</td>\n      <td>20141015T000000</td>\n      <td>325000.0</td>\n      <td>2</td>\n      <td>0.75</td>\n      <td>1020</td>\n      <td>1076</td>\n      <td>2.0</td>\n      <td>0</td>\n      <td>0</td>\n      <td>...</td>\n      <td>7</td>\n      <td>1020</td>\n      <td>0</td>\n      <td>2008</td>\n      <td>0</td>\n      <td>98144</td>\n      <td>47.5941</td>\n      <td>-122.299</td>\n      <td>1020</td>\n      <td>1357</td>\n    </tr>\n  </tbody>\n</table>\n<p>21613 rows × 21 columns</p>\n</div>"
     },
     "execution_count": 3,
     "metadata": {},
     "output_type": "execute_result"
    }
   ],
   "source": [
    "# Data frame'i inceleyelim\n",
    "houses"
   ]
  },
  {
   "cell_type": "code",
   "execution_count": 4,
   "id": "1018b946",
   "metadata": {},
   "outputs": [
    {
     "data": {
      "text/plain": "id                       1000102\ndate             20140502T000000\nprice                    75000.0\nbedrooms                       0\nbathrooms                    0.0\nsqft_living                  290\nsqft_lot                     520\nfloors                       1.0\nwaterfront                     0\nview                           0\ncondition                      1\ngrade                          1\nsqft_above                   290\nsqft_basement                  0\nyr_built                    1900\nyr_renovated                   0\nzipcode                    98001\nlat                      47.1559\nlong                    -122.519\nsqft_living15                399\nsqft_lot15                   651\ndtype: object"
     },
     "execution_count": 4,
     "metadata": {},
     "output_type": "execute_result"
    }
   ],
   "source": [
    "# min() metodu, data frame'e ait olan bütün sütunların(feature'ların) minimum değerini gösterir.\n",
    "houses.min()"
   ]
  },
  {
   "cell_type": "code",
   "execution_count": 5,
   "id": "1e9af024",
   "metadata": {},
   "outputs": [
    {
     "data": {
      "text/plain": "id                    9900000190\ndate             20150527T000000\nprice                  7700000.0\nbedrooms                      33\nbathrooms                    8.0\nsqft_living                13540\nsqft_lot                 1651359\nfloors                       3.5\nwaterfront                     1\nview                           4\ncondition                      5\ngrade                         13\nsqft_above                  9410\nsqft_basement               4820\nyr_built                    2015\nyr_renovated                2015\nzipcode                    98199\nlat                      47.7776\nlong                    -121.315\nsqft_living15               6210\nsqft_lot15                871200\ndtype: object"
     },
     "execution_count": 5,
     "metadata": {},
     "output_type": "execute_result"
    }
   ],
   "source": [
    "# max() metodu, data frame'e ait olan bütün sütunların(feature'ların) maksimum değerini gösterir.\n",
    "houses.max()"
   ]
  },
  {
   "cell_type": "code",
   "execution_count": 6,
   "id": "48529b47",
   "metadata": {},
   "outputs": [
    {
     "data": {
      "text/plain": "pandas.core.series.Series"
     },
     "execution_count": 6,
     "metadata": {},
     "output_type": "execute_result"
    }
   ],
   "source": [
    "# Peki max() ve min() metotlarının sonucunda elde ettiğimiz yapının veri tipi nedir?\n",
    "type(houses.max())"
   ]
  },
  {
   "cell_type": "markdown",
   "id": "6e79e533",
   "metadata": {},
   "source": [
    "***\n",
    "**Görüldüğü üzere geriye dönen sonuç, Pandas kütüphanesi ait bir veri tipi olan `Series'tir`.**\n",
    "***"
   ]
  },
  {
   "cell_type": "code",
   "execution_count": 7,
   "id": "e82b5571",
   "metadata": {},
   "outputs": [
    {
     "data": {
      "text/plain": "id                                                  98994056770455\ndate             20141013T00000020141209T00000020150225T0000002...\nprice                                                11672925008.0\nbedrooms                                                     72854\nbathrooms                                                 45706.25\nsqft_living                                               44952873\nsqft_lot                                                 326506890\nfloors                                                     32296.5\nwaterfront                                                     163\nview                                                          5064\ncondition                                                    73688\ngrade                                                       165488\nsqft_above                                                38652488\nsqft_basement                                              6300385\nyr_built                                                  42599334\nyr_renovated                                               1824186\nzipcode                                                 2119758513\nlat                                                   1027915.4151\nlong                                                  -2641408.943\nsqft_living15                                             42935359\nsqft_lot15                                               275964632\ndtype: object"
     },
     "execution_count": 7,
     "metadata": {},
     "output_type": "execute_result"
    }
   ],
   "source": [
    "# sum(), metodu, data frame'in sütunlarında bulunan bütün değerleri toplar. Aşağıdaki sonucu incelediğinizde bazı sütunlarda birden fazla tipte değer olduğu için,\n",
    "# sum() metodunun sonucunun biraz tuhaf olduğunu görebilirsiniz.\n",
    "# sum() metodu non-numeric değerlerde düzgün çalışmaz.\n",
    "houses.sum()"
   ]
  },
  {
   "cell_type": "code",
   "execution_count": 8,
   "id": "9f262da7",
   "metadata": {},
   "outputs": [
    {
     "data": {
      "text/plain": "id               9.899406e+13\nprice            1.167293e+10\nbedrooms         7.285400e+04\nbathrooms        4.570625e+04\nsqft_living      4.495287e+07\nsqft_lot         3.265069e+08\nfloors           3.229650e+04\nwaterfront       1.630000e+02\nview             5.064000e+03\ncondition        7.368800e+04\ngrade            1.654880e+05\nsqft_above       3.865249e+07\nsqft_basement    6.300385e+06\nyr_built         4.259933e+07\nyr_renovated     1.824186e+06\nzipcode          2.119759e+09\nlat              1.027915e+06\nlong            -2.641409e+06\nsqft_living15    4.293536e+07\nsqft_lot15       2.759646e+08\ndtype: float64"
     },
     "execution_count": 8,
     "metadata": {},
     "output_type": "execute_result"
    }
   ],
   "source": [
    "# Yukarıdaki sorunu halletmek için sum() metodunun numeric_only parametresini kullanabiliriz.\n",
    "# Böylece, yalnızca numerik değerlere sahip sütunlarda sum() metodu çalıştırılır.\n",
    "houses.sum(numeric_only=True)"
   ]
  },
  {
   "cell_type": "code",
   "execution_count": 9,
   "id": "9f071048",
   "metadata": {},
   "outputs": [
    {
     "data": {
      "text/plain": "98994060000000.0"
     },
     "execution_count": 9,
     "metadata": {},
     "output_type": "execute_result"
    }
   ],
   "source": [
    "# Veri setleri içerisinde karşılaşabileceğimiz aşağıdaki bilimsel notasyon şu anlama gelmektedir: 9.899406 x 10^13\n",
    "9.899406e+13"
   ]
  },
  {
   "cell_type": "code",
   "execution_count": 10,
   "id": "73a38002",
   "metadata": {},
   "outputs": [],
   "source": [
    "# Titanic veri setini import edelim.\n",
    "titanic = pd.read_csv(\"../Sources/data/titanic.csv\")"
   ]
  },
  {
   "cell_type": "code",
   "execution_count": 11,
   "id": "ac41dac3",
   "metadata": {},
   "outputs": [
    {
     "data": {
      "text/plain": "   pclass  survived                                             name     sex  \\\n0       1         1                    Allen, Miss. Elisabeth Walton  female   \n1       1         1                   Allison, Master. Hudson Trevor    male   \n2       1         0                     Allison, Miss. Helen Loraine  female   \n3       1         0             Allison, Mr. Hudson Joshua Creighton    male   \n4       1         0  Allison, Mrs. Hudson J C (Bessie Waldo Daniels)  female   \n\n      age  sibsp  parch  ticket      fare    cabin embarked boat body  \\\n0      29      0      0   24160  211.3375       B5        S    2    ?   \n1  0.9167      1      2  113781    151.55  C22 C26        S   11    ?   \n2       2      1      2  113781    151.55  C22 C26        S    ?    ?   \n3      30      1      2  113781    151.55  C22 C26        S    ?  135   \n4      25      1      2  113781    151.55  C22 C26        S    ?    ?   \n\n                         home.dest  \n0                     St Louis, MO  \n1  Montreal, PQ / Chesterville, ON  \n2  Montreal, PQ / Chesterville, ON  \n3  Montreal, PQ / Chesterville, ON  \n4  Montreal, PQ / Chesterville, ON  ",
      "text/html": "<div>\n<style scoped>\n    .dataframe tbody tr th:only-of-type {\n        vertical-align: middle;\n    }\n\n    .dataframe tbody tr th {\n        vertical-align: top;\n    }\n\n    .dataframe thead th {\n        text-align: right;\n    }\n</style>\n<table border=\"1\" class=\"dataframe\">\n  <thead>\n    <tr style=\"text-align: right;\">\n      <th></th>\n      <th>pclass</th>\n      <th>survived</th>\n      <th>name</th>\n      <th>sex</th>\n      <th>age</th>\n      <th>sibsp</th>\n      <th>parch</th>\n      <th>ticket</th>\n      <th>fare</th>\n      <th>cabin</th>\n      <th>embarked</th>\n      <th>boat</th>\n      <th>body</th>\n      <th>home.dest</th>\n    </tr>\n  </thead>\n  <tbody>\n    <tr>\n      <th>0</th>\n      <td>1</td>\n      <td>1</td>\n      <td>Allen, Miss. Elisabeth Walton</td>\n      <td>female</td>\n      <td>29</td>\n      <td>0</td>\n      <td>0</td>\n      <td>24160</td>\n      <td>211.3375</td>\n      <td>B5</td>\n      <td>S</td>\n      <td>2</td>\n      <td>?</td>\n      <td>St Louis, MO</td>\n    </tr>\n    <tr>\n      <th>1</th>\n      <td>1</td>\n      <td>1</td>\n      <td>Allison, Master. Hudson Trevor</td>\n      <td>male</td>\n      <td>0.9167</td>\n      <td>1</td>\n      <td>2</td>\n      <td>113781</td>\n      <td>151.55</td>\n      <td>C22 C26</td>\n      <td>S</td>\n      <td>11</td>\n      <td>?</td>\n      <td>Montreal, PQ / Chesterville, ON</td>\n    </tr>\n    <tr>\n      <th>2</th>\n      <td>1</td>\n      <td>0</td>\n      <td>Allison, Miss. Helen Loraine</td>\n      <td>female</td>\n      <td>2</td>\n      <td>1</td>\n      <td>2</td>\n      <td>113781</td>\n      <td>151.55</td>\n      <td>C22 C26</td>\n      <td>S</td>\n      <td>?</td>\n      <td>?</td>\n      <td>Montreal, PQ / Chesterville, ON</td>\n    </tr>\n    <tr>\n      <th>3</th>\n      <td>1</td>\n      <td>0</td>\n      <td>Allison, Mr. Hudson Joshua Creighton</td>\n      <td>male</td>\n      <td>30</td>\n      <td>1</td>\n      <td>2</td>\n      <td>113781</td>\n      <td>151.55</td>\n      <td>C22 C26</td>\n      <td>S</td>\n      <td>?</td>\n      <td>135</td>\n      <td>Montreal, PQ / Chesterville, ON</td>\n    </tr>\n    <tr>\n      <th>4</th>\n      <td>1</td>\n      <td>0</td>\n      <td>Allison, Mrs. Hudson J C (Bessie Waldo Daniels)</td>\n      <td>female</td>\n      <td>25</td>\n      <td>1</td>\n      <td>2</td>\n      <td>113781</td>\n      <td>151.55</td>\n      <td>C22 C26</td>\n      <td>S</td>\n      <td>?</td>\n      <td>?</td>\n      <td>Montreal, PQ / Chesterville, ON</td>\n    </tr>\n  </tbody>\n</table>\n</div>"
     },
     "execution_count": 11,
     "metadata": {},
     "output_type": "execute_result"
    }
   ],
   "source": [
    "# Titanic veri setinin ilk beş örneğini inceleyelim.\n",
    "titanic.head()"
   ]
  },
  {
   "cell_type": "code",
   "execution_count": 12,
   "id": "5c1d1020",
   "metadata": {},
   "outputs": [
    {
     "data": {
      "text/plain": "pclass                                                    3004\nsurvived                                                   500\nname         Allen, Miss. Elisabeth WaltonAllison, Master. ...\nsex          femalemalefemalemalefemalemalefemalemalefemale...\nage          290.91672302548633953714718242680?245032363747...\nsibsp                                                      653\nparch                                                      504\nticket       2416011378111378111378111378119952135021120501...\nfare         211.3375151.55151.55151.55151.5526.5577.958305...\ncabin        B5C22 C26C22 C26C22 C26C22 C26E12D7A36C101?C62...\nembarked     SSSSSSSSSCCCCSSSCCCCSSCCSCCCSSSCSSSCSSSCCCSCCS...\nboat         211???310?D??496B??68A55548?778D?788?469???6D8...\nbody         ???135?????22124??????????????148?????????????...\nhome.dest    St Louis, MOMontreal, PQ / Chesterville, ONMon...\ndtype: object"
     },
     "execution_count": 12,
     "metadata": {},
     "output_type": "execute_result"
    }
   ],
   "source": [
    "# Bahsettiğimiz gibi sum() metodu non-numeric değerler üzerinde çok verimli değildir.\n",
    "# Yukarıda titanic veri setinin ilk beş satırını görüyoruz. sum() metodunu bu veri setinde kullanalım.\n",
    "titanic.sum()"
   ]
  },
  {
   "cell_type": "code",
   "execution_count": 13,
   "id": "a055bb55",
   "metadata": {},
   "outputs": [
    {
     "data": {
      "text/plain": "(1309, 14)"
     },
     "execution_count": 13,
     "metadata": {},
     "output_type": "execute_result"
    }
   ],
   "source": [
    "# titanic dataframe'inin şekline bakalım\n",
    "titanic.shape"
   ]
  },
  {
   "cell_type": "markdown",
   "id": "55bb40e5",
   "metadata": {},
   "source": [
    "Yukardaki çalışmalara bakarak, 500 kişinin Titanik kazasından kurtulduğunu görebiliyoruz. `survived` sütununu incelediğinizde siz de bu durumun farkına varacaksınız. `titanic.shape` ifadesini kullanarak Titanik gemisinde toplamda kaç kişi olduğunu da öğrendiğimize göre artık 1309 kişiden 500'ünün kurtuluduğunu biliyoruz.\n"
   ]
  },
  {
   "cell_type": "code",
   "execution_count": 14,
   "id": "4a211ea8",
   "metadata": {
    "scrolled": true
   },
   "outputs": [
    {
     "data": {
      "text/plain": "pclass      3004\nsurvived     500\nsibsp        653\nparch        504\ndtype: int64"
     },
     "execution_count": 14,
     "metadata": {},
     "output_type": "execute_result"
    }
   ],
   "source": [
    "# titanic dataframe'i içerisindeki sayısal değerlerin toplamın görelim\n",
    "titanic.sum(numeric_only=True)"
   ]
  },
  {
   "cell_type": "markdown",
   "source": [
    "***"
   ],
   "metadata": {
    "collapsed": false
   }
  },
  {
   "cell_type": "code",
   "execution_count": 15,
   "id": "25d3962e",
   "metadata": {},
   "outputs": [
    {
     "data": {
      "text/plain": "   SUMLEV REGION DIVISION  STATE              NAME  CENSUS2010POP  \\\n0      10      0        0      0     United States      308745538   \n1      20      1        0      0  Northeast Region       55317240   \n2      20      2        0      0    Midwest Region       66927001   \n3      20      3        0      0      South Region      114555744   \n4      20      4        0      0       West Region       71945553   \n\n   ESTIMATESBASE2010  POPESTIMATE2010  POPESTIMATE2011  POPESTIMATE2012  \\\n0          308758105        309327143        311583481        313877662   \n1           55318414         55380764         55608318         55782661   \n2           66929737         66975328         67164092         67348275   \n3          114563042        114869421        116019483        117264196   \n4           71946912         72101630         72791588         73482530   \n\n   POPESTIMATE2013  POPESTIMATE2014  POPESTIMATE2015  POPESTIMATE2016  \\\n0        316059947        318386329        320738994        323071755   \n1         55912775         56021339         56052790         56063777   \n2         67576524         67765576         67885682         68018175   \n3        118397213        119666248        121049223        122419547   \n4         74173435         74933166         75751299         76570256   \n\n   POPESTIMATE2017  POPESTIMATE2018  POPESTIMATE2019  POPESTIMATE042020  \\\n0        325122128        326838199        328329953          329398742   \n1         56083383         56084543         56002934           55924275   \n2         68160342         68263019         68340091           68357895   \n3        123611036        124649156        125686544          126494232   \n4         77267367         77841481         78300384           78622340   \n\n   POPESTIMATE2020  \n0        329484123  \n1         55849869  \n2         68316744  \n3        126662754  \n4         78654756  ",
      "text/html": "<div>\n<style scoped>\n    .dataframe tbody tr th:only-of-type {\n        vertical-align: middle;\n    }\n\n    .dataframe tbody tr th {\n        vertical-align: top;\n    }\n\n    .dataframe thead th {\n        text-align: right;\n    }\n</style>\n<table border=\"1\" class=\"dataframe\">\n  <thead>\n    <tr style=\"text-align: right;\">\n      <th></th>\n      <th>SUMLEV</th>\n      <th>REGION</th>\n      <th>DIVISION</th>\n      <th>STATE</th>\n      <th>NAME</th>\n      <th>CENSUS2010POP</th>\n      <th>ESTIMATESBASE2010</th>\n      <th>POPESTIMATE2010</th>\n      <th>POPESTIMATE2011</th>\n      <th>POPESTIMATE2012</th>\n      <th>POPESTIMATE2013</th>\n      <th>POPESTIMATE2014</th>\n      <th>POPESTIMATE2015</th>\n      <th>POPESTIMATE2016</th>\n      <th>POPESTIMATE2017</th>\n      <th>POPESTIMATE2018</th>\n      <th>POPESTIMATE2019</th>\n      <th>POPESTIMATE042020</th>\n      <th>POPESTIMATE2020</th>\n    </tr>\n  </thead>\n  <tbody>\n    <tr>\n      <th>0</th>\n      <td>10</td>\n      <td>0</td>\n      <td>0</td>\n      <td>0</td>\n      <td>United States</td>\n      <td>308745538</td>\n      <td>308758105</td>\n      <td>309327143</td>\n      <td>311583481</td>\n      <td>313877662</td>\n      <td>316059947</td>\n      <td>318386329</td>\n      <td>320738994</td>\n      <td>323071755</td>\n      <td>325122128</td>\n      <td>326838199</td>\n      <td>328329953</td>\n      <td>329398742</td>\n      <td>329484123</td>\n    </tr>\n    <tr>\n      <th>1</th>\n      <td>20</td>\n      <td>1</td>\n      <td>0</td>\n      <td>0</td>\n      <td>Northeast Region</td>\n      <td>55317240</td>\n      <td>55318414</td>\n      <td>55380764</td>\n      <td>55608318</td>\n      <td>55782661</td>\n      <td>55912775</td>\n      <td>56021339</td>\n      <td>56052790</td>\n      <td>56063777</td>\n      <td>56083383</td>\n      <td>56084543</td>\n      <td>56002934</td>\n      <td>55924275</td>\n      <td>55849869</td>\n    </tr>\n    <tr>\n      <th>2</th>\n      <td>20</td>\n      <td>2</td>\n      <td>0</td>\n      <td>0</td>\n      <td>Midwest Region</td>\n      <td>66927001</td>\n      <td>66929737</td>\n      <td>66975328</td>\n      <td>67164092</td>\n      <td>67348275</td>\n      <td>67576524</td>\n      <td>67765576</td>\n      <td>67885682</td>\n      <td>68018175</td>\n      <td>68160342</td>\n      <td>68263019</td>\n      <td>68340091</td>\n      <td>68357895</td>\n      <td>68316744</td>\n    </tr>\n    <tr>\n      <th>3</th>\n      <td>20</td>\n      <td>3</td>\n      <td>0</td>\n      <td>0</td>\n      <td>South Region</td>\n      <td>114555744</td>\n      <td>114563042</td>\n      <td>114869421</td>\n      <td>116019483</td>\n      <td>117264196</td>\n      <td>118397213</td>\n      <td>119666248</td>\n      <td>121049223</td>\n      <td>122419547</td>\n      <td>123611036</td>\n      <td>124649156</td>\n      <td>125686544</td>\n      <td>126494232</td>\n      <td>126662754</td>\n    </tr>\n    <tr>\n      <th>4</th>\n      <td>20</td>\n      <td>4</td>\n      <td>0</td>\n      <td>0</td>\n      <td>West Region</td>\n      <td>71945553</td>\n      <td>71946912</td>\n      <td>72101630</td>\n      <td>72791588</td>\n      <td>73482530</td>\n      <td>74173435</td>\n      <td>74933166</td>\n      <td>75751299</td>\n      <td>76570256</td>\n      <td>77267367</td>\n      <td>77841481</td>\n      <td>78300384</td>\n      <td>78622340</td>\n      <td>78654756</td>\n    </tr>\n  </tbody>\n</table>\n</div>"
     },
     "execution_count": 15,
     "metadata": {},
     "output_type": "execute_result"
    }
   ],
   "source": [
    "# nst-est2020 datasetini inceleyelim\n",
    "pd.read_csv(\"../Sources/data/nst-est2020.csv\").head()"
   ]
  },
  {
   "cell_type": "code",
   "execution_count": 16,
   "id": "cfa56168",
   "metadata": {},
   "outputs": [],
   "source": [
    "# nst-est2020 dataset'ini, bütün sütunlarının isimlerini küçük harfe dönüştürecek şekilde import edelim.\n",
    "\n",
    "names = ['sumlev', 'region', 'division', 'state', 'name', 'census2010pop', 'estimatesbase2010', \n",
    "         'popestimate2010', 'popestimate2011', 'popestimate2012', 'popestimate2013', 'popestimate2014', \n",
    "         'popestimate2015', 'popestimate2016', 'popestimate2017', 'popestimate2018', 'popestimate2019', \n",
    "         'popestimate042020', 'popestimate2020']\n",
    "\n",
    "state_pops = pd.read_csv(\"../Sources/data/nst-est2020.csv\", names=names, header=0)\n"
   ]
  },
  {
   "cell_type": "code",
   "execution_count": 17,
   "id": "5e578f93",
   "metadata": {},
   "outputs": [
    {
     "data": {
      "text/plain": "    sumlev region division  state                  name  census2010pop  \\\n0       10      0        0      0         United States      308745538   \n1       20      1        0      0      Northeast Region       55317240   \n2       20      2        0      0        Midwest Region       66927001   \n3       20      3        0      0          South Region      114555744   \n4       20      4        0      0           West Region       71945553   \n5       40      3        6      1               Alabama        4779736   \n6       40      4        9      2                Alaska         710231   \n7       40      4        8      4               Arizona        6392017   \n8       40      3        7      5              Arkansas        2915918   \n9       40      4        9      6            California       37253956   \n10      40      4        8      8              Colorado        5029196   \n11      40      1        1      9           Connecticut        3574097   \n12      40      3        5     10              Delaware         897934   \n13      40      3        5     11  District of Columbia         601723   \n14      40      3        5     12               Florida       18801310   \n15      40      3        5     13               Georgia        9687653   \n16      40      4        9     15                Hawaii        1360301   \n17      40      4        8     16                 Idaho        1567582   \n18      40      2        3     17              Illinois       12830632   \n19      40      2        3     18               Indiana        6483802   \n20      40      2        4     19                  Iowa        3046355   \n21      40      2        4     20                Kansas        2853118   \n22      40      3        6     21              Kentucky        4339367   \n23      40      3        7     22             Louisiana        4533372   \n24      40      1        1     23                 Maine        1328361   \n25      40      3        5     24              Maryland        5773552   \n26      40      1        1     25         Massachusetts        6547629   \n27      40      2        3     26              Michigan        9883640   \n28      40      2        4     27             Minnesota        5303925   \n29      40      3        6     28           Mississippi        2967297   \n30      40      2        4     29              Missouri        5988927   \n31      40      4        8     30               Montana         989415   \n32      40      2        4     31              Nebraska        1826341   \n33      40      4        8     32                Nevada        2700551   \n34      40      1        1     33         New Hampshire        1316470   \n35      40      1        2     34            New Jersey        8791894   \n36      40      4        8     35            New Mexico        2059179   \n37      40      1        2     36              New York       19378102   \n38      40      3        5     37        North Carolina        9535483   \n39      40      2        4     38          North Dakota         672591   \n40      40      2        3     39                  Ohio       11536504   \n41      40      3        7     40              Oklahoma        3751351   \n42      40      4        9     41                Oregon        3831074   \n43      40      1        2     42          Pennsylvania       12702379   \n44      40      1        1     44          Rhode Island        1052567   \n45      40      3        5     45        South Carolina        4625364   \n46      40      2        4     46          South Dakota         814180   \n47      40      3        6     47             Tennessee        6346105   \n48      40      3        7     48                 Texas       25145561   \n49      40      4        8     49                  Utah        2763885   \n50      40      1        1     50               Vermont         625741   \n51      40      3        5     51              Virginia        8001024   \n52      40      4        9     53            Washington        6724540   \n53      40      3        5     54         West Virginia        1852994   \n54      40      2        3     55             Wisconsin        5686986   \n55      40      4        8     56               Wyoming         563626   \n56      40      X        X     72           Puerto Rico        3725789   \n\n    estimatesbase2010  popestimate2010  popestimate2011  popestimate2012  \\\n0           308758105        309327143        311583481        313877662   \n1            55318414         55380764         55608318         55782661   \n2            66929737         66975328         67164092         67348275   \n3           114563042        114869421        116019483        117264196   \n4            71946912         72101630         72791588         73482530   \n5             4780118          4785514          4799642          4816632   \n6              710246           713982           722349           730810   \n7             6392292          6407342          6473416          6556344   \n8             2916029          2921998          2941038          2952876   \n9            37254522         37319550         37636311         37944551   \n10            5029319          5047539          5121900          5193660   \n11            3574151          3579173          3588632          3595211   \n12             897947           899647           907590           915518   \n13             601767           605282           620290           635737   \n14           18804589         18846143         19055607         19302016   \n15            9688737          9712209          9803630          9903580   \n16            1360304          1364004          1379562          1395199   \n17            1567658          1570819          1584272          1595910   \n18           12831572         12840545         12867783         12883029   \n19            6484050          6490555          6517250          6538989   \n20            3046877          3050819          3066772          3076844   \n21            2853120          2858266          2869677          2886024   \n22            4339330          4348464          4370817          4387865   \n23            4533500          4544635          4576244          4602067   \n24            1328354          1327651          1328473          1328094   \n25            5773787          5788784          5840241          5888375   \n26            6547788          6566440          6614218          6664269   \n27            9884112          9877597          9883053          9898289   \n28            5303933          5310934          5346620          5377500   \n29            2968129          2970615          2979147          2984599   \n30            5988941          5996089          6011182          6026027   \n31             989400           990730           997518          1004168   \n32            1826311          1829591          1840914          1853691   \n33            2700683          2702483          2713114          2744670   \n34            1316457          1316807          1320444          1324677   \n35            8791959          8799451          8828552          8845671   \n36            2059199          2064614          2080707          2087715   \n37           19378117         19399956         19499921         19574362   \n38            9535762          9574586          9658913          9751810   \n39             672575           674752           685526           702227   \n40           11536763         11539449         11545735         11550971   \n41            3751582          3760014          3788824          3819320   \n42            3831083          3837614          3872672          3900102   \n43           12702891         12711406         12747052         12769123   \n44            1052970          1053994          1053829          1054893   \n45            4625358          4635846          4672655          4719027   \n46             814198           816193           823740           833859   \n47            6346281          6355518          6400298          6455752   \n48           25146072         25241897         25645504         26084120   \n49            2763891          2775413          2814797          2854146   \n50             625727           625886           627197           626361   \n51            8001046          8024004          8102437          8187456   \n52            6724540          6743009          6827479          6898599   \n53            1853008          1854265          1856606          1857446   \n54            5687285          5690538          5705840          5720825   \n55             563775           564531           567491           576656   \n56            3726157          3721525          3678732          3634488   \n\n    popestimate2013  popestimate2014  popestimate2015  popestimate2016  \\\n0         316059947        318386329        320738994        323071755   \n1          55912775         56021339         56052790         56063777   \n2          67576524         67765576         67885682         68018175   \n3         118397213        119666248        121049223        122419547   \n4          74173435         74933166         75751299         76570256   \n5           4831586          4843737          4854803          4866824   \n6            737626           737075           738430           742575   \n7           6634690          6732873          6832810          6944767   \n8           2960459          2968759          2979732          2991815   \n9          38253768         38586706         38904296         39149186   \n10          5270774          5352637          5454328          5543844   \n11          3595792          3595697          3588561          3579830   \n12           924062           933131           942065           949989   \n13           651559           663603           677014           687576   \n14         19551678         19853880         20219111         20627237   \n15          9975592         10071204         10183353         10308442   \n16          1408822          1415335          1422999          1428885   \n17          1612053          1632248          1652495          1684036   \n18         12895778         12885092         12859585         12821709   \n19          6570575          6596019          6611442          6637898   \n20          3093935          3110643          3122541          3133210   \n21          2894306          2901861          2910717          2912977   \n22          4406906          4416992          4429126          4440306   \n23          4626040          4645938          4666998          4681346   \n24          1328543          1331217          1329098          1332348   \n25          5925197          5960064          5988528          6007014   \n26          6715158          6764864          6797484          6827280   \n27          9914802          9932033          9934483          9954117   \n28          5414722          5452665          5484002          5525360   \n29          2989839          2991892          2990231          2990595   \n30          6042989          6059130          6075411          6091384   \n31          1014158          1022657          1031495          1042137   \n32          1865813          1879955          1892059          1906483   \n33          2776956          2818935          2868531          2919555   \n34          1327272          1334257          1337480          1343694   \n35          8857821          8867277          8870312          8873584   \n36          2092833          2090236          2090071          2092555   \n37         19626488         19653431         19657321         19636391   \n38          9846717          9937295         10037218         10161802   \n39           723149           738736           755537           756114   \n40         11579692         11606573         11622315         11640060   \n41          3853891          3879187          3910518          3928143   \n42          3924110          3965447          4018542          4093271   \n43         12779538         12792392         12789838         12788468   \n44          1055560          1056511          1056886          1057816   \n45          4766469          4826858          4896006          4963031   \n46           842751           849670           854663           863693   \n47          6496943          6544617          6595354          6651277   \n48         26479646         26963092         27468531         27914064   \n49          2898773          2938327          2983626          3044241   \n50           626603           625693           625810           624366   \n51          8255861          8315430          8367303          8417651   \n52          6966252          7057531          7167287          7299961   \n53          1854768          1850569          1843332          1832435   \n54          5738012          5753199          5762927          5775170   \n55           582620           583159           586389           585243   \n56          3593077          3534874          3473232          3406672   \n\n    popestimate2017  popestimate2018  popestimate2019  popestimate042020  \\\n0         325122128        326838199        328329953          329398742   \n1          56083383         56084543         56002934           55924275   \n2          68160342         68263019         68340091           68357895   \n3         123611036        124649156        125686544          126494232   \n4          77267367         77841481         78300384           78622340   \n5           4877989          4891628          4907965            4920706   \n6            740983           736624           733603             732074   \n7           7048088          7164228          7291843            7393900   \n8           3003855          3012161          3020985            3029672   \n9          39337785         39437463         39437610           39418894   \n10          5617421          5697155          5758486            5798266   \n11          3575324          3574561          3566022            3561494   \n12           957942           966985           976668             984899   \n13           697079           704147           708253             712185   \n14         20977089         21254926         21492056           21688239   \n15         10417031         10519389         10628020           10695662   \n16          1425763          1423102          1415615            1410587   \n17          1719745          1752074          1789060            1818238   \n18         12779893         12724685         12667017           12615162   \n19          6662068          6698481          6731010            6752183   \n20          3143734          3149900          3159596            3164115   \n21          2910892          2912748          2912635            2915024   \n22          4455590          4464273          4472345            4477899   \n23          4673673          4664450          4658285            4650984   \n24          1335743          1340123          1345770            1349647   \n25          6028186          6042153          6054954            6059529   \n26          6863560          6885720          6894883            6898116   \n27          9976752          9987286          9984795            9976330   \n28          5569283          5608762          5640053            5655855   \n29          2990674          2982879          2978227            2971253   \n30          6111382          6125986          6140475            6151737   \n31          1053862          1061818          1070123            1078405   \n32          1916998          1925512          1932571            1937258   \n33          2972097          3030725          3090771            3128500   \n34          1350395          1355064          1360783            1365533   \n35          8888147          8891730          8891258            8890883   \n36          2092844          2093754          2099634            2106117   \n37         19593849         19544098         19463131           19382373   \n38         10275758         10391358         10501384           10581885   \n39           756755           760062           763724             765224   \n40         11665706         11680892         11696507           11699855   \n41          3933602          3943488          3960676            3977682   \n42          4147294          4183538          4216116            4237408   \n43         12794679         12809107         12798883           12794404   \n44          1056554          1059338          1058158            1058004   \n45          5027102          5091702          5157702            5205864   \n46           873732           879386           887127             891688   \n47          6714748          6778180          6830325            6875939   \n48         28291024         28624564         28986794           29286467   \n49          3103540          3155153          3203383            3239542   \n50           625132           624802           624046             623821   \n51          8471011          8510920          8556642            8587217   \n52          7427951          7526793          7614024            7678379   \n53          1818683          1805953          1795263            1788150   \n54          5793147          5809319          5824581            5833464   \n55           579994           579054           580116             582030   \n56          3325284          3193344          3193553            3167851   \n\n    popestimate2020  \n0         329484123  \n1          55849869  \n2          68316744  \n3         126662754  \n4          78654756  \n5           4921532  \n6            731158  \n7           7421401  \n8           3030522  \n9          39368078  \n10          5807719  \n11          3557006  \n12           986809  \n13           712816  \n14         21733312  \n15         10710017  \n16          1407006  \n17          1826913  \n18         12587530  \n19          6754953  \n20          3163561  \n21          2913805  \n22          4477251  \n23          4645318  \n24          1350141  \n25          6055802  \n26          6893574  \n27          9966555  \n28          5657342  \n29          2966786  \n30          6151548  \n31          1080577  \n32          1937552  \n33          3138259  \n34          1366275  \n35          8882371  \n36          2106319  \n37         19336776  \n38         10600823  \n39           765309  \n40         11693217  \n41          3980783  \n42          4241507  \n43         12783254  \n44          1057125  \n45          5218040  \n46           892717  \n47          6886834  \n48         29360759  \n49          3249879  \n50           623347  \n51          8590563  \n52          7693612  \n53          1784787  \n54          5832655  \n55           582328  \n56          3159343  ",
      "text/html": "<div>\n<style scoped>\n    .dataframe tbody tr th:only-of-type {\n        vertical-align: middle;\n    }\n\n    .dataframe tbody tr th {\n        vertical-align: top;\n    }\n\n    .dataframe thead th {\n        text-align: right;\n    }\n</style>\n<table border=\"1\" class=\"dataframe\">\n  <thead>\n    <tr style=\"text-align: right;\">\n      <th></th>\n      <th>sumlev</th>\n      <th>region</th>\n      <th>division</th>\n      <th>state</th>\n      <th>name</th>\n      <th>census2010pop</th>\n      <th>estimatesbase2010</th>\n      <th>popestimate2010</th>\n      <th>popestimate2011</th>\n      <th>popestimate2012</th>\n      <th>popestimate2013</th>\n      <th>popestimate2014</th>\n      <th>popestimate2015</th>\n      <th>popestimate2016</th>\n      <th>popestimate2017</th>\n      <th>popestimate2018</th>\n      <th>popestimate2019</th>\n      <th>popestimate042020</th>\n      <th>popestimate2020</th>\n    </tr>\n  </thead>\n  <tbody>\n    <tr>\n      <th>0</th>\n      <td>10</td>\n      <td>0</td>\n      <td>0</td>\n      <td>0</td>\n      <td>United States</td>\n      <td>308745538</td>\n      <td>308758105</td>\n      <td>309327143</td>\n      <td>311583481</td>\n      <td>313877662</td>\n      <td>316059947</td>\n      <td>318386329</td>\n      <td>320738994</td>\n      <td>323071755</td>\n      <td>325122128</td>\n      <td>326838199</td>\n      <td>328329953</td>\n      <td>329398742</td>\n      <td>329484123</td>\n    </tr>\n    <tr>\n      <th>1</th>\n      <td>20</td>\n      <td>1</td>\n      <td>0</td>\n      <td>0</td>\n      <td>Northeast Region</td>\n      <td>55317240</td>\n      <td>55318414</td>\n      <td>55380764</td>\n      <td>55608318</td>\n      <td>55782661</td>\n      <td>55912775</td>\n      <td>56021339</td>\n      <td>56052790</td>\n      <td>56063777</td>\n      <td>56083383</td>\n      <td>56084543</td>\n      <td>56002934</td>\n      <td>55924275</td>\n      <td>55849869</td>\n    </tr>\n    <tr>\n      <th>2</th>\n      <td>20</td>\n      <td>2</td>\n      <td>0</td>\n      <td>0</td>\n      <td>Midwest Region</td>\n      <td>66927001</td>\n      <td>66929737</td>\n      <td>66975328</td>\n      <td>67164092</td>\n      <td>67348275</td>\n      <td>67576524</td>\n      <td>67765576</td>\n      <td>67885682</td>\n      <td>68018175</td>\n      <td>68160342</td>\n      <td>68263019</td>\n      <td>68340091</td>\n      <td>68357895</td>\n      <td>68316744</td>\n    </tr>\n    <tr>\n      <th>3</th>\n      <td>20</td>\n      <td>3</td>\n      <td>0</td>\n      <td>0</td>\n      <td>South Region</td>\n      <td>114555744</td>\n      <td>114563042</td>\n      <td>114869421</td>\n      <td>116019483</td>\n      <td>117264196</td>\n      <td>118397213</td>\n      <td>119666248</td>\n      <td>121049223</td>\n      <td>122419547</td>\n      <td>123611036</td>\n      <td>124649156</td>\n      <td>125686544</td>\n      <td>126494232</td>\n      <td>126662754</td>\n    </tr>\n    <tr>\n      <th>4</th>\n      <td>20</td>\n      <td>4</td>\n      <td>0</td>\n      <td>0</td>\n      <td>West Region</td>\n      <td>71945553</td>\n      <td>71946912</td>\n      <td>72101630</td>\n      <td>72791588</td>\n      <td>73482530</td>\n      <td>74173435</td>\n      <td>74933166</td>\n      <td>75751299</td>\n      <td>76570256</td>\n      <td>77267367</td>\n      <td>77841481</td>\n      <td>78300384</td>\n      <td>78622340</td>\n      <td>78654756</td>\n    </tr>\n    <tr>\n      <th>5</th>\n      <td>40</td>\n      <td>3</td>\n      <td>6</td>\n      <td>1</td>\n      <td>Alabama</td>\n      <td>4779736</td>\n      <td>4780118</td>\n      <td>4785514</td>\n      <td>4799642</td>\n      <td>4816632</td>\n      <td>4831586</td>\n      <td>4843737</td>\n      <td>4854803</td>\n      <td>4866824</td>\n      <td>4877989</td>\n      <td>4891628</td>\n      <td>4907965</td>\n      <td>4920706</td>\n      <td>4921532</td>\n    </tr>\n    <tr>\n      <th>6</th>\n      <td>40</td>\n      <td>4</td>\n      <td>9</td>\n      <td>2</td>\n      <td>Alaska</td>\n      <td>710231</td>\n      <td>710246</td>\n      <td>713982</td>\n      <td>722349</td>\n      <td>730810</td>\n      <td>737626</td>\n      <td>737075</td>\n      <td>738430</td>\n      <td>742575</td>\n      <td>740983</td>\n      <td>736624</td>\n      <td>733603</td>\n      <td>732074</td>\n      <td>731158</td>\n    </tr>\n    <tr>\n      <th>7</th>\n      <td>40</td>\n      <td>4</td>\n      <td>8</td>\n      <td>4</td>\n      <td>Arizona</td>\n      <td>6392017</td>\n      <td>6392292</td>\n      <td>6407342</td>\n      <td>6473416</td>\n      <td>6556344</td>\n      <td>6634690</td>\n      <td>6732873</td>\n      <td>6832810</td>\n      <td>6944767</td>\n      <td>7048088</td>\n      <td>7164228</td>\n      <td>7291843</td>\n      <td>7393900</td>\n      <td>7421401</td>\n    </tr>\n    <tr>\n      <th>8</th>\n      <td>40</td>\n      <td>3</td>\n      <td>7</td>\n      <td>5</td>\n      <td>Arkansas</td>\n      <td>2915918</td>\n      <td>2916029</td>\n      <td>2921998</td>\n      <td>2941038</td>\n      <td>2952876</td>\n      <td>2960459</td>\n      <td>2968759</td>\n      <td>2979732</td>\n      <td>2991815</td>\n      <td>3003855</td>\n      <td>3012161</td>\n      <td>3020985</td>\n      <td>3029672</td>\n      <td>3030522</td>\n    </tr>\n    <tr>\n      <th>9</th>\n      <td>40</td>\n      <td>4</td>\n      <td>9</td>\n      <td>6</td>\n      <td>California</td>\n      <td>37253956</td>\n      <td>37254522</td>\n      <td>37319550</td>\n      <td>37636311</td>\n      <td>37944551</td>\n      <td>38253768</td>\n      <td>38586706</td>\n      <td>38904296</td>\n      <td>39149186</td>\n      <td>39337785</td>\n      <td>39437463</td>\n      <td>39437610</td>\n      <td>39418894</td>\n      <td>39368078</td>\n    </tr>\n    <tr>\n      <th>10</th>\n      <td>40</td>\n      <td>4</td>\n      <td>8</td>\n      <td>8</td>\n      <td>Colorado</td>\n      <td>5029196</td>\n      <td>5029319</td>\n      <td>5047539</td>\n      <td>5121900</td>\n      <td>5193660</td>\n      <td>5270774</td>\n      <td>5352637</td>\n      <td>5454328</td>\n      <td>5543844</td>\n      <td>5617421</td>\n      <td>5697155</td>\n      <td>5758486</td>\n      <td>5798266</td>\n      <td>5807719</td>\n    </tr>\n    <tr>\n      <th>11</th>\n      <td>40</td>\n      <td>1</td>\n      <td>1</td>\n      <td>9</td>\n      <td>Connecticut</td>\n      <td>3574097</td>\n      <td>3574151</td>\n      <td>3579173</td>\n      <td>3588632</td>\n      <td>3595211</td>\n      <td>3595792</td>\n      <td>3595697</td>\n      <td>3588561</td>\n      <td>3579830</td>\n      <td>3575324</td>\n      <td>3574561</td>\n      <td>3566022</td>\n      <td>3561494</td>\n      <td>3557006</td>\n    </tr>\n    <tr>\n      <th>12</th>\n      <td>40</td>\n      <td>3</td>\n      <td>5</td>\n      <td>10</td>\n      <td>Delaware</td>\n      <td>897934</td>\n      <td>897947</td>\n      <td>899647</td>\n      <td>907590</td>\n      <td>915518</td>\n      <td>924062</td>\n      <td>933131</td>\n      <td>942065</td>\n      <td>949989</td>\n      <td>957942</td>\n      <td>966985</td>\n      <td>976668</td>\n      <td>984899</td>\n      <td>986809</td>\n    </tr>\n    <tr>\n      <th>13</th>\n      <td>40</td>\n      <td>3</td>\n      <td>5</td>\n      <td>11</td>\n      <td>District of Columbia</td>\n      <td>601723</td>\n      <td>601767</td>\n      <td>605282</td>\n      <td>620290</td>\n      <td>635737</td>\n      <td>651559</td>\n      <td>663603</td>\n      <td>677014</td>\n      <td>687576</td>\n      <td>697079</td>\n      <td>704147</td>\n      <td>708253</td>\n      <td>712185</td>\n      <td>712816</td>\n    </tr>\n    <tr>\n      <th>14</th>\n      <td>40</td>\n      <td>3</td>\n      <td>5</td>\n      <td>12</td>\n      <td>Florida</td>\n      <td>18801310</td>\n      <td>18804589</td>\n      <td>18846143</td>\n      <td>19055607</td>\n      <td>19302016</td>\n      <td>19551678</td>\n      <td>19853880</td>\n      <td>20219111</td>\n      <td>20627237</td>\n      <td>20977089</td>\n      <td>21254926</td>\n      <td>21492056</td>\n      <td>21688239</td>\n      <td>21733312</td>\n    </tr>\n    <tr>\n      <th>15</th>\n      <td>40</td>\n      <td>3</td>\n      <td>5</td>\n      <td>13</td>\n      <td>Georgia</td>\n      <td>9687653</td>\n      <td>9688737</td>\n      <td>9712209</td>\n      <td>9803630</td>\n      <td>9903580</td>\n      <td>9975592</td>\n      <td>10071204</td>\n      <td>10183353</td>\n      <td>10308442</td>\n      <td>10417031</td>\n      <td>10519389</td>\n      <td>10628020</td>\n      <td>10695662</td>\n      <td>10710017</td>\n    </tr>\n    <tr>\n      <th>16</th>\n      <td>40</td>\n      <td>4</td>\n      <td>9</td>\n      <td>15</td>\n      <td>Hawaii</td>\n      <td>1360301</td>\n      <td>1360304</td>\n      <td>1364004</td>\n      <td>1379562</td>\n      <td>1395199</td>\n      <td>1408822</td>\n      <td>1415335</td>\n      <td>1422999</td>\n      <td>1428885</td>\n      <td>1425763</td>\n      <td>1423102</td>\n      <td>1415615</td>\n      <td>1410587</td>\n      <td>1407006</td>\n    </tr>\n    <tr>\n      <th>17</th>\n      <td>40</td>\n      <td>4</td>\n      <td>8</td>\n      <td>16</td>\n      <td>Idaho</td>\n      <td>1567582</td>\n      <td>1567658</td>\n      <td>1570819</td>\n      <td>1584272</td>\n      <td>1595910</td>\n      <td>1612053</td>\n      <td>1632248</td>\n      <td>1652495</td>\n      <td>1684036</td>\n      <td>1719745</td>\n      <td>1752074</td>\n      <td>1789060</td>\n      <td>1818238</td>\n      <td>1826913</td>\n    </tr>\n    <tr>\n      <th>18</th>\n      <td>40</td>\n      <td>2</td>\n      <td>3</td>\n      <td>17</td>\n      <td>Illinois</td>\n      <td>12830632</td>\n      <td>12831572</td>\n      <td>12840545</td>\n      <td>12867783</td>\n      <td>12883029</td>\n      <td>12895778</td>\n      <td>12885092</td>\n      <td>12859585</td>\n      <td>12821709</td>\n      <td>12779893</td>\n      <td>12724685</td>\n      <td>12667017</td>\n      <td>12615162</td>\n      <td>12587530</td>\n    </tr>\n    <tr>\n      <th>19</th>\n      <td>40</td>\n      <td>2</td>\n      <td>3</td>\n      <td>18</td>\n      <td>Indiana</td>\n      <td>6483802</td>\n      <td>6484050</td>\n      <td>6490555</td>\n      <td>6517250</td>\n      <td>6538989</td>\n      <td>6570575</td>\n      <td>6596019</td>\n      <td>6611442</td>\n      <td>6637898</td>\n      <td>6662068</td>\n      <td>6698481</td>\n      <td>6731010</td>\n      <td>6752183</td>\n      <td>6754953</td>\n    </tr>\n    <tr>\n      <th>20</th>\n      <td>40</td>\n      <td>2</td>\n      <td>4</td>\n      <td>19</td>\n      <td>Iowa</td>\n      <td>3046355</td>\n      <td>3046877</td>\n      <td>3050819</td>\n      <td>3066772</td>\n      <td>3076844</td>\n      <td>3093935</td>\n      <td>3110643</td>\n      <td>3122541</td>\n      <td>3133210</td>\n      <td>3143734</td>\n      <td>3149900</td>\n      <td>3159596</td>\n      <td>3164115</td>\n      <td>3163561</td>\n    </tr>\n    <tr>\n      <th>21</th>\n      <td>40</td>\n      <td>2</td>\n      <td>4</td>\n      <td>20</td>\n      <td>Kansas</td>\n      <td>2853118</td>\n      <td>2853120</td>\n      <td>2858266</td>\n      <td>2869677</td>\n      <td>2886024</td>\n      <td>2894306</td>\n      <td>2901861</td>\n      <td>2910717</td>\n      <td>2912977</td>\n      <td>2910892</td>\n      <td>2912748</td>\n      <td>2912635</td>\n      <td>2915024</td>\n      <td>2913805</td>\n    </tr>\n    <tr>\n      <th>22</th>\n      <td>40</td>\n      <td>3</td>\n      <td>6</td>\n      <td>21</td>\n      <td>Kentucky</td>\n      <td>4339367</td>\n      <td>4339330</td>\n      <td>4348464</td>\n      <td>4370817</td>\n      <td>4387865</td>\n      <td>4406906</td>\n      <td>4416992</td>\n      <td>4429126</td>\n      <td>4440306</td>\n      <td>4455590</td>\n      <td>4464273</td>\n      <td>4472345</td>\n      <td>4477899</td>\n      <td>4477251</td>\n    </tr>\n    <tr>\n      <th>23</th>\n      <td>40</td>\n      <td>3</td>\n      <td>7</td>\n      <td>22</td>\n      <td>Louisiana</td>\n      <td>4533372</td>\n      <td>4533500</td>\n      <td>4544635</td>\n      <td>4576244</td>\n      <td>4602067</td>\n      <td>4626040</td>\n      <td>4645938</td>\n      <td>4666998</td>\n      <td>4681346</td>\n      <td>4673673</td>\n      <td>4664450</td>\n      <td>4658285</td>\n      <td>4650984</td>\n      <td>4645318</td>\n    </tr>\n    <tr>\n      <th>24</th>\n      <td>40</td>\n      <td>1</td>\n      <td>1</td>\n      <td>23</td>\n      <td>Maine</td>\n      <td>1328361</td>\n      <td>1328354</td>\n      <td>1327651</td>\n      <td>1328473</td>\n      <td>1328094</td>\n      <td>1328543</td>\n      <td>1331217</td>\n      <td>1329098</td>\n      <td>1332348</td>\n      <td>1335743</td>\n      <td>1340123</td>\n      <td>1345770</td>\n      <td>1349647</td>\n      <td>1350141</td>\n    </tr>\n    <tr>\n      <th>25</th>\n      <td>40</td>\n      <td>3</td>\n      <td>5</td>\n      <td>24</td>\n      <td>Maryland</td>\n      <td>5773552</td>\n      <td>5773787</td>\n      <td>5788784</td>\n      <td>5840241</td>\n      <td>5888375</td>\n      <td>5925197</td>\n      <td>5960064</td>\n      <td>5988528</td>\n      <td>6007014</td>\n      <td>6028186</td>\n      <td>6042153</td>\n      <td>6054954</td>\n      <td>6059529</td>\n      <td>6055802</td>\n    </tr>\n    <tr>\n      <th>26</th>\n      <td>40</td>\n      <td>1</td>\n      <td>1</td>\n      <td>25</td>\n      <td>Massachusetts</td>\n      <td>6547629</td>\n      <td>6547788</td>\n      <td>6566440</td>\n      <td>6614218</td>\n      <td>6664269</td>\n      <td>6715158</td>\n      <td>6764864</td>\n      <td>6797484</td>\n      <td>6827280</td>\n      <td>6863560</td>\n      <td>6885720</td>\n      <td>6894883</td>\n      <td>6898116</td>\n      <td>6893574</td>\n    </tr>\n    <tr>\n      <th>27</th>\n      <td>40</td>\n      <td>2</td>\n      <td>3</td>\n      <td>26</td>\n      <td>Michigan</td>\n      <td>9883640</td>\n      <td>9884112</td>\n      <td>9877597</td>\n      <td>9883053</td>\n      <td>9898289</td>\n      <td>9914802</td>\n      <td>9932033</td>\n      <td>9934483</td>\n      <td>9954117</td>\n      <td>9976752</td>\n      <td>9987286</td>\n      <td>9984795</td>\n      <td>9976330</td>\n      <td>9966555</td>\n    </tr>\n    <tr>\n      <th>28</th>\n      <td>40</td>\n      <td>2</td>\n      <td>4</td>\n      <td>27</td>\n      <td>Minnesota</td>\n      <td>5303925</td>\n      <td>5303933</td>\n      <td>5310934</td>\n      <td>5346620</td>\n      <td>5377500</td>\n      <td>5414722</td>\n      <td>5452665</td>\n      <td>5484002</td>\n      <td>5525360</td>\n      <td>5569283</td>\n      <td>5608762</td>\n      <td>5640053</td>\n      <td>5655855</td>\n      <td>5657342</td>\n    </tr>\n    <tr>\n      <th>29</th>\n      <td>40</td>\n      <td>3</td>\n      <td>6</td>\n      <td>28</td>\n      <td>Mississippi</td>\n      <td>2967297</td>\n      <td>2968129</td>\n      <td>2970615</td>\n      <td>2979147</td>\n      <td>2984599</td>\n      <td>2989839</td>\n      <td>2991892</td>\n      <td>2990231</td>\n      <td>2990595</td>\n      <td>2990674</td>\n      <td>2982879</td>\n      <td>2978227</td>\n      <td>2971253</td>\n      <td>2966786</td>\n    </tr>\n    <tr>\n      <th>30</th>\n      <td>40</td>\n      <td>2</td>\n      <td>4</td>\n      <td>29</td>\n      <td>Missouri</td>\n      <td>5988927</td>\n      <td>5988941</td>\n      <td>5996089</td>\n      <td>6011182</td>\n      <td>6026027</td>\n      <td>6042989</td>\n      <td>6059130</td>\n      <td>6075411</td>\n      <td>6091384</td>\n      <td>6111382</td>\n      <td>6125986</td>\n      <td>6140475</td>\n      <td>6151737</td>\n      <td>6151548</td>\n    </tr>\n    <tr>\n      <th>31</th>\n      <td>40</td>\n      <td>4</td>\n      <td>8</td>\n      <td>30</td>\n      <td>Montana</td>\n      <td>989415</td>\n      <td>989400</td>\n      <td>990730</td>\n      <td>997518</td>\n      <td>1004168</td>\n      <td>1014158</td>\n      <td>1022657</td>\n      <td>1031495</td>\n      <td>1042137</td>\n      <td>1053862</td>\n      <td>1061818</td>\n      <td>1070123</td>\n      <td>1078405</td>\n      <td>1080577</td>\n    </tr>\n    <tr>\n      <th>32</th>\n      <td>40</td>\n      <td>2</td>\n      <td>4</td>\n      <td>31</td>\n      <td>Nebraska</td>\n      <td>1826341</td>\n      <td>1826311</td>\n      <td>1829591</td>\n      <td>1840914</td>\n      <td>1853691</td>\n      <td>1865813</td>\n      <td>1879955</td>\n      <td>1892059</td>\n      <td>1906483</td>\n      <td>1916998</td>\n      <td>1925512</td>\n      <td>1932571</td>\n      <td>1937258</td>\n      <td>1937552</td>\n    </tr>\n    <tr>\n      <th>33</th>\n      <td>40</td>\n      <td>4</td>\n      <td>8</td>\n      <td>32</td>\n      <td>Nevada</td>\n      <td>2700551</td>\n      <td>2700683</td>\n      <td>2702483</td>\n      <td>2713114</td>\n      <td>2744670</td>\n      <td>2776956</td>\n      <td>2818935</td>\n      <td>2868531</td>\n      <td>2919555</td>\n      <td>2972097</td>\n      <td>3030725</td>\n      <td>3090771</td>\n      <td>3128500</td>\n      <td>3138259</td>\n    </tr>\n    <tr>\n      <th>34</th>\n      <td>40</td>\n      <td>1</td>\n      <td>1</td>\n      <td>33</td>\n      <td>New Hampshire</td>\n      <td>1316470</td>\n      <td>1316457</td>\n      <td>1316807</td>\n      <td>1320444</td>\n      <td>1324677</td>\n      <td>1327272</td>\n      <td>1334257</td>\n      <td>1337480</td>\n      <td>1343694</td>\n      <td>1350395</td>\n      <td>1355064</td>\n      <td>1360783</td>\n      <td>1365533</td>\n      <td>1366275</td>\n    </tr>\n    <tr>\n      <th>35</th>\n      <td>40</td>\n      <td>1</td>\n      <td>2</td>\n      <td>34</td>\n      <td>New Jersey</td>\n      <td>8791894</td>\n      <td>8791959</td>\n      <td>8799451</td>\n      <td>8828552</td>\n      <td>8845671</td>\n      <td>8857821</td>\n      <td>8867277</td>\n      <td>8870312</td>\n      <td>8873584</td>\n      <td>8888147</td>\n      <td>8891730</td>\n      <td>8891258</td>\n      <td>8890883</td>\n      <td>8882371</td>\n    </tr>\n    <tr>\n      <th>36</th>\n      <td>40</td>\n      <td>4</td>\n      <td>8</td>\n      <td>35</td>\n      <td>New Mexico</td>\n      <td>2059179</td>\n      <td>2059199</td>\n      <td>2064614</td>\n      <td>2080707</td>\n      <td>2087715</td>\n      <td>2092833</td>\n      <td>2090236</td>\n      <td>2090071</td>\n      <td>2092555</td>\n      <td>2092844</td>\n      <td>2093754</td>\n      <td>2099634</td>\n      <td>2106117</td>\n      <td>2106319</td>\n    </tr>\n    <tr>\n      <th>37</th>\n      <td>40</td>\n      <td>1</td>\n      <td>2</td>\n      <td>36</td>\n      <td>New York</td>\n      <td>19378102</td>\n      <td>19378117</td>\n      <td>19399956</td>\n      <td>19499921</td>\n      <td>19574362</td>\n      <td>19626488</td>\n      <td>19653431</td>\n      <td>19657321</td>\n      <td>19636391</td>\n      <td>19593849</td>\n      <td>19544098</td>\n      <td>19463131</td>\n      <td>19382373</td>\n      <td>19336776</td>\n    </tr>\n    <tr>\n      <th>38</th>\n      <td>40</td>\n      <td>3</td>\n      <td>5</td>\n      <td>37</td>\n      <td>North Carolina</td>\n      <td>9535483</td>\n      <td>9535762</td>\n      <td>9574586</td>\n      <td>9658913</td>\n      <td>9751810</td>\n      <td>9846717</td>\n      <td>9937295</td>\n      <td>10037218</td>\n      <td>10161802</td>\n      <td>10275758</td>\n      <td>10391358</td>\n      <td>10501384</td>\n      <td>10581885</td>\n      <td>10600823</td>\n    </tr>\n    <tr>\n      <th>39</th>\n      <td>40</td>\n      <td>2</td>\n      <td>4</td>\n      <td>38</td>\n      <td>North Dakota</td>\n      <td>672591</td>\n      <td>672575</td>\n      <td>674752</td>\n      <td>685526</td>\n      <td>702227</td>\n      <td>723149</td>\n      <td>738736</td>\n      <td>755537</td>\n      <td>756114</td>\n      <td>756755</td>\n      <td>760062</td>\n      <td>763724</td>\n      <td>765224</td>\n      <td>765309</td>\n    </tr>\n    <tr>\n      <th>40</th>\n      <td>40</td>\n      <td>2</td>\n      <td>3</td>\n      <td>39</td>\n      <td>Ohio</td>\n      <td>11536504</td>\n      <td>11536763</td>\n      <td>11539449</td>\n      <td>11545735</td>\n      <td>11550971</td>\n      <td>11579692</td>\n      <td>11606573</td>\n      <td>11622315</td>\n      <td>11640060</td>\n      <td>11665706</td>\n      <td>11680892</td>\n      <td>11696507</td>\n      <td>11699855</td>\n      <td>11693217</td>\n    </tr>\n    <tr>\n      <th>41</th>\n      <td>40</td>\n      <td>3</td>\n      <td>7</td>\n      <td>40</td>\n      <td>Oklahoma</td>\n      <td>3751351</td>\n      <td>3751582</td>\n      <td>3760014</td>\n      <td>3788824</td>\n      <td>3819320</td>\n      <td>3853891</td>\n      <td>3879187</td>\n      <td>3910518</td>\n      <td>3928143</td>\n      <td>3933602</td>\n      <td>3943488</td>\n      <td>3960676</td>\n      <td>3977682</td>\n      <td>3980783</td>\n    </tr>\n    <tr>\n      <th>42</th>\n      <td>40</td>\n      <td>4</td>\n      <td>9</td>\n      <td>41</td>\n      <td>Oregon</td>\n      <td>3831074</td>\n      <td>3831083</td>\n      <td>3837614</td>\n      <td>3872672</td>\n      <td>3900102</td>\n      <td>3924110</td>\n      <td>3965447</td>\n      <td>4018542</td>\n      <td>4093271</td>\n      <td>4147294</td>\n      <td>4183538</td>\n      <td>4216116</td>\n      <td>4237408</td>\n      <td>4241507</td>\n    </tr>\n    <tr>\n      <th>43</th>\n      <td>40</td>\n      <td>1</td>\n      <td>2</td>\n      <td>42</td>\n      <td>Pennsylvania</td>\n      <td>12702379</td>\n      <td>12702891</td>\n      <td>12711406</td>\n      <td>12747052</td>\n      <td>12769123</td>\n      <td>12779538</td>\n      <td>12792392</td>\n      <td>12789838</td>\n      <td>12788468</td>\n      <td>12794679</td>\n      <td>12809107</td>\n      <td>12798883</td>\n      <td>12794404</td>\n      <td>12783254</td>\n    </tr>\n    <tr>\n      <th>44</th>\n      <td>40</td>\n      <td>1</td>\n      <td>1</td>\n      <td>44</td>\n      <td>Rhode Island</td>\n      <td>1052567</td>\n      <td>1052970</td>\n      <td>1053994</td>\n      <td>1053829</td>\n      <td>1054893</td>\n      <td>1055560</td>\n      <td>1056511</td>\n      <td>1056886</td>\n      <td>1057816</td>\n      <td>1056554</td>\n      <td>1059338</td>\n      <td>1058158</td>\n      <td>1058004</td>\n      <td>1057125</td>\n    </tr>\n    <tr>\n      <th>45</th>\n      <td>40</td>\n      <td>3</td>\n      <td>5</td>\n      <td>45</td>\n      <td>South Carolina</td>\n      <td>4625364</td>\n      <td>4625358</td>\n      <td>4635846</td>\n      <td>4672655</td>\n      <td>4719027</td>\n      <td>4766469</td>\n      <td>4826858</td>\n      <td>4896006</td>\n      <td>4963031</td>\n      <td>5027102</td>\n      <td>5091702</td>\n      <td>5157702</td>\n      <td>5205864</td>\n      <td>5218040</td>\n    </tr>\n    <tr>\n      <th>46</th>\n      <td>40</td>\n      <td>2</td>\n      <td>4</td>\n      <td>46</td>\n      <td>South Dakota</td>\n      <td>814180</td>\n      <td>814198</td>\n      <td>816193</td>\n      <td>823740</td>\n      <td>833859</td>\n      <td>842751</td>\n      <td>849670</td>\n      <td>854663</td>\n      <td>863693</td>\n      <td>873732</td>\n      <td>879386</td>\n      <td>887127</td>\n      <td>891688</td>\n      <td>892717</td>\n    </tr>\n    <tr>\n      <th>47</th>\n      <td>40</td>\n      <td>3</td>\n      <td>6</td>\n      <td>47</td>\n      <td>Tennessee</td>\n      <td>6346105</td>\n      <td>6346281</td>\n      <td>6355518</td>\n      <td>6400298</td>\n      <td>6455752</td>\n      <td>6496943</td>\n      <td>6544617</td>\n      <td>6595354</td>\n      <td>6651277</td>\n      <td>6714748</td>\n      <td>6778180</td>\n      <td>6830325</td>\n      <td>6875939</td>\n      <td>6886834</td>\n    </tr>\n    <tr>\n      <th>48</th>\n      <td>40</td>\n      <td>3</td>\n      <td>7</td>\n      <td>48</td>\n      <td>Texas</td>\n      <td>25145561</td>\n      <td>25146072</td>\n      <td>25241897</td>\n      <td>25645504</td>\n      <td>26084120</td>\n      <td>26479646</td>\n      <td>26963092</td>\n      <td>27468531</td>\n      <td>27914064</td>\n      <td>28291024</td>\n      <td>28624564</td>\n      <td>28986794</td>\n      <td>29286467</td>\n      <td>29360759</td>\n    </tr>\n    <tr>\n      <th>49</th>\n      <td>40</td>\n      <td>4</td>\n      <td>8</td>\n      <td>49</td>\n      <td>Utah</td>\n      <td>2763885</td>\n      <td>2763891</td>\n      <td>2775413</td>\n      <td>2814797</td>\n      <td>2854146</td>\n      <td>2898773</td>\n      <td>2938327</td>\n      <td>2983626</td>\n      <td>3044241</td>\n      <td>3103540</td>\n      <td>3155153</td>\n      <td>3203383</td>\n      <td>3239542</td>\n      <td>3249879</td>\n    </tr>\n    <tr>\n      <th>50</th>\n      <td>40</td>\n      <td>1</td>\n      <td>1</td>\n      <td>50</td>\n      <td>Vermont</td>\n      <td>625741</td>\n      <td>625727</td>\n      <td>625886</td>\n      <td>627197</td>\n      <td>626361</td>\n      <td>626603</td>\n      <td>625693</td>\n      <td>625810</td>\n      <td>624366</td>\n      <td>625132</td>\n      <td>624802</td>\n      <td>624046</td>\n      <td>623821</td>\n      <td>623347</td>\n    </tr>\n    <tr>\n      <th>51</th>\n      <td>40</td>\n      <td>3</td>\n      <td>5</td>\n      <td>51</td>\n      <td>Virginia</td>\n      <td>8001024</td>\n      <td>8001046</td>\n      <td>8024004</td>\n      <td>8102437</td>\n      <td>8187456</td>\n      <td>8255861</td>\n      <td>8315430</td>\n      <td>8367303</td>\n      <td>8417651</td>\n      <td>8471011</td>\n      <td>8510920</td>\n      <td>8556642</td>\n      <td>8587217</td>\n      <td>8590563</td>\n    </tr>\n    <tr>\n      <th>52</th>\n      <td>40</td>\n      <td>4</td>\n      <td>9</td>\n      <td>53</td>\n      <td>Washington</td>\n      <td>6724540</td>\n      <td>6724540</td>\n      <td>6743009</td>\n      <td>6827479</td>\n      <td>6898599</td>\n      <td>6966252</td>\n      <td>7057531</td>\n      <td>7167287</td>\n      <td>7299961</td>\n      <td>7427951</td>\n      <td>7526793</td>\n      <td>7614024</td>\n      <td>7678379</td>\n      <td>7693612</td>\n    </tr>\n    <tr>\n      <th>53</th>\n      <td>40</td>\n      <td>3</td>\n      <td>5</td>\n      <td>54</td>\n      <td>West Virginia</td>\n      <td>1852994</td>\n      <td>1853008</td>\n      <td>1854265</td>\n      <td>1856606</td>\n      <td>1857446</td>\n      <td>1854768</td>\n      <td>1850569</td>\n      <td>1843332</td>\n      <td>1832435</td>\n      <td>1818683</td>\n      <td>1805953</td>\n      <td>1795263</td>\n      <td>1788150</td>\n      <td>1784787</td>\n    </tr>\n    <tr>\n      <th>54</th>\n      <td>40</td>\n      <td>2</td>\n      <td>3</td>\n      <td>55</td>\n      <td>Wisconsin</td>\n      <td>5686986</td>\n      <td>5687285</td>\n      <td>5690538</td>\n      <td>5705840</td>\n      <td>5720825</td>\n      <td>5738012</td>\n      <td>5753199</td>\n      <td>5762927</td>\n      <td>5775170</td>\n      <td>5793147</td>\n      <td>5809319</td>\n      <td>5824581</td>\n      <td>5833464</td>\n      <td>5832655</td>\n    </tr>\n    <tr>\n      <th>55</th>\n      <td>40</td>\n      <td>4</td>\n      <td>8</td>\n      <td>56</td>\n      <td>Wyoming</td>\n      <td>563626</td>\n      <td>563775</td>\n      <td>564531</td>\n      <td>567491</td>\n      <td>576656</td>\n      <td>582620</td>\n      <td>583159</td>\n      <td>586389</td>\n      <td>585243</td>\n      <td>579994</td>\n      <td>579054</td>\n      <td>580116</td>\n      <td>582030</td>\n      <td>582328</td>\n    </tr>\n    <tr>\n      <th>56</th>\n      <td>40</td>\n      <td>X</td>\n      <td>X</td>\n      <td>72</td>\n      <td>Puerto Rico</td>\n      <td>3725789</td>\n      <td>3726157</td>\n      <td>3721525</td>\n      <td>3678732</td>\n      <td>3634488</td>\n      <td>3593077</td>\n      <td>3534874</td>\n      <td>3473232</td>\n      <td>3406672</td>\n      <td>3325284</td>\n      <td>3193344</td>\n      <td>3193553</td>\n      <td>3167851</td>\n      <td>3159343</td>\n    </tr>\n  </tbody>\n</table>\n</div>"
     },
     "execution_count": 17,
     "metadata": {},
     "output_type": "execute_result"
    }
   ],
   "source": [
    "state_pops"
   ]
  },
  {
   "cell_type": "code",
   "execution_count": 18,
   "id": "c4a1ba7d",
   "metadata": {},
   "outputs": [
    {
     "data": {
      "text/plain": "    sumlev region division  state                  name  census2010pop  \\\n5       40      3        6      1               Alabama        4779736   \n6       40      4        9      2                Alaska         710231   \n7       40      4        8      4               Arizona        6392017   \n8       40      3        7      5              Arkansas        2915918   \n9       40      4        9      6            California       37253956   \n10      40      4        8      8              Colorado        5029196   \n11      40      1        1      9           Connecticut        3574097   \n12      40      3        5     10              Delaware         897934   \n13      40      3        5     11  District of Columbia         601723   \n14      40      3        5     12               Florida       18801310   \n15      40      3        5     13               Georgia        9687653   \n16      40      4        9     15                Hawaii        1360301   \n17      40      4        8     16                 Idaho        1567582   \n18      40      2        3     17              Illinois       12830632   \n19      40      2        3     18               Indiana        6483802   \n20      40      2        4     19                  Iowa        3046355   \n21      40      2        4     20                Kansas        2853118   \n22      40      3        6     21              Kentucky        4339367   \n23      40      3        7     22             Louisiana        4533372   \n24      40      1        1     23                 Maine        1328361   \n25      40      3        5     24              Maryland        5773552   \n26      40      1        1     25         Massachusetts        6547629   \n27      40      2        3     26              Michigan        9883640   \n28      40      2        4     27             Minnesota        5303925   \n29      40      3        6     28           Mississippi        2967297   \n30      40      2        4     29              Missouri        5988927   \n31      40      4        8     30               Montana         989415   \n32      40      2        4     31              Nebraska        1826341   \n33      40      4        8     32                Nevada        2700551   \n34      40      1        1     33         New Hampshire        1316470   \n35      40      1        2     34            New Jersey        8791894   \n36      40      4        8     35            New Mexico        2059179   \n37      40      1        2     36              New York       19378102   \n38      40      3        5     37        North Carolina        9535483   \n39      40      2        4     38          North Dakota         672591   \n40      40      2        3     39                  Ohio       11536504   \n41      40      3        7     40              Oklahoma        3751351   \n42      40      4        9     41                Oregon        3831074   \n43      40      1        2     42          Pennsylvania       12702379   \n44      40      1        1     44          Rhode Island        1052567   \n45      40      3        5     45        South Carolina        4625364   \n46      40      2        4     46          South Dakota         814180   \n47      40      3        6     47             Tennessee        6346105   \n48      40      3        7     48                 Texas       25145561   \n49      40      4        8     49                  Utah        2763885   \n50      40      1        1     50               Vermont         625741   \n51      40      3        5     51              Virginia        8001024   \n52      40      4        9     53            Washington        6724540   \n53      40      3        5     54         West Virginia        1852994   \n54      40      2        3     55             Wisconsin        5686986   \n55      40      4        8     56               Wyoming         563626   \n\n    estimatesbase2010  popestimate2010  popestimate2011  popestimate2012  \\\n5             4780118          4785514          4799642          4816632   \n6              710246           713982           722349           730810   \n7             6392292          6407342          6473416          6556344   \n8             2916029          2921998          2941038          2952876   \n9            37254522         37319550         37636311         37944551   \n10            5029319          5047539          5121900          5193660   \n11            3574151          3579173          3588632          3595211   \n12             897947           899647           907590           915518   \n13             601767           605282           620290           635737   \n14           18804589         18846143         19055607         19302016   \n15            9688737          9712209          9803630          9903580   \n16            1360304          1364004          1379562          1395199   \n17            1567658          1570819          1584272          1595910   \n18           12831572         12840545         12867783         12883029   \n19            6484050          6490555          6517250          6538989   \n20            3046877          3050819          3066772          3076844   \n21            2853120          2858266          2869677          2886024   \n22            4339330          4348464          4370817          4387865   \n23            4533500          4544635          4576244          4602067   \n24            1328354          1327651          1328473          1328094   \n25            5773787          5788784          5840241          5888375   \n26            6547788          6566440          6614218          6664269   \n27            9884112          9877597          9883053          9898289   \n28            5303933          5310934          5346620          5377500   \n29            2968129          2970615          2979147          2984599   \n30            5988941          5996089          6011182          6026027   \n31             989400           990730           997518          1004168   \n32            1826311          1829591          1840914          1853691   \n33            2700683          2702483          2713114          2744670   \n34            1316457          1316807          1320444          1324677   \n35            8791959          8799451          8828552          8845671   \n36            2059199          2064614          2080707          2087715   \n37           19378117         19399956         19499921         19574362   \n38            9535762          9574586          9658913          9751810   \n39             672575           674752           685526           702227   \n40           11536763         11539449         11545735         11550971   \n41            3751582          3760014          3788824          3819320   \n42            3831083          3837614          3872672          3900102   \n43           12702891         12711406         12747052         12769123   \n44            1052970          1053994          1053829          1054893   \n45            4625358          4635846          4672655          4719027   \n46             814198           816193           823740           833859   \n47            6346281          6355518          6400298          6455752   \n48           25146072         25241897         25645504         26084120   \n49            2763891          2775413          2814797          2854146   \n50             625727           625886           627197           626361   \n51            8001046          8024004          8102437          8187456   \n52            6724540          6743009          6827479          6898599   \n53            1853008          1854265          1856606          1857446   \n54            5687285          5690538          5705840          5720825   \n55             563775           564531           567491           576656   \n\n    popestimate2013  popestimate2014  popestimate2015  popestimate2016  \\\n5           4831586          4843737          4854803          4866824   \n6            737626           737075           738430           742575   \n7           6634690          6732873          6832810          6944767   \n8           2960459          2968759          2979732          2991815   \n9          38253768         38586706         38904296         39149186   \n10          5270774          5352637          5454328          5543844   \n11          3595792          3595697          3588561          3579830   \n12           924062           933131           942065           949989   \n13           651559           663603           677014           687576   \n14         19551678         19853880         20219111         20627237   \n15          9975592         10071204         10183353         10308442   \n16          1408822          1415335          1422999          1428885   \n17          1612053          1632248          1652495          1684036   \n18         12895778         12885092         12859585         12821709   \n19          6570575          6596019          6611442          6637898   \n20          3093935          3110643          3122541          3133210   \n21          2894306          2901861          2910717          2912977   \n22          4406906          4416992          4429126          4440306   \n23          4626040          4645938          4666998          4681346   \n24          1328543          1331217          1329098          1332348   \n25          5925197          5960064          5988528          6007014   \n26          6715158          6764864          6797484          6827280   \n27          9914802          9932033          9934483          9954117   \n28          5414722          5452665          5484002          5525360   \n29          2989839          2991892          2990231          2990595   \n30          6042989          6059130          6075411          6091384   \n31          1014158          1022657          1031495          1042137   \n32          1865813          1879955          1892059          1906483   \n33          2776956          2818935          2868531          2919555   \n34          1327272          1334257          1337480          1343694   \n35          8857821          8867277          8870312          8873584   \n36          2092833          2090236          2090071          2092555   \n37         19626488         19653431         19657321         19636391   \n38          9846717          9937295         10037218         10161802   \n39           723149           738736           755537           756114   \n40         11579692         11606573         11622315         11640060   \n41          3853891          3879187          3910518          3928143   \n42          3924110          3965447          4018542          4093271   \n43         12779538         12792392         12789838         12788468   \n44          1055560          1056511          1056886          1057816   \n45          4766469          4826858          4896006          4963031   \n46           842751           849670           854663           863693   \n47          6496943          6544617          6595354          6651277   \n48         26479646         26963092         27468531         27914064   \n49          2898773          2938327          2983626          3044241   \n50           626603           625693           625810           624366   \n51          8255861          8315430          8367303          8417651   \n52          6966252          7057531          7167287          7299961   \n53          1854768          1850569          1843332          1832435   \n54          5738012          5753199          5762927          5775170   \n55           582620           583159           586389           585243   \n\n    popestimate2017  popestimate2018  popestimate2019  popestimate042020  \\\n5           4877989          4891628          4907965            4920706   \n6            740983           736624           733603             732074   \n7           7048088          7164228          7291843            7393900   \n8           3003855          3012161          3020985            3029672   \n9          39337785         39437463         39437610           39418894   \n10          5617421          5697155          5758486            5798266   \n11          3575324          3574561          3566022            3561494   \n12           957942           966985           976668             984899   \n13           697079           704147           708253             712185   \n14         20977089         21254926         21492056           21688239   \n15         10417031         10519389         10628020           10695662   \n16          1425763          1423102          1415615            1410587   \n17          1719745          1752074          1789060            1818238   \n18         12779893         12724685         12667017           12615162   \n19          6662068          6698481          6731010            6752183   \n20          3143734          3149900          3159596            3164115   \n21          2910892          2912748          2912635            2915024   \n22          4455590          4464273          4472345            4477899   \n23          4673673          4664450          4658285            4650984   \n24          1335743          1340123          1345770            1349647   \n25          6028186          6042153          6054954            6059529   \n26          6863560          6885720          6894883            6898116   \n27          9976752          9987286          9984795            9976330   \n28          5569283          5608762          5640053            5655855   \n29          2990674          2982879          2978227            2971253   \n30          6111382          6125986          6140475            6151737   \n31          1053862          1061818          1070123            1078405   \n32          1916998          1925512          1932571            1937258   \n33          2972097          3030725          3090771            3128500   \n34          1350395          1355064          1360783            1365533   \n35          8888147          8891730          8891258            8890883   \n36          2092844          2093754          2099634            2106117   \n37         19593849         19544098         19463131           19382373   \n38         10275758         10391358         10501384           10581885   \n39           756755           760062           763724             765224   \n40         11665706         11680892         11696507           11699855   \n41          3933602          3943488          3960676            3977682   \n42          4147294          4183538          4216116            4237408   \n43         12794679         12809107         12798883           12794404   \n44          1056554          1059338          1058158            1058004   \n45          5027102          5091702          5157702            5205864   \n46           873732           879386           887127             891688   \n47          6714748          6778180          6830325            6875939   \n48         28291024         28624564         28986794           29286467   \n49          3103540          3155153          3203383            3239542   \n50           625132           624802           624046             623821   \n51          8471011          8510920          8556642            8587217   \n52          7427951          7526793          7614024            7678379   \n53          1818683          1805953          1795263            1788150   \n54          5793147          5809319          5824581            5833464   \n55           579994           579054           580116             582030   \n\n    popestimate2020  \n5           4921532  \n6            731158  \n7           7421401  \n8           3030522  \n9          39368078  \n10          5807719  \n11          3557006  \n12           986809  \n13           712816  \n14         21733312  \n15         10710017  \n16          1407006  \n17          1826913  \n18         12587530  \n19          6754953  \n20          3163561  \n21          2913805  \n22          4477251  \n23          4645318  \n24          1350141  \n25          6055802  \n26          6893574  \n27          9966555  \n28          5657342  \n29          2966786  \n30          6151548  \n31          1080577  \n32          1937552  \n33          3138259  \n34          1366275  \n35          8882371  \n36          2106319  \n37         19336776  \n38         10600823  \n39           765309  \n40         11693217  \n41          3980783  \n42          4241507  \n43         12783254  \n44          1057125  \n45          5218040  \n46           892717  \n47          6886834  \n48         29360759  \n49          3249879  \n50           623347  \n51          8590563  \n52          7693612  \n53          1784787  \n54          5832655  \n55           582328  ",
      "text/html": "<div>\n<style scoped>\n    .dataframe tbody tr th:only-of-type {\n        vertical-align: middle;\n    }\n\n    .dataframe tbody tr th {\n        vertical-align: top;\n    }\n\n    .dataframe thead th {\n        text-align: right;\n    }\n</style>\n<table border=\"1\" class=\"dataframe\">\n  <thead>\n    <tr style=\"text-align: right;\">\n      <th></th>\n      <th>sumlev</th>\n      <th>region</th>\n      <th>division</th>\n      <th>state</th>\n      <th>name</th>\n      <th>census2010pop</th>\n      <th>estimatesbase2010</th>\n      <th>popestimate2010</th>\n      <th>popestimate2011</th>\n      <th>popestimate2012</th>\n      <th>popestimate2013</th>\n      <th>popestimate2014</th>\n      <th>popestimate2015</th>\n      <th>popestimate2016</th>\n      <th>popestimate2017</th>\n      <th>popestimate2018</th>\n      <th>popestimate2019</th>\n      <th>popestimate042020</th>\n      <th>popestimate2020</th>\n    </tr>\n  </thead>\n  <tbody>\n    <tr>\n      <th>5</th>\n      <td>40</td>\n      <td>3</td>\n      <td>6</td>\n      <td>1</td>\n      <td>Alabama</td>\n      <td>4779736</td>\n      <td>4780118</td>\n      <td>4785514</td>\n      <td>4799642</td>\n      <td>4816632</td>\n      <td>4831586</td>\n      <td>4843737</td>\n      <td>4854803</td>\n      <td>4866824</td>\n      <td>4877989</td>\n      <td>4891628</td>\n      <td>4907965</td>\n      <td>4920706</td>\n      <td>4921532</td>\n    </tr>\n    <tr>\n      <th>6</th>\n      <td>40</td>\n      <td>4</td>\n      <td>9</td>\n      <td>2</td>\n      <td>Alaska</td>\n      <td>710231</td>\n      <td>710246</td>\n      <td>713982</td>\n      <td>722349</td>\n      <td>730810</td>\n      <td>737626</td>\n      <td>737075</td>\n      <td>738430</td>\n      <td>742575</td>\n      <td>740983</td>\n      <td>736624</td>\n      <td>733603</td>\n      <td>732074</td>\n      <td>731158</td>\n    </tr>\n    <tr>\n      <th>7</th>\n      <td>40</td>\n      <td>4</td>\n      <td>8</td>\n      <td>4</td>\n      <td>Arizona</td>\n      <td>6392017</td>\n      <td>6392292</td>\n      <td>6407342</td>\n      <td>6473416</td>\n      <td>6556344</td>\n      <td>6634690</td>\n      <td>6732873</td>\n      <td>6832810</td>\n      <td>6944767</td>\n      <td>7048088</td>\n      <td>7164228</td>\n      <td>7291843</td>\n      <td>7393900</td>\n      <td>7421401</td>\n    </tr>\n    <tr>\n      <th>8</th>\n      <td>40</td>\n      <td>3</td>\n      <td>7</td>\n      <td>5</td>\n      <td>Arkansas</td>\n      <td>2915918</td>\n      <td>2916029</td>\n      <td>2921998</td>\n      <td>2941038</td>\n      <td>2952876</td>\n      <td>2960459</td>\n      <td>2968759</td>\n      <td>2979732</td>\n      <td>2991815</td>\n      <td>3003855</td>\n      <td>3012161</td>\n      <td>3020985</td>\n      <td>3029672</td>\n      <td>3030522</td>\n    </tr>\n    <tr>\n      <th>9</th>\n      <td>40</td>\n      <td>4</td>\n      <td>9</td>\n      <td>6</td>\n      <td>California</td>\n      <td>37253956</td>\n      <td>37254522</td>\n      <td>37319550</td>\n      <td>37636311</td>\n      <td>37944551</td>\n      <td>38253768</td>\n      <td>38586706</td>\n      <td>38904296</td>\n      <td>39149186</td>\n      <td>39337785</td>\n      <td>39437463</td>\n      <td>39437610</td>\n      <td>39418894</td>\n      <td>39368078</td>\n    </tr>\n    <tr>\n      <th>10</th>\n      <td>40</td>\n      <td>4</td>\n      <td>8</td>\n      <td>8</td>\n      <td>Colorado</td>\n      <td>5029196</td>\n      <td>5029319</td>\n      <td>5047539</td>\n      <td>5121900</td>\n      <td>5193660</td>\n      <td>5270774</td>\n      <td>5352637</td>\n      <td>5454328</td>\n      <td>5543844</td>\n      <td>5617421</td>\n      <td>5697155</td>\n      <td>5758486</td>\n      <td>5798266</td>\n      <td>5807719</td>\n    </tr>\n    <tr>\n      <th>11</th>\n      <td>40</td>\n      <td>1</td>\n      <td>1</td>\n      <td>9</td>\n      <td>Connecticut</td>\n      <td>3574097</td>\n      <td>3574151</td>\n      <td>3579173</td>\n      <td>3588632</td>\n      <td>3595211</td>\n      <td>3595792</td>\n      <td>3595697</td>\n      <td>3588561</td>\n      <td>3579830</td>\n      <td>3575324</td>\n      <td>3574561</td>\n      <td>3566022</td>\n      <td>3561494</td>\n      <td>3557006</td>\n    </tr>\n    <tr>\n      <th>12</th>\n      <td>40</td>\n      <td>3</td>\n      <td>5</td>\n      <td>10</td>\n      <td>Delaware</td>\n      <td>897934</td>\n      <td>897947</td>\n      <td>899647</td>\n      <td>907590</td>\n      <td>915518</td>\n      <td>924062</td>\n      <td>933131</td>\n      <td>942065</td>\n      <td>949989</td>\n      <td>957942</td>\n      <td>966985</td>\n      <td>976668</td>\n      <td>984899</td>\n      <td>986809</td>\n    </tr>\n    <tr>\n      <th>13</th>\n      <td>40</td>\n      <td>3</td>\n      <td>5</td>\n      <td>11</td>\n      <td>District of Columbia</td>\n      <td>601723</td>\n      <td>601767</td>\n      <td>605282</td>\n      <td>620290</td>\n      <td>635737</td>\n      <td>651559</td>\n      <td>663603</td>\n      <td>677014</td>\n      <td>687576</td>\n      <td>697079</td>\n      <td>704147</td>\n      <td>708253</td>\n      <td>712185</td>\n      <td>712816</td>\n    </tr>\n    <tr>\n      <th>14</th>\n      <td>40</td>\n      <td>3</td>\n      <td>5</td>\n      <td>12</td>\n      <td>Florida</td>\n      <td>18801310</td>\n      <td>18804589</td>\n      <td>18846143</td>\n      <td>19055607</td>\n      <td>19302016</td>\n      <td>19551678</td>\n      <td>19853880</td>\n      <td>20219111</td>\n      <td>20627237</td>\n      <td>20977089</td>\n      <td>21254926</td>\n      <td>21492056</td>\n      <td>21688239</td>\n      <td>21733312</td>\n    </tr>\n    <tr>\n      <th>15</th>\n      <td>40</td>\n      <td>3</td>\n      <td>5</td>\n      <td>13</td>\n      <td>Georgia</td>\n      <td>9687653</td>\n      <td>9688737</td>\n      <td>9712209</td>\n      <td>9803630</td>\n      <td>9903580</td>\n      <td>9975592</td>\n      <td>10071204</td>\n      <td>10183353</td>\n      <td>10308442</td>\n      <td>10417031</td>\n      <td>10519389</td>\n      <td>10628020</td>\n      <td>10695662</td>\n      <td>10710017</td>\n    </tr>\n    <tr>\n      <th>16</th>\n      <td>40</td>\n      <td>4</td>\n      <td>9</td>\n      <td>15</td>\n      <td>Hawaii</td>\n      <td>1360301</td>\n      <td>1360304</td>\n      <td>1364004</td>\n      <td>1379562</td>\n      <td>1395199</td>\n      <td>1408822</td>\n      <td>1415335</td>\n      <td>1422999</td>\n      <td>1428885</td>\n      <td>1425763</td>\n      <td>1423102</td>\n      <td>1415615</td>\n      <td>1410587</td>\n      <td>1407006</td>\n    </tr>\n    <tr>\n      <th>17</th>\n      <td>40</td>\n      <td>4</td>\n      <td>8</td>\n      <td>16</td>\n      <td>Idaho</td>\n      <td>1567582</td>\n      <td>1567658</td>\n      <td>1570819</td>\n      <td>1584272</td>\n      <td>1595910</td>\n      <td>1612053</td>\n      <td>1632248</td>\n      <td>1652495</td>\n      <td>1684036</td>\n      <td>1719745</td>\n      <td>1752074</td>\n      <td>1789060</td>\n      <td>1818238</td>\n      <td>1826913</td>\n    </tr>\n    <tr>\n      <th>18</th>\n      <td>40</td>\n      <td>2</td>\n      <td>3</td>\n      <td>17</td>\n      <td>Illinois</td>\n      <td>12830632</td>\n      <td>12831572</td>\n      <td>12840545</td>\n      <td>12867783</td>\n      <td>12883029</td>\n      <td>12895778</td>\n      <td>12885092</td>\n      <td>12859585</td>\n      <td>12821709</td>\n      <td>12779893</td>\n      <td>12724685</td>\n      <td>12667017</td>\n      <td>12615162</td>\n      <td>12587530</td>\n    </tr>\n    <tr>\n      <th>19</th>\n      <td>40</td>\n      <td>2</td>\n      <td>3</td>\n      <td>18</td>\n      <td>Indiana</td>\n      <td>6483802</td>\n      <td>6484050</td>\n      <td>6490555</td>\n      <td>6517250</td>\n      <td>6538989</td>\n      <td>6570575</td>\n      <td>6596019</td>\n      <td>6611442</td>\n      <td>6637898</td>\n      <td>6662068</td>\n      <td>6698481</td>\n      <td>6731010</td>\n      <td>6752183</td>\n      <td>6754953</td>\n    </tr>\n    <tr>\n      <th>20</th>\n      <td>40</td>\n      <td>2</td>\n      <td>4</td>\n      <td>19</td>\n      <td>Iowa</td>\n      <td>3046355</td>\n      <td>3046877</td>\n      <td>3050819</td>\n      <td>3066772</td>\n      <td>3076844</td>\n      <td>3093935</td>\n      <td>3110643</td>\n      <td>3122541</td>\n      <td>3133210</td>\n      <td>3143734</td>\n      <td>3149900</td>\n      <td>3159596</td>\n      <td>3164115</td>\n      <td>3163561</td>\n    </tr>\n    <tr>\n      <th>21</th>\n      <td>40</td>\n      <td>2</td>\n      <td>4</td>\n      <td>20</td>\n      <td>Kansas</td>\n      <td>2853118</td>\n      <td>2853120</td>\n      <td>2858266</td>\n      <td>2869677</td>\n      <td>2886024</td>\n      <td>2894306</td>\n      <td>2901861</td>\n      <td>2910717</td>\n      <td>2912977</td>\n      <td>2910892</td>\n      <td>2912748</td>\n      <td>2912635</td>\n      <td>2915024</td>\n      <td>2913805</td>\n    </tr>\n    <tr>\n      <th>22</th>\n      <td>40</td>\n      <td>3</td>\n      <td>6</td>\n      <td>21</td>\n      <td>Kentucky</td>\n      <td>4339367</td>\n      <td>4339330</td>\n      <td>4348464</td>\n      <td>4370817</td>\n      <td>4387865</td>\n      <td>4406906</td>\n      <td>4416992</td>\n      <td>4429126</td>\n      <td>4440306</td>\n      <td>4455590</td>\n      <td>4464273</td>\n      <td>4472345</td>\n      <td>4477899</td>\n      <td>4477251</td>\n    </tr>\n    <tr>\n      <th>23</th>\n      <td>40</td>\n      <td>3</td>\n      <td>7</td>\n      <td>22</td>\n      <td>Louisiana</td>\n      <td>4533372</td>\n      <td>4533500</td>\n      <td>4544635</td>\n      <td>4576244</td>\n      <td>4602067</td>\n      <td>4626040</td>\n      <td>4645938</td>\n      <td>4666998</td>\n      <td>4681346</td>\n      <td>4673673</td>\n      <td>4664450</td>\n      <td>4658285</td>\n      <td>4650984</td>\n      <td>4645318</td>\n    </tr>\n    <tr>\n      <th>24</th>\n      <td>40</td>\n      <td>1</td>\n      <td>1</td>\n      <td>23</td>\n      <td>Maine</td>\n      <td>1328361</td>\n      <td>1328354</td>\n      <td>1327651</td>\n      <td>1328473</td>\n      <td>1328094</td>\n      <td>1328543</td>\n      <td>1331217</td>\n      <td>1329098</td>\n      <td>1332348</td>\n      <td>1335743</td>\n      <td>1340123</td>\n      <td>1345770</td>\n      <td>1349647</td>\n      <td>1350141</td>\n    </tr>\n    <tr>\n      <th>25</th>\n      <td>40</td>\n      <td>3</td>\n      <td>5</td>\n      <td>24</td>\n      <td>Maryland</td>\n      <td>5773552</td>\n      <td>5773787</td>\n      <td>5788784</td>\n      <td>5840241</td>\n      <td>5888375</td>\n      <td>5925197</td>\n      <td>5960064</td>\n      <td>5988528</td>\n      <td>6007014</td>\n      <td>6028186</td>\n      <td>6042153</td>\n      <td>6054954</td>\n      <td>6059529</td>\n      <td>6055802</td>\n    </tr>\n    <tr>\n      <th>26</th>\n      <td>40</td>\n      <td>1</td>\n      <td>1</td>\n      <td>25</td>\n      <td>Massachusetts</td>\n      <td>6547629</td>\n      <td>6547788</td>\n      <td>6566440</td>\n      <td>6614218</td>\n      <td>6664269</td>\n      <td>6715158</td>\n      <td>6764864</td>\n      <td>6797484</td>\n      <td>6827280</td>\n      <td>6863560</td>\n      <td>6885720</td>\n      <td>6894883</td>\n      <td>6898116</td>\n      <td>6893574</td>\n    </tr>\n    <tr>\n      <th>27</th>\n      <td>40</td>\n      <td>2</td>\n      <td>3</td>\n      <td>26</td>\n      <td>Michigan</td>\n      <td>9883640</td>\n      <td>9884112</td>\n      <td>9877597</td>\n      <td>9883053</td>\n      <td>9898289</td>\n      <td>9914802</td>\n      <td>9932033</td>\n      <td>9934483</td>\n      <td>9954117</td>\n      <td>9976752</td>\n      <td>9987286</td>\n      <td>9984795</td>\n      <td>9976330</td>\n      <td>9966555</td>\n    </tr>\n    <tr>\n      <th>28</th>\n      <td>40</td>\n      <td>2</td>\n      <td>4</td>\n      <td>27</td>\n      <td>Minnesota</td>\n      <td>5303925</td>\n      <td>5303933</td>\n      <td>5310934</td>\n      <td>5346620</td>\n      <td>5377500</td>\n      <td>5414722</td>\n      <td>5452665</td>\n      <td>5484002</td>\n      <td>5525360</td>\n      <td>5569283</td>\n      <td>5608762</td>\n      <td>5640053</td>\n      <td>5655855</td>\n      <td>5657342</td>\n    </tr>\n    <tr>\n      <th>29</th>\n      <td>40</td>\n      <td>3</td>\n      <td>6</td>\n      <td>28</td>\n      <td>Mississippi</td>\n      <td>2967297</td>\n      <td>2968129</td>\n      <td>2970615</td>\n      <td>2979147</td>\n      <td>2984599</td>\n      <td>2989839</td>\n      <td>2991892</td>\n      <td>2990231</td>\n      <td>2990595</td>\n      <td>2990674</td>\n      <td>2982879</td>\n      <td>2978227</td>\n      <td>2971253</td>\n      <td>2966786</td>\n    </tr>\n    <tr>\n      <th>30</th>\n      <td>40</td>\n      <td>2</td>\n      <td>4</td>\n      <td>29</td>\n      <td>Missouri</td>\n      <td>5988927</td>\n      <td>5988941</td>\n      <td>5996089</td>\n      <td>6011182</td>\n      <td>6026027</td>\n      <td>6042989</td>\n      <td>6059130</td>\n      <td>6075411</td>\n      <td>6091384</td>\n      <td>6111382</td>\n      <td>6125986</td>\n      <td>6140475</td>\n      <td>6151737</td>\n      <td>6151548</td>\n    </tr>\n    <tr>\n      <th>31</th>\n      <td>40</td>\n      <td>4</td>\n      <td>8</td>\n      <td>30</td>\n      <td>Montana</td>\n      <td>989415</td>\n      <td>989400</td>\n      <td>990730</td>\n      <td>997518</td>\n      <td>1004168</td>\n      <td>1014158</td>\n      <td>1022657</td>\n      <td>1031495</td>\n      <td>1042137</td>\n      <td>1053862</td>\n      <td>1061818</td>\n      <td>1070123</td>\n      <td>1078405</td>\n      <td>1080577</td>\n    </tr>\n    <tr>\n      <th>32</th>\n      <td>40</td>\n      <td>2</td>\n      <td>4</td>\n      <td>31</td>\n      <td>Nebraska</td>\n      <td>1826341</td>\n      <td>1826311</td>\n      <td>1829591</td>\n      <td>1840914</td>\n      <td>1853691</td>\n      <td>1865813</td>\n      <td>1879955</td>\n      <td>1892059</td>\n      <td>1906483</td>\n      <td>1916998</td>\n      <td>1925512</td>\n      <td>1932571</td>\n      <td>1937258</td>\n      <td>1937552</td>\n    </tr>\n    <tr>\n      <th>33</th>\n      <td>40</td>\n      <td>4</td>\n      <td>8</td>\n      <td>32</td>\n      <td>Nevada</td>\n      <td>2700551</td>\n      <td>2700683</td>\n      <td>2702483</td>\n      <td>2713114</td>\n      <td>2744670</td>\n      <td>2776956</td>\n      <td>2818935</td>\n      <td>2868531</td>\n      <td>2919555</td>\n      <td>2972097</td>\n      <td>3030725</td>\n      <td>3090771</td>\n      <td>3128500</td>\n      <td>3138259</td>\n    </tr>\n    <tr>\n      <th>34</th>\n      <td>40</td>\n      <td>1</td>\n      <td>1</td>\n      <td>33</td>\n      <td>New Hampshire</td>\n      <td>1316470</td>\n      <td>1316457</td>\n      <td>1316807</td>\n      <td>1320444</td>\n      <td>1324677</td>\n      <td>1327272</td>\n      <td>1334257</td>\n      <td>1337480</td>\n      <td>1343694</td>\n      <td>1350395</td>\n      <td>1355064</td>\n      <td>1360783</td>\n      <td>1365533</td>\n      <td>1366275</td>\n    </tr>\n    <tr>\n      <th>35</th>\n      <td>40</td>\n      <td>1</td>\n      <td>2</td>\n      <td>34</td>\n      <td>New Jersey</td>\n      <td>8791894</td>\n      <td>8791959</td>\n      <td>8799451</td>\n      <td>8828552</td>\n      <td>8845671</td>\n      <td>8857821</td>\n      <td>8867277</td>\n      <td>8870312</td>\n      <td>8873584</td>\n      <td>8888147</td>\n      <td>8891730</td>\n      <td>8891258</td>\n      <td>8890883</td>\n      <td>8882371</td>\n    </tr>\n    <tr>\n      <th>36</th>\n      <td>40</td>\n      <td>4</td>\n      <td>8</td>\n      <td>35</td>\n      <td>New Mexico</td>\n      <td>2059179</td>\n      <td>2059199</td>\n      <td>2064614</td>\n      <td>2080707</td>\n      <td>2087715</td>\n      <td>2092833</td>\n      <td>2090236</td>\n      <td>2090071</td>\n      <td>2092555</td>\n      <td>2092844</td>\n      <td>2093754</td>\n      <td>2099634</td>\n      <td>2106117</td>\n      <td>2106319</td>\n    </tr>\n    <tr>\n      <th>37</th>\n      <td>40</td>\n      <td>1</td>\n      <td>2</td>\n      <td>36</td>\n      <td>New York</td>\n      <td>19378102</td>\n      <td>19378117</td>\n      <td>19399956</td>\n      <td>19499921</td>\n      <td>19574362</td>\n      <td>19626488</td>\n      <td>19653431</td>\n      <td>19657321</td>\n      <td>19636391</td>\n      <td>19593849</td>\n      <td>19544098</td>\n      <td>19463131</td>\n      <td>19382373</td>\n      <td>19336776</td>\n    </tr>\n    <tr>\n      <th>38</th>\n      <td>40</td>\n      <td>3</td>\n      <td>5</td>\n      <td>37</td>\n      <td>North Carolina</td>\n      <td>9535483</td>\n      <td>9535762</td>\n      <td>9574586</td>\n      <td>9658913</td>\n      <td>9751810</td>\n      <td>9846717</td>\n      <td>9937295</td>\n      <td>10037218</td>\n      <td>10161802</td>\n      <td>10275758</td>\n      <td>10391358</td>\n      <td>10501384</td>\n      <td>10581885</td>\n      <td>10600823</td>\n    </tr>\n    <tr>\n      <th>39</th>\n      <td>40</td>\n      <td>2</td>\n      <td>4</td>\n      <td>38</td>\n      <td>North Dakota</td>\n      <td>672591</td>\n      <td>672575</td>\n      <td>674752</td>\n      <td>685526</td>\n      <td>702227</td>\n      <td>723149</td>\n      <td>738736</td>\n      <td>755537</td>\n      <td>756114</td>\n      <td>756755</td>\n      <td>760062</td>\n      <td>763724</td>\n      <td>765224</td>\n      <td>765309</td>\n    </tr>\n    <tr>\n      <th>40</th>\n      <td>40</td>\n      <td>2</td>\n      <td>3</td>\n      <td>39</td>\n      <td>Ohio</td>\n      <td>11536504</td>\n      <td>11536763</td>\n      <td>11539449</td>\n      <td>11545735</td>\n      <td>11550971</td>\n      <td>11579692</td>\n      <td>11606573</td>\n      <td>11622315</td>\n      <td>11640060</td>\n      <td>11665706</td>\n      <td>11680892</td>\n      <td>11696507</td>\n      <td>11699855</td>\n      <td>11693217</td>\n    </tr>\n    <tr>\n      <th>41</th>\n      <td>40</td>\n      <td>3</td>\n      <td>7</td>\n      <td>40</td>\n      <td>Oklahoma</td>\n      <td>3751351</td>\n      <td>3751582</td>\n      <td>3760014</td>\n      <td>3788824</td>\n      <td>3819320</td>\n      <td>3853891</td>\n      <td>3879187</td>\n      <td>3910518</td>\n      <td>3928143</td>\n      <td>3933602</td>\n      <td>3943488</td>\n      <td>3960676</td>\n      <td>3977682</td>\n      <td>3980783</td>\n    </tr>\n    <tr>\n      <th>42</th>\n      <td>40</td>\n      <td>4</td>\n      <td>9</td>\n      <td>41</td>\n      <td>Oregon</td>\n      <td>3831074</td>\n      <td>3831083</td>\n      <td>3837614</td>\n      <td>3872672</td>\n      <td>3900102</td>\n      <td>3924110</td>\n      <td>3965447</td>\n      <td>4018542</td>\n      <td>4093271</td>\n      <td>4147294</td>\n      <td>4183538</td>\n      <td>4216116</td>\n      <td>4237408</td>\n      <td>4241507</td>\n    </tr>\n    <tr>\n      <th>43</th>\n      <td>40</td>\n      <td>1</td>\n      <td>2</td>\n      <td>42</td>\n      <td>Pennsylvania</td>\n      <td>12702379</td>\n      <td>12702891</td>\n      <td>12711406</td>\n      <td>12747052</td>\n      <td>12769123</td>\n      <td>12779538</td>\n      <td>12792392</td>\n      <td>12789838</td>\n      <td>12788468</td>\n      <td>12794679</td>\n      <td>12809107</td>\n      <td>12798883</td>\n      <td>12794404</td>\n      <td>12783254</td>\n    </tr>\n    <tr>\n      <th>44</th>\n      <td>40</td>\n      <td>1</td>\n      <td>1</td>\n      <td>44</td>\n      <td>Rhode Island</td>\n      <td>1052567</td>\n      <td>1052970</td>\n      <td>1053994</td>\n      <td>1053829</td>\n      <td>1054893</td>\n      <td>1055560</td>\n      <td>1056511</td>\n      <td>1056886</td>\n      <td>1057816</td>\n      <td>1056554</td>\n      <td>1059338</td>\n      <td>1058158</td>\n      <td>1058004</td>\n      <td>1057125</td>\n    </tr>\n    <tr>\n      <th>45</th>\n      <td>40</td>\n      <td>3</td>\n      <td>5</td>\n      <td>45</td>\n      <td>South Carolina</td>\n      <td>4625364</td>\n      <td>4625358</td>\n      <td>4635846</td>\n      <td>4672655</td>\n      <td>4719027</td>\n      <td>4766469</td>\n      <td>4826858</td>\n      <td>4896006</td>\n      <td>4963031</td>\n      <td>5027102</td>\n      <td>5091702</td>\n      <td>5157702</td>\n      <td>5205864</td>\n      <td>5218040</td>\n    </tr>\n    <tr>\n      <th>46</th>\n      <td>40</td>\n      <td>2</td>\n      <td>4</td>\n      <td>46</td>\n      <td>South Dakota</td>\n      <td>814180</td>\n      <td>814198</td>\n      <td>816193</td>\n      <td>823740</td>\n      <td>833859</td>\n      <td>842751</td>\n      <td>849670</td>\n      <td>854663</td>\n      <td>863693</td>\n      <td>873732</td>\n      <td>879386</td>\n      <td>887127</td>\n      <td>891688</td>\n      <td>892717</td>\n    </tr>\n    <tr>\n      <th>47</th>\n      <td>40</td>\n      <td>3</td>\n      <td>6</td>\n      <td>47</td>\n      <td>Tennessee</td>\n      <td>6346105</td>\n      <td>6346281</td>\n      <td>6355518</td>\n      <td>6400298</td>\n      <td>6455752</td>\n      <td>6496943</td>\n      <td>6544617</td>\n      <td>6595354</td>\n      <td>6651277</td>\n      <td>6714748</td>\n      <td>6778180</td>\n      <td>6830325</td>\n      <td>6875939</td>\n      <td>6886834</td>\n    </tr>\n    <tr>\n      <th>48</th>\n      <td>40</td>\n      <td>3</td>\n      <td>7</td>\n      <td>48</td>\n      <td>Texas</td>\n      <td>25145561</td>\n      <td>25146072</td>\n      <td>25241897</td>\n      <td>25645504</td>\n      <td>26084120</td>\n      <td>26479646</td>\n      <td>26963092</td>\n      <td>27468531</td>\n      <td>27914064</td>\n      <td>28291024</td>\n      <td>28624564</td>\n      <td>28986794</td>\n      <td>29286467</td>\n      <td>29360759</td>\n    </tr>\n    <tr>\n      <th>49</th>\n      <td>40</td>\n      <td>4</td>\n      <td>8</td>\n      <td>49</td>\n      <td>Utah</td>\n      <td>2763885</td>\n      <td>2763891</td>\n      <td>2775413</td>\n      <td>2814797</td>\n      <td>2854146</td>\n      <td>2898773</td>\n      <td>2938327</td>\n      <td>2983626</td>\n      <td>3044241</td>\n      <td>3103540</td>\n      <td>3155153</td>\n      <td>3203383</td>\n      <td>3239542</td>\n      <td>3249879</td>\n    </tr>\n    <tr>\n      <th>50</th>\n      <td>40</td>\n      <td>1</td>\n      <td>1</td>\n      <td>50</td>\n      <td>Vermont</td>\n      <td>625741</td>\n      <td>625727</td>\n      <td>625886</td>\n      <td>627197</td>\n      <td>626361</td>\n      <td>626603</td>\n      <td>625693</td>\n      <td>625810</td>\n      <td>624366</td>\n      <td>625132</td>\n      <td>624802</td>\n      <td>624046</td>\n      <td>623821</td>\n      <td>623347</td>\n    </tr>\n    <tr>\n      <th>51</th>\n      <td>40</td>\n      <td>3</td>\n      <td>5</td>\n      <td>51</td>\n      <td>Virginia</td>\n      <td>8001024</td>\n      <td>8001046</td>\n      <td>8024004</td>\n      <td>8102437</td>\n      <td>8187456</td>\n      <td>8255861</td>\n      <td>8315430</td>\n      <td>8367303</td>\n      <td>8417651</td>\n      <td>8471011</td>\n      <td>8510920</td>\n      <td>8556642</td>\n      <td>8587217</td>\n      <td>8590563</td>\n    </tr>\n    <tr>\n      <th>52</th>\n      <td>40</td>\n      <td>4</td>\n      <td>9</td>\n      <td>53</td>\n      <td>Washington</td>\n      <td>6724540</td>\n      <td>6724540</td>\n      <td>6743009</td>\n      <td>6827479</td>\n      <td>6898599</td>\n      <td>6966252</td>\n      <td>7057531</td>\n      <td>7167287</td>\n      <td>7299961</td>\n      <td>7427951</td>\n      <td>7526793</td>\n      <td>7614024</td>\n      <td>7678379</td>\n      <td>7693612</td>\n    </tr>\n    <tr>\n      <th>53</th>\n      <td>40</td>\n      <td>3</td>\n      <td>5</td>\n      <td>54</td>\n      <td>West Virginia</td>\n      <td>1852994</td>\n      <td>1853008</td>\n      <td>1854265</td>\n      <td>1856606</td>\n      <td>1857446</td>\n      <td>1854768</td>\n      <td>1850569</td>\n      <td>1843332</td>\n      <td>1832435</td>\n      <td>1818683</td>\n      <td>1805953</td>\n      <td>1795263</td>\n      <td>1788150</td>\n      <td>1784787</td>\n    </tr>\n    <tr>\n      <th>54</th>\n      <td>40</td>\n      <td>2</td>\n      <td>3</td>\n      <td>55</td>\n      <td>Wisconsin</td>\n      <td>5686986</td>\n      <td>5687285</td>\n      <td>5690538</td>\n      <td>5705840</td>\n      <td>5720825</td>\n      <td>5738012</td>\n      <td>5753199</td>\n      <td>5762927</td>\n      <td>5775170</td>\n      <td>5793147</td>\n      <td>5809319</td>\n      <td>5824581</td>\n      <td>5833464</td>\n      <td>5832655</td>\n    </tr>\n    <tr>\n      <th>55</th>\n      <td>40</td>\n      <td>4</td>\n      <td>8</td>\n      <td>56</td>\n      <td>Wyoming</td>\n      <td>563626</td>\n      <td>563775</td>\n      <td>564531</td>\n      <td>567491</td>\n      <td>576656</td>\n      <td>582620</td>\n      <td>583159</td>\n      <td>586389</td>\n      <td>585243</td>\n      <td>579994</td>\n      <td>579054</td>\n      <td>580116</td>\n      <td>582030</td>\n      <td>582328</td>\n    </tr>\n  </tbody>\n</table>\n</div>"
     },
     "execution_count": 18,
     "metadata": {},
     "output_type": "execute_result"
    }
   ],
   "source": [
    "# Son 52 örnek içerisindeki ilk 51 örneğin bulunduğu dataframe kısmında toplama işlemi yapalım.\n",
    "# Burada slicing işlem yapıyoruz aslında.\n",
    "state_pops.tail(52).head(51)"
   ]
  },
  {
   "cell_type": "code",
   "execution_count": 19,
   "outputs": [
    {
     "data": {
      "text/plain": "sumlev                    2040\nstate                     1477\ncensus2010pop        308745538\nestimatesbase2010    308758105\npopestimate2010      309327143\npopestimate2011      311583481\npopestimate2012      313877662\npopestimate2013      316059947\npopestimate2014      318386329\npopestimate2015      320738994\npopestimate2016      323071755\npopestimate2017      325122128\npopestimate2018      326838199\npopestimate2019      328329953\npopestimate042020    329398742\npopestimate2020      329484123\ndtype: int64"
     },
     "execution_count": 19,
     "metadata": {},
     "output_type": "execute_result"
    }
   ],
   "source": [
    "state_pops.tail(52).head(51).sum(numeric_only=True)"
   ],
   "metadata": {
    "collapsed": false
   }
  },
  {
   "cell_type": "code",
   "execution_count": 20,
   "id": "d3f694ed",
   "metadata": {},
   "outputs": [
    {
     "data": {
      "text/plain": "pclass       1309\nsurvived     1309\nname         1309\nsex          1309\nage          1309\nsibsp        1309\nparch        1309\nticket       1309\nfare         1309\ncabin        1309\nembarked     1309\nboat         1309\nbody         1309\nhome.dest    1309\ndtype: int64"
     },
     "execution_count": 20,
     "metadata": {},
     "output_type": "execute_result"
    }
   ],
   "source": [
    "# count() metodu, dataframe'e ait olan sütunlarda toplam kaç adet veri bulunduğunu öğrenmemizi sağlar.\n",
    "# count() ve shape() metotlarını birlikte kullanarak veri içerisinde \"kayıp veri\" olup olmadığı sonucuna ulaşabiliriz.\n",
    "titanic.count()"
   ]
  },
  {
   "cell_type": "markdown",
   "source": [
    "***"
   ],
   "metadata": {
    "collapsed": false
   }
  },
  {
   "cell_type": "code",
   "execution_count": 21,
   "id": "5d7acc95",
   "metadata": {},
   "outputs": [],
   "source": [
    "# Netflix veri setini import ediyoruz\n",
    "netflix = pd.read_csv(\"../Sources/data/netflix_titles.csv\", sep=\"|\", index_col=0)"
   ]
  },
  {
   "cell_type": "code",
   "execution_count": 22,
   "id": "4f8c812c",
   "metadata": {},
   "outputs": [
    {
     "data": {
      "text/plain": "  show_id     type                  title         director  \\\n0      s1    Movie   Dick Johnson Is Dead  Kirsten Johnson   \n1      s2  TV Show          Blood & Water              NaN   \n2      s3  TV Show              Ganglands  Julien Leclercq   \n3      s4  TV Show  Jailbirds New Orleans              NaN   \n4      s5  TV Show           Kota Factory              NaN   \n\n                                                cast        country  \\\n0                                                NaN  United States   \n1  Ama Qamata, Khosi Ngema, Gail Mabalane, Thaban...   South Africa   \n2  Sami Bouajila, Tracy Gotoas, Samuel Jouy, Nabi...            NaN   \n3                                                NaN            NaN   \n4  Mayur More, Jitendra Kumar, Ranjan Raj, Alam K...          India   \n\n           date_added  release_year rating   duration  \\\n0  September 25, 2021          2020  PG-13     90 min   \n1  September 24, 2021          2021  TV-MA  2 Seasons   \n2  September 24, 2021          2021  TV-MA   1 Season   \n3  September 24, 2021          2021  TV-MA   1 Season   \n4  September 24, 2021          2021  TV-MA  2 Seasons   \n\n                                           listed_in  \\\n0                                      Documentaries   \n1    International TV Shows, TV Dramas, TV Mysteries   \n2  Crime TV Shows, International TV Shows, TV Act...   \n3                             Docuseries, Reality TV   \n4  International TV Shows, Romantic TV Shows, TV ...   \n\n                                         description  \n0  As her father nears the end of his life, filmm...  \n1  After crossing paths at a party, a Cape Town t...  \n2  To protect his family from a powerful drug lor...  \n3  Feuds, flirtations and toilet talk go down amo...  \n4  In a city of coaching centers known to train I...  ",
      "text/html": "<div>\n<style scoped>\n    .dataframe tbody tr th:only-of-type {\n        vertical-align: middle;\n    }\n\n    .dataframe tbody tr th {\n        vertical-align: top;\n    }\n\n    .dataframe thead th {\n        text-align: right;\n    }\n</style>\n<table border=\"1\" class=\"dataframe\">\n  <thead>\n    <tr style=\"text-align: right;\">\n      <th></th>\n      <th>show_id</th>\n      <th>type</th>\n      <th>title</th>\n      <th>director</th>\n      <th>cast</th>\n      <th>country</th>\n      <th>date_added</th>\n      <th>release_year</th>\n      <th>rating</th>\n      <th>duration</th>\n      <th>listed_in</th>\n      <th>description</th>\n    </tr>\n  </thead>\n  <tbody>\n    <tr>\n      <th>0</th>\n      <td>s1</td>\n      <td>Movie</td>\n      <td>Dick Johnson Is Dead</td>\n      <td>Kirsten Johnson</td>\n      <td>NaN</td>\n      <td>United States</td>\n      <td>September 25, 2021</td>\n      <td>2020</td>\n      <td>PG-13</td>\n      <td>90 min</td>\n      <td>Documentaries</td>\n      <td>As her father nears the end of his life, filmm...</td>\n    </tr>\n    <tr>\n      <th>1</th>\n      <td>s2</td>\n      <td>TV Show</td>\n      <td>Blood &amp; Water</td>\n      <td>NaN</td>\n      <td>Ama Qamata, Khosi Ngema, Gail Mabalane, Thaban...</td>\n      <td>South Africa</td>\n      <td>September 24, 2021</td>\n      <td>2021</td>\n      <td>TV-MA</td>\n      <td>2 Seasons</td>\n      <td>International TV Shows, TV Dramas, TV Mysteries</td>\n      <td>After crossing paths at a party, a Cape Town t...</td>\n    </tr>\n    <tr>\n      <th>2</th>\n      <td>s3</td>\n      <td>TV Show</td>\n      <td>Ganglands</td>\n      <td>Julien Leclercq</td>\n      <td>Sami Bouajila, Tracy Gotoas, Samuel Jouy, Nabi...</td>\n      <td>NaN</td>\n      <td>September 24, 2021</td>\n      <td>2021</td>\n      <td>TV-MA</td>\n      <td>1 Season</td>\n      <td>Crime TV Shows, International TV Shows, TV Act...</td>\n      <td>To protect his family from a powerful drug lor...</td>\n    </tr>\n    <tr>\n      <th>3</th>\n      <td>s4</td>\n      <td>TV Show</td>\n      <td>Jailbirds New Orleans</td>\n      <td>NaN</td>\n      <td>NaN</td>\n      <td>NaN</td>\n      <td>September 24, 2021</td>\n      <td>2021</td>\n      <td>TV-MA</td>\n      <td>1 Season</td>\n      <td>Docuseries, Reality TV</td>\n      <td>Feuds, flirtations and toilet talk go down amo...</td>\n    </tr>\n    <tr>\n      <th>4</th>\n      <td>s5</td>\n      <td>TV Show</td>\n      <td>Kota Factory</td>\n      <td>NaN</td>\n      <td>Mayur More, Jitendra Kumar, Ranjan Raj, Alam K...</td>\n      <td>India</td>\n      <td>September 24, 2021</td>\n      <td>2021</td>\n      <td>TV-MA</td>\n      <td>2 Seasons</td>\n      <td>International TV Shows, Romantic TV Shows, TV ...</td>\n      <td>In a city of coaching centers known to train I...</td>\n    </tr>\n  </tbody>\n</table>\n</div>"
     },
     "execution_count": 22,
     "metadata": {},
     "output_type": "execute_result"
    }
   ],
   "source": [
    "netflix.head()"
   ]
  },
  {
   "cell_type": "code",
   "execution_count": 23,
   "id": "1277fe49",
   "metadata": {},
   "outputs": [
    {
     "data": {
      "text/plain": "(8807, 12)"
     },
     "execution_count": 23,
     "metadata": {},
     "output_type": "execute_result"
    }
   ],
   "source": [
    "# Netflix dataframe'inin boyutlarını görelim\n",
    "netflix.shape"
   ]
  },
  {
   "cell_type": "code",
   "execution_count": 24,
   "id": "2d858429",
   "metadata": {
    "scrolled": true
   },
   "outputs": [
    {
     "data": {
      "text/plain": "show_id         8807\ntype            8807\ntitle           8807\ndirector        6173\ncast            7982\ncountry         7976\ndate_added      8797\nrelease_year    8807\nrating          8803\nduration        8804\nlisted_in       8807\ndescription     8807\ndtype: int64"
     },
     "execution_count": 24,
     "metadata": {},
     "output_type": "execute_result"
    }
   ],
   "source": [
    "# Netflix veri setinde bazı missing data'lar olup olmadığını görelim.\n",
    "netflix.count()"
   ]
  },
  {
   "cell_type": "code",
   "execution_count": 25,
   "id": "72b84046",
   "metadata": {},
   "outputs": [
    {
     "name": "stderr",
     "output_type": "stream",
     "text": [
      "C:\\Users\\halim\\AppData\\Local\\Temp\\ipykernel_8560\\2884287479.py:2: FutureWarning: Dropping of nuisance columns in DataFrame reductions (with 'numeric_only=None') is deprecated; in a future version this will raise TypeError.  Select only valid columns before calling the reduction.\n",
      "  houses.mean()\n"
     ]
    },
    {
     "data": {
      "text/plain": "id               4.580302e+09\nprice            5.400881e+05\nbedrooms         3.370842e+00\nbathrooms        2.114757e+00\nsqft_living      2.079900e+03\nsqft_lot         1.510697e+04\nfloors           1.494309e+00\nwaterfront       7.541757e-03\nview             2.343034e-01\ncondition        3.409430e+00\ngrade            7.656873e+00\nsqft_above       1.788391e+03\nsqft_basement    2.915090e+02\nyr_built         1.971005e+03\nyr_renovated     8.440226e+01\nzipcode          9.807794e+04\nlat              4.756005e+01\nlong            -1.222139e+02\nsqft_living15    1.986552e+03\nsqft_lot15       1.276846e+04\ndtype: float64"
     },
     "execution_count": 25,
     "metadata": {},
     "output_type": "execute_result"
    }
   ],
   "source": [
    "# mean() metodu, dataframe içerisindeki sütunlara ait değerlerin ortalamasını bulmamızı sağlar\n",
    "houses.mean()"
   ]
  },
  {
   "cell_type": "code",
   "execution_count": 26,
   "id": "a34fd88e",
   "metadata": {},
   "outputs": [
    {
     "data": {
      "text/plain": "id               4.580302e+09\nprice            5.400881e+05\nbedrooms         3.370842e+00\nbathrooms        2.114757e+00\nsqft_living      2.079900e+03\nsqft_lot         1.510697e+04\nfloors           1.494309e+00\nwaterfront       7.541757e-03\nview             2.343034e-01\ncondition        3.409430e+00\ngrade            7.656873e+00\nsqft_above       1.788391e+03\nsqft_basement    2.915090e+02\nyr_built         1.971005e+03\nyr_renovated     8.440226e+01\nzipcode          9.807794e+04\nlat              4.756005e+01\nlong            -1.222139e+02\nsqft_living15    1.986552e+03\nsqft_lot15       1.276846e+04\ndtype: float64"
     },
     "execution_count": 26,
     "metadata": {},
     "output_type": "execute_result"
    }
   ],
   "source": [
    "# Yukarıda da görüldüğü üzere bir uyarı aldık. Buna göre mean() metodunu kullanırken non-numeric veriler ile çalışmak sakıncalı bir durum.\n",
    "# O halde non-numeric verilerin ortalamasını almayacak şekilde mean() metodunu kullanalım.\n",
    "houses.mean(numeric_only=True)"
   ]
  },
  {
   "cell_type": "code",
   "execution_count": 27,
   "id": "5d195792",
   "metadata": {},
   "outputs": [
    {
     "data": {
      "text/plain": "pclass      2.294882\nsurvived    0.381971\nsibsp       0.498854\nparch       0.385027\ndtype: float64"
     },
     "execution_count": 27,
     "metadata": {},
     "output_type": "execute_result"
    }
   ],
   "source": [
    "titanic.mean(numeric_only=True)"
   ]
  },
  {
   "cell_type": "code",
   "execution_count": 28,
   "id": "3867b43b",
   "metadata": {},
   "outputs": [
    {
     "data": {
      "text/plain": "id               3.904930e+09\nprice            4.500000e+05\nbedrooms         3.000000e+00\nbathrooms        2.250000e+00\nsqft_living      1.910000e+03\nsqft_lot         7.618000e+03\nfloors           1.500000e+00\nwaterfront       0.000000e+00\nview             0.000000e+00\ncondition        3.000000e+00\ngrade            7.000000e+00\nsqft_above       1.560000e+03\nsqft_basement    0.000000e+00\nyr_built         1.975000e+03\nyr_renovated     0.000000e+00\nzipcode          9.806500e+04\nlat              4.757180e+01\nlong            -1.222300e+02\nsqft_living15    1.840000e+03\nsqft_lot15       7.620000e+03\ndtype: float64"
     },
     "execution_count": 28,
     "metadata": {},
     "output_type": "execute_result"
    }
   ],
   "source": [
    "# median() metodu, küçükten büyüğe sıralanmış bir dizi verinin ortasındaki değeri bulmamızı sağlar\n",
    "houses.median(numeric_only=True)"
   ]
  },
  {
   "cell_type": "code",
   "execution_count": 29,
   "id": "ffce9e85",
   "metadata": {},
   "outputs": [
    {
     "data": {
      "text/plain": "pclass      3.0\nsurvived    0.0\nsibsp       0.0\nparch       0.0\ndtype: float64"
     },
     "execution_count": 29,
     "metadata": {},
     "output_type": "execute_result"
    }
   ],
   "source": [
    "titanic.median(numeric_only=True)"
   ]
  },
  {
   "cell_type": "code",
   "execution_count": 30,
   "id": "af18de57",
   "metadata": {},
   "outputs": [
    {
     "data": {
      "text/plain": "   pclass  survived  sibsp  parch\n0       3         0      0      0",
      "text/html": "<div>\n<style scoped>\n    .dataframe tbody tr th:only-of-type {\n        vertical-align: middle;\n    }\n\n    .dataframe tbody tr th {\n        vertical-align: top;\n    }\n\n    .dataframe thead th {\n        text-align: right;\n    }\n</style>\n<table border=\"1\" class=\"dataframe\">\n  <thead>\n    <tr style=\"text-align: right;\">\n      <th></th>\n      <th>pclass</th>\n      <th>survived</th>\n      <th>sibsp</th>\n      <th>parch</th>\n    </tr>\n  </thead>\n  <tbody>\n    <tr>\n      <th>0</th>\n      <td>3</td>\n      <td>0</td>\n      <td>0</td>\n      <td>0</td>\n    </tr>\n  </tbody>\n</table>\n</div>"
     },
     "execution_count": 30,
     "metadata": {},
     "output_type": "execute_result"
    }
   ],
   "source": [
    "# mode() metodu, data frame'e ait sütunlarda mevcut olan verilerden en çok tekrar edenleri öğrenmemizi sağlar.\n",
    "# Aslında veri frekansı bulmuş oluyoruz.\n",
    "titanic.mode(numeric_only=True)"
   ]
  },
  {
   "cell_type": "code",
   "execution_count": 31,
   "id": "1ae2b9ae",
   "metadata": {},
   "outputs": [
    {
     "data": {
      "text/plain": "            id     price  bedrooms  bathrooms  sqft_living  sqft_lot  floors  \\\n0  795000620.0  350000.0       3.0        2.5       1300.0    5000.0     1.0   \n1          NaN  450000.0       NaN        NaN          NaN       NaN     NaN   \n2          NaN       NaN       NaN        NaN          NaN       NaN     NaN   \n3          NaN       NaN       NaN        NaN          NaN       NaN     NaN   \n\n   waterfront  view  condition  grade  sqft_above  sqft_basement  yr_built  \\\n0         0.0   0.0        3.0    7.0      1300.0            0.0    2014.0   \n1         NaN   NaN        NaN    NaN         NaN            NaN       NaN   \n2         NaN   NaN        NaN    NaN         NaN            NaN       NaN   \n3         NaN   NaN        NaN    NaN         NaN            NaN       NaN   \n\n   yr_renovated  zipcode      lat    long  sqft_living15  sqft_lot15  \n0           0.0  98103.0  47.5322 -122.29         1540.0      5000.0  \n1           NaN      NaN  47.5491     NaN            NaN         NaN  \n2           NaN      NaN  47.6624     NaN            NaN         NaN  \n3           NaN      NaN  47.6846     NaN            NaN         NaN  ",
      "text/html": "<div>\n<style scoped>\n    .dataframe tbody tr th:only-of-type {\n        vertical-align: middle;\n    }\n\n    .dataframe tbody tr th {\n        vertical-align: top;\n    }\n\n    .dataframe thead th {\n        text-align: right;\n    }\n</style>\n<table border=\"1\" class=\"dataframe\">\n  <thead>\n    <tr style=\"text-align: right;\">\n      <th></th>\n      <th>id</th>\n      <th>price</th>\n      <th>bedrooms</th>\n      <th>bathrooms</th>\n      <th>sqft_living</th>\n      <th>sqft_lot</th>\n      <th>floors</th>\n      <th>waterfront</th>\n      <th>view</th>\n      <th>condition</th>\n      <th>grade</th>\n      <th>sqft_above</th>\n      <th>sqft_basement</th>\n      <th>yr_built</th>\n      <th>yr_renovated</th>\n      <th>zipcode</th>\n      <th>lat</th>\n      <th>long</th>\n      <th>sqft_living15</th>\n      <th>sqft_lot15</th>\n    </tr>\n  </thead>\n  <tbody>\n    <tr>\n      <th>0</th>\n      <td>795000620.0</td>\n      <td>350000.0</td>\n      <td>3.0</td>\n      <td>2.5</td>\n      <td>1300.0</td>\n      <td>5000.0</td>\n      <td>1.0</td>\n      <td>0.0</td>\n      <td>0.0</td>\n      <td>3.0</td>\n      <td>7.0</td>\n      <td>1300.0</td>\n      <td>0.0</td>\n      <td>2014.0</td>\n      <td>0.0</td>\n      <td>98103.0</td>\n      <td>47.5322</td>\n      <td>-122.29</td>\n      <td>1540.0</td>\n      <td>5000.0</td>\n    </tr>\n    <tr>\n      <th>1</th>\n      <td>NaN</td>\n      <td>450000.0</td>\n      <td>NaN</td>\n      <td>NaN</td>\n      <td>NaN</td>\n      <td>NaN</td>\n      <td>NaN</td>\n      <td>NaN</td>\n      <td>NaN</td>\n      <td>NaN</td>\n      <td>NaN</td>\n      <td>NaN</td>\n      <td>NaN</td>\n      <td>NaN</td>\n      <td>NaN</td>\n      <td>NaN</td>\n      <td>47.5491</td>\n      <td>NaN</td>\n      <td>NaN</td>\n      <td>NaN</td>\n    </tr>\n    <tr>\n      <th>2</th>\n      <td>NaN</td>\n      <td>NaN</td>\n      <td>NaN</td>\n      <td>NaN</td>\n      <td>NaN</td>\n      <td>NaN</td>\n      <td>NaN</td>\n      <td>NaN</td>\n      <td>NaN</td>\n      <td>NaN</td>\n      <td>NaN</td>\n      <td>NaN</td>\n      <td>NaN</td>\n      <td>NaN</td>\n      <td>NaN</td>\n      <td>NaN</td>\n      <td>47.6624</td>\n      <td>NaN</td>\n      <td>NaN</td>\n      <td>NaN</td>\n    </tr>\n    <tr>\n      <th>3</th>\n      <td>NaN</td>\n      <td>NaN</td>\n      <td>NaN</td>\n      <td>NaN</td>\n      <td>NaN</td>\n      <td>NaN</td>\n      <td>NaN</td>\n      <td>NaN</td>\n      <td>NaN</td>\n      <td>NaN</td>\n      <td>NaN</td>\n      <td>NaN</td>\n      <td>NaN</td>\n      <td>NaN</td>\n      <td>NaN</td>\n      <td>NaN</td>\n      <td>47.6846</td>\n      <td>NaN</td>\n      <td>NaN</td>\n      <td>NaN</td>\n    </tr>\n  </tbody>\n</table>\n</div>"
     },
     "execution_count": 31,
     "metadata": {},
     "output_type": "execute_result"
    }
   ],
   "source": [
    "houses.mode(numeric_only=True)"
   ]
  },
  {
   "cell_type": "code",
   "execution_count": 32,
   "id": "279a3af0",
   "metadata": {},
   "outputs": [
    {
     "data": {
      "text/plain": "            pclass     survived        sibsp        parch\ncount  1309.000000  1309.000000  1309.000000  1309.000000\nmean      2.294882     0.381971     0.498854     0.385027\nstd       0.837836     0.486055     1.041658     0.865560\nmin       1.000000     0.000000     0.000000     0.000000\n25%       2.000000     0.000000     0.000000     0.000000\n50%       3.000000     0.000000     0.000000     0.000000\n75%       3.000000     1.000000     1.000000     0.000000\nmax       3.000000     1.000000     8.000000     9.000000",
      "text/html": "<div>\n<style scoped>\n    .dataframe tbody tr th:only-of-type {\n        vertical-align: middle;\n    }\n\n    .dataframe tbody tr th {\n        vertical-align: top;\n    }\n\n    .dataframe thead th {\n        text-align: right;\n    }\n</style>\n<table border=\"1\" class=\"dataframe\">\n  <thead>\n    <tr style=\"text-align: right;\">\n      <th></th>\n      <th>pclass</th>\n      <th>survived</th>\n      <th>sibsp</th>\n      <th>parch</th>\n    </tr>\n  </thead>\n  <tbody>\n    <tr>\n      <th>count</th>\n      <td>1309.000000</td>\n      <td>1309.000000</td>\n      <td>1309.000000</td>\n      <td>1309.000000</td>\n    </tr>\n    <tr>\n      <th>mean</th>\n      <td>2.294882</td>\n      <td>0.381971</td>\n      <td>0.498854</td>\n      <td>0.385027</td>\n    </tr>\n    <tr>\n      <th>std</th>\n      <td>0.837836</td>\n      <td>0.486055</td>\n      <td>1.041658</td>\n      <td>0.865560</td>\n    </tr>\n    <tr>\n      <th>min</th>\n      <td>1.000000</td>\n      <td>0.000000</td>\n      <td>0.000000</td>\n      <td>0.000000</td>\n    </tr>\n    <tr>\n      <th>25%</th>\n      <td>2.000000</td>\n      <td>0.000000</td>\n      <td>0.000000</td>\n      <td>0.000000</td>\n    </tr>\n    <tr>\n      <th>50%</th>\n      <td>3.000000</td>\n      <td>0.000000</td>\n      <td>0.000000</td>\n      <td>0.000000</td>\n    </tr>\n    <tr>\n      <th>75%</th>\n      <td>3.000000</td>\n      <td>1.000000</td>\n      <td>1.000000</td>\n      <td>0.000000</td>\n    </tr>\n    <tr>\n      <th>max</th>\n      <td>3.000000</td>\n      <td>1.000000</td>\n      <td>8.000000</td>\n      <td>9.000000</td>\n    </tr>\n  </tbody>\n</table>\n</div>"
     },
     "execution_count": 32,
     "metadata": {},
     "output_type": "execute_result"
    }
   ],
   "source": [
    "# describe(), metodu, Yalnızca sayısal verilere ait bazı istatistiksel bilgileri bize sunar.\n",
    "titanic.describe()"
   ]
  },
  {
   "cell_type": "code",
   "execution_count": 33,
   "id": "2cff4d5b",
   "metadata": {},
   "outputs": [
    {
     "data": {
      "text/plain": "                 id         price      bedrooms     bathrooms   sqft_living  \\\ncount  2.161300e+04  2.161300e+04  21613.000000  21613.000000  21613.000000   \nmean   4.580302e+09  5.400881e+05      3.370842      2.114757   2079.899736   \nstd    2.876566e+09  3.671272e+05      0.930062      0.770163    918.440897   \nmin    1.000102e+06  7.500000e+04      0.000000      0.000000    290.000000   \n25%    2.123049e+09  3.219500e+05      3.000000      1.750000   1427.000000   \n50%    3.904930e+09  4.500000e+05      3.000000      2.250000   1910.000000   \n75%    7.308900e+09  6.450000e+05      4.000000      2.500000   2550.000000   \nmax    9.900000e+09  7.700000e+06     33.000000      8.000000  13540.000000   \n\n           sqft_lot        floors    waterfront          view     condition  \\\ncount  2.161300e+04  21613.000000  21613.000000  21613.000000  21613.000000   \nmean   1.510697e+04      1.494309      0.007542      0.234303      3.409430   \nstd    4.142051e+04      0.539989      0.086517      0.766318      0.650743   \nmin    5.200000e+02      1.000000      0.000000      0.000000      1.000000   \n25%    5.040000e+03      1.000000      0.000000      0.000000      3.000000   \n50%    7.618000e+03      1.500000      0.000000      0.000000      3.000000   \n75%    1.068800e+04      2.000000      0.000000      0.000000      4.000000   \nmax    1.651359e+06      3.500000      1.000000      4.000000      5.000000   \n\n              grade    sqft_above  sqft_basement      yr_built  yr_renovated  \\\ncount  21613.000000  21613.000000   21613.000000  21613.000000  21613.000000   \nmean       7.656873   1788.390691     291.509045   1971.005136     84.402258   \nstd        1.175459    828.090978     442.575043     29.373411    401.679240   \nmin        1.000000    290.000000       0.000000   1900.000000      0.000000   \n25%        7.000000   1190.000000       0.000000   1951.000000      0.000000   \n50%        7.000000   1560.000000       0.000000   1975.000000      0.000000   \n75%        8.000000   2210.000000     560.000000   1997.000000      0.000000   \nmax       13.000000   9410.000000    4820.000000   2015.000000   2015.000000   \n\n            zipcode           lat          long  sqft_living15     sqft_lot15  \ncount  21613.000000  21613.000000  21613.000000   21613.000000   21613.000000  \nmean   98077.939805     47.560053   -122.213896    1986.552492   12768.455652  \nstd       53.505026      0.138564      0.140828     685.391304   27304.179631  \nmin    98001.000000     47.155900   -122.519000     399.000000     651.000000  \n25%    98033.000000     47.471000   -122.328000    1490.000000    5100.000000  \n50%    98065.000000     47.571800   -122.230000    1840.000000    7620.000000  \n75%    98118.000000     47.678000   -122.125000    2360.000000   10083.000000  \nmax    98199.000000     47.777600   -121.315000    6210.000000  871200.000000  ",
      "text/html": "<div>\n<style scoped>\n    .dataframe tbody tr th:only-of-type {\n        vertical-align: middle;\n    }\n\n    .dataframe tbody tr th {\n        vertical-align: top;\n    }\n\n    .dataframe thead th {\n        text-align: right;\n    }\n</style>\n<table border=\"1\" class=\"dataframe\">\n  <thead>\n    <tr style=\"text-align: right;\">\n      <th></th>\n      <th>id</th>\n      <th>price</th>\n      <th>bedrooms</th>\n      <th>bathrooms</th>\n      <th>sqft_living</th>\n      <th>sqft_lot</th>\n      <th>floors</th>\n      <th>waterfront</th>\n      <th>view</th>\n      <th>condition</th>\n      <th>grade</th>\n      <th>sqft_above</th>\n      <th>sqft_basement</th>\n      <th>yr_built</th>\n      <th>yr_renovated</th>\n      <th>zipcode</th>\n      <th>lat</th>\n      <th>long</th>\n      <th>sqft_living15</th>\n      <th>sqft_lot15</th>\n    </tr>\n  </thead>\n  <tbody>\n    <tr>\n      <th>count</th>\n      <td>2.161300e+04</td>\n      <td>2.161300e+04</td>\n      <td>21613.000000</td>\n      <td>21613.000000</td>\n      <td>21613.000000</td>\n      <td>2.161300e+04</td>\n      <td>21613.000000</td>\n      <td>21613.000000</td>\n      <td>21613.000000</td>\n      <td>21613.000000</td>\n      <td>21613.000000</td>\n      <td>21613.000000</td>\n      <td>21613.000000</td>\n      <td>21613.000000</td>\n      <td>21613.000000</td>\n      <td>21613.000000</td>\n      <td>21613.000000</td>\n      <td>21613.000000</td>\n      <td>21613.000000</td>\n      <td>21613.000000</td>\n    </tr>\n    <tr>\n      <th>mean</th>\n      <td>4.580302e+09</td>\n      <td>5.400881e+05</td>\n      <td>3.370842</td>\n      <td>2.114757</td>\n      <td>2079.899736</td>\n      <td>1.510697e+04</td>\n      <td>1.494309</td>\n      <td>0.007542</td>\n      <td>0.234303</td>\n      <td>3.409430</td>\n      <td>7.656873</td>\n      <td>1788.390691</td>\n      <td>291.509045</td>\n      <td>1971.005136</td>\n      <td>84.402258</td>\n      <td>98077.939805</td>\n      <td>47.560053</td>\n      <td>-122.213896</td>\n      <td>1986.552492</td>\n      <td>12768.455652</td>\n    </tr>\n    <tr>\n      <th>std</th>\n      <td>2.876566e+09</td>\n      <td>3.671272e+05</td>\n      <td>0.930062</td>\n      <td>0.770163</td>\n      <td>918.440897</td>\n      <td>4.142051e+04</td>\n      <td>0.539989</td>\n      <td>0.086517</td>\n      <td>0.766318</td>\n      <td>0.650743</td>\n      <td>1.175459</td>\n      <td>828.090978</td>\n      <td>442.575043</td>\n      <td>29.373411</td>\n      <td>401.679240</td>\n      <td>53.505026</td>\n      <td>0.138564</td>\n      <td>0.140828</td>\n      <td>685.391304</td>\n      <td>27304.179631</td>\n    </tr>\n    <tr>\n      <th>min</th>\n      <td>1.000102e+06</td>\n      <td>7.500000e+04</td>\n      <td>0.000000</td>\n      <td>0.000000</td>\n      <td>290.000000</td>\n      <td>5.200000e+02</td>\n      <td>1.000000</td>\n      <td>0.000000</td>\n      <td>0.000000</td>\n      <td>1.000000</td>\n      <td>1.000000</td>\n      <td>290.000000</td>\n      <td>0.000000</td>\n      <td>1900.000000</td>\n      <td>0.000000</td>\n      <td>98001.000000</td>\n      <td>47.155900</td>\n      <td>-122.519000</td>\n      <td>399.000000</td>\n      <td>651.000000</td>\n    </tr>\n    <tr>\n      <th>25%</th>\n      <td>2.123049e+09</td>\n      <td>3.219500e+05</td>\n      <td>3.000000</td>\n      <td>1.750000</td>\n      <td>1427.000000</td>\n      <td>5.040000e+03</td>\n      <td>1.000000</td>\n      <td>0.000000</td>\n      <td>0.000000</td>\n      <td>3.000000</td>\n      <td>7.000000</td>\n      <td>1190.000000</td>\n      <td>0.000000</td>\n      <td>1951.000000</td>\n      <td>0.000000</td>\n      <td>98033.000000</td>\n      <td>47.471000</td>\n      <td>-122.328000</td>\n      <td>1490.000000</td>\n      <td>5100.000000</td>\n    </tr>\n    <tr>\n      <th>50%</th>\n      <td>3.904930e+09</td>\n      <td>4.500000e+05</td>\n      <td>3.000000</td>\n      <td>2.250000</td>\n      <td>1910.000000</td>\n      <td>7.618000e+03</td>\n      <td>1.500000</td>\n      <td>0.000000</td>\n      <td>0.000000</td>\n      <td>3.000000</td>\n      <td>7.000000</td>\n      <td>1560.000000</td>\n      <td>0.000000</td>\n      <td>1975.000000</td>\n      <td>0.000000</td>\n      <td>98065.000000</td>\n      <td>47.571800</td>\n      <td>-122.230000</td>\n      <td>1840.000000</td>\n      <td>7620.000000</td>\n    </tr>\n    <tr>\n      <th>75%</th>\n      <td>7.308900e+09</td>\n      <td>6.450000e+05</td>\n      <td>4.000000</td>\n      <td>2.500000</td>\n      <td>2550.000000</td>\n      <td>1.068800e+04</td>\n      <td>2.000000</td>\n      <td>0.000000</td>\n      <td>0.000000</td>\n      <td>4.000000</td>\n      <td>8.000000</td>\n      <td>2210.000000</td>\n      <td>560.000000</td>\n      <td>1997.000000</td>\n      <td>0.000000</td>\n      <td>98118.000000</td>\n      <td>47.678000</td>\n      <td>-122.125000</td>\n      <td>2360.000000</td>\n      <td>10083.000000</td>\n    </tr>\n    <tr>\n      <th>max</th>\n      <td>9.900000e+09</td>\n      <td>7.700000e+06</td>\n      <td>33.000000</td>\n      <td>8.000000</td>\n      <td>13540.000000</td>\n      <td>1.651359e+06</td>\n      <td>3.500000</td>\n      <td>1.000000</td>\n      <td>4.000000</td>\n      <td>5.000000</td>\n      <td>13.000000</td>\n      <td>9410.000000</td>\n      <td>4820.000000</td>\n      <td>2015.000000</td>\n      <td>2015.000000</td>\n      <td>98199.000000</td>\n      <td>47.777600</td>\n      <td>-121.315000</td>\n      <td>6210.000000</td>\n      <td>871200.000000</td>\n    </tr>\n  </tbody>\n</table>\n</div>"
     },
     "execution_count": 33,
     "metadata": {},
     "output_type": "execute_result"
    }
   ],
   "source": [
    "houses.describe()"
   ]
  },
  {
   "cell_type": "code",
   "execution_count": 34,
   "id": "7548a6ed",
   "metadata": {},
   "outputs": [
    {
     "data": {
      "text/plain": "pandas.core.frame.DataFrame"
     },
     "execution_count": 34,
     "metadata": {},
     "output_type": "execute_result"
    }
   ],
   "source": [
    "type(houses.describe())"
   ]
  },
  {
   "cell_type": "markdown",
   "id": "cd341f86",
   "metadata": {},
   "source": [
    "***\n",
    "**`describe()` metodunu nümerik verilerle kullandık. Peki nümerik olmayan veriler ile kullanabilir miyiz?**\n",
    "***"
   ]
  },
  {
   "cell_type": "code",
   "execution_count": 35,
   "id": "2adf4f6e",
   "metadata": {},
   "outputs": [
    {
     "name": "stdout",
     "output_type": "stream",
     "text": [
      "<class 'pandas.core.frame.DataFrame'>\n",
      "RangeIndex: 1309 entries, 0 to 1308\n",
      "Data columns (total 14 columns):\n",
      " #   Column     Non-Null Count  Dtype \n",
      "---  ------     --------------  ----- \n",
      " 0   pclass     1309 non-null   int64 \n",
      " 1   survived   1309 non-null   int64 \n",
      " 2   name       1309 non-null   object\n",
      " 3   sex        1309 non-null   object\n",
      " 4   age        1309 non-null   object\n",
      " 5   sibsp      1309 non-null   int64 \n",
      " 6   parch      1309 non-null   int64 \n",
      " 7   ticket     1309 non-null   object\n",
      " 8   fare       1309 non-null   object\n",
      " 9   cabin      1309 non-null   object\n",
      " 10  embarked   1309 non-null   object\n",
      " 11  boat       1309 non-null   object\n",
      " 12  body       1309 non-null   object\n",
      " 13  home.dest  1309 non-null   object\n",
      "dtypes: int64(4), object(10)\n",
      "memory usage: 143.3+ KB\n"
     ]
    }
   ],
   "source": [
    "titanic.info()"
   ]
  },
  {
   "cell_type": "markdown",
   "source": [
    "**Yalnızca object tipindeki sütunlar üzerinde describe() metodunun çalıştırılması.**"
   ],
   "metadata": {
    "collapsed": false
   }
  },
  {
   "cell_type": "code",
   "execution_count": 36,
   "id": "cd2d1708",
   "metadata": {},
   "outputs": [
    {
     "data": {
      "text/plain": "                        name   sex   age    ticket  fare cabin embarked  boat  \\\ncount                   1309  1309  1309      1309  1309  1309     1309  1309   \nunique                  1307     2    99       929   282   187        4    28   \ntop     Connolly, Miss. Kate  male     ?  CA. 2343  8.05     ?        S     ?   \nfreq                       2   843   263        11    60  1014      914   823   \n\n        body home.dest  \ncount   1309      1309  \nunique   122       370  \ntop        ?         ?  \nfreq    1188       564  ",
      "text/html": "<div>\n<style scoped>\n    .dataframe tbody tr th:only-of-type {\n        vertical-align: middle;\n    }\n\n    .dataframe tbody tr th {\n        vertical-align: top;\n    }\n\n    .dataframe thead th {\n        text-align: right;\n    }\n</style>\n<table border=\"1\" class=\"dataframe\">\n  <thead>\n    <tr style=\"text-align: right;\">\n      <th></th>\n      <th>name</th>\n      <th>sex</th>\n      <th>age</th>\n      <th>ticket</th>\n      <th>fare</th>\n      <th>cabin</th>\n      <th>embarked</th>\n      <th>boat</th>\n      <th>body</th>\n      <th>home.dest</th>\n    </tr>\n  </thead>\n  <tbody>\n    <tr>\n      <th>count</th>\n      <td>1309</td>\n      <td>1309</td>\n      <td>1309</td>\n      <td>1309</td>\n      <td>1309</td>\n      <td>1309</td>\n      <td>1309</td>\n      <td>1309</td>\n      <td>1309</td>\n      <td>1309</td>\n    </tr>\n    <tr>\n      <th>unique</th>\n      <td>1307</td>\n      <td>2</td>\n      <td>99</td>\n      <td>929</td>\n      <td>282</td>\n      <td>187</td>\n      <td>4</td>\n      <td>28</td>\n      <td>122</td>\n      <td>370</td>\n    </tr>\n    <tr>\n      <th>top</th>\n      <td>Connolly, Miss. Kate</td>\n      <td>male</td>\n      <td>?</td>\n      <td>CA. 2343</td>\n      <td>8.05</td>\n      <td>?</td>\n      <td>S</td>\n      <td>?</td>\n      <td>?</td>\n      <td>?</td>\n    </tr>\n    <tr>\n      <th>freq</th>\n      <td>2</td>\n      <td>843</td>\n      <td>263</td>\n      <td>11</td>\n      <td>60</td>\n      <td>1014</td>\n      <td>914</td>\n      <td>823</td>\n      <td>1188</td>\n      <td>564</td>\n    </tr>\n  </tbody>\n</table>\n</div>"
     },
     "execution_count": 36,
     "metadata": {},
     "output_type": "execute_result"
    }
   ],
   "source": [
    "# Bu işlemi \"include\" parametresi sayesinde gerçekleştirebiliyoruz.\n",
    "titanic.describe(include=[\"object\"])"
   ]
  },
  {
   "cell_type": "code",
   "execution_count": 37,
   "id": "a2a1153e",
   "metadata": {},
   "outputs": [
    {
     "data": {
      "text/plain": "                        name   sex   age    ticket  fare cabin embarked  boat  \\\ncount                   1309  1309  1309      1309  1309  1309     1309  1309   \nunique                  1307     2    99       929   282   187        4    28   \ntop     Connolly, Miss. Kate  male     ?  CA. 2343  8.05     ?        S     ?   \nfreq                       2   843   263        11    60  1014      914   823   \n\n        body home.dest  \ncount   1309      1309  \nunique   122       370  \ntop        ?         ?  \nfreq    1188       564  ",
      "text/html": "<div>\n<style scoped>\n    .dataframe tbody tr th:only-of-type {\n        vertical-align: middle;\n    }\n\n    .dataframe tbody tr th {\n        vertical-align: top;\n    }\n\n    .dataframe thead th {\n        text-align: right;\n    }\n</style>\n<table border=\"1\" class=\"dataframe\">\n  <thead>\n    <tr style=\"text-align: right;\">\n      <th></th>\n      <th>name</th>\n      <th>sex</th>\n      <th>age</th>\n      <th>ticket</th>\n      <th>fare</th>\n      <th>cabin</th>\n      <th>embarked</th>\n      <th>boat</th>\n      <th>body</th>\n      <th>home.dest</th>\n    </tr>\n  </thead>\n  <tbody>\n    <tr>\n      <th>count</th>\n      <td>1309</td>\n      <td>1309</td>\n      <td>1309</td>\n      <td>1309</td>\n      <td>1309</td>\n      <td>1309</td>\n      <td>1309</td>\n      <td>1309</td>\n      <td>1309</td>\n      <td>1309</td>\n    </tr>\n    <tr>\n      <th>unique</th>\n      <td>1307</td>\n      <td>2</td>\n      <td>99</td>\n      <td>929</td>\n      <td>282</td>\n      <td>187</td>\n      <td>4</td>\n      <td>28</td>\n      <td>122</td>\n      <td>370</td>\n    </tr>\n    <tr>\n      <th>top</th>\n      <td>Connolly, Miss. Kate</td>\n      <td>male</td>\n      <td>?</td>\n      <td>CA. 2343</td>\n      <td>8.05</td>\n      <td>?</td>\n      <td>S</td>\n      <td>?</td>\n      <td>?</td>\n      <td>?</td>\n    </tr>\n    <tr>\n      <th>freq</th>\n      <td>2</td>\n      <td>843</td>\n      <td>263</td>\n      <td>11</td>\n      <td>60</td>\n      <td>1014</td>\n      <td>914</td>\n      <td>823</td>\n      <td>1188</td>\n      <td>564</td>\n    </tr>\n  </tbody>\n</table>\n</div>"
     },
     "execution_count": 37,
     "metadata": {},
     "output_type": "execute_result"
    }
   ],
   "source": [
    "# Yalnızca object tipindeki sütunlar üzerinde describe() metodunun çalıştırılması.\n",
    "titanic.describe(include=[\"O\"])"
   ]
  },
  {
   "cell_type": "code",
   "execution_count": 38,
   "id": "559b7ea6",
   "metadata": {},
   "outputs": [
    {
     "data": {
      "text/plain": "             pclass     survived                  name   sex   age  \\\ncount   1309.000000  1309.000000                  1309  1309  1309   \nunique          NaN          NaN                  1307     2    99   \ntop             NaN          NaN  Connolly, Miss. Kate  male     ?   \nfreq            NaN          NaN                     2   843   263   \nmean       2.294882     0.381971                   NaN   NaN   NaN   \nstd        0.837836     0.486055                   NaN   NaN   NaN   \nmin        1.000000     0.000000                   NaN   NaN   NaN   \n25%        2.000000     0.000000                   NaN   NaN   NaN   \n50%        3.000000     0.000000                   NaN   NaN   NaN   \n75%        3.000000     1.000000                   NaN   NaN   NaN   \nmax        3.000000     1.000000                   NaN   NaN   NaN   \n\n              sibsp        parch    ticket  fare cabin embarked  boat  body  \\\ncount   1309.000000  1309.000000      1309  1309  1309     1309  1309  1309   \nunique          NaN          NaN       929   282   187        4    28   122   \ntop             NaN          NaN  CA. 2343  8.05     ?        S     ?     ?   \nfreq            NaN          NaN        11    60  1014      914   823  1188   \nmean       0.498854     0.385027       NaN   NaN   NaN      NaN   NaN   NaN   \nstd        1.041658     0.865560       NaN   NaN   NaN      NaN   NaN   NaN   \nmin        0.000000     0.000000       NaN   NaN   NaN      NaN   NaN   NaN   \n25%        0.000000     0.000000       NaN   NaN   NaN      NaN   NaN   NaN   \n50%        0.000000     0.000000       NaN   NaN   NaN      NaN   NaN   NaN   \n75%        1.000000     0.000000       NaN   NaN   NaN      NaN   NaN   NaN   \nmax        8.000000     9.000000       NaN   NaN   NaN      NaN   NaN   NaN   \n\n       home.dest  \ncount       1309  \nunique       370  \ntop            ?  \nfreq         564  \nmean         NaN  \nstd          NaN  \nmin          NaN  \n25%          NaN  \n50%          NaN  \n75%          NaN  \nmax          NaN  ",
      "text/html": "<div>\n<style scoped>\n    .dataframe tbody tr th:only-of-type {\n        vertical-align: middle;\n    }\n\n    .dataframe tbody tr th {\n        vertical-align: top;\n    }\n\n    .dataframe thead th {\n        text-align: right;\n    }\n</style>\n<table border=\"1\" class=\"dataframe\">\n  <thead>\n    <tr style=\"text-align: right;\">\n      <th></th>\n      <th>pclass</th>\n      <th>survived</th>\n      <th>name</th>\n      <th>sex</th>\n      <th>age</th>\n      <th>sibsp</th>\n      <th>parch</th>\n      <th>ticket</th>\n      <th>fare</th>\n      <th>cabin</th>\n      <th>embarked</th>\n      <th>boat</th>\n      <th>body</th>\n      <th>home.dest</th>\n    </tr>\n  </thead>\n  <tbody>\n    <tr>\n      <th>count</th>\n      <td>1309.000000</td>\n      <td>1309.000000</td>\n      <td>1309</td>\n      <td>1309</td>\n      <td>1309</td>\n      <td>1309.000000</td>\n      <td>1309.000000</td>\n      <td>1309</td>\n      <td>1309</td>\n      <td>1309</td>\n      <td>1309</td>\n      <td>1309</td>\n      <td>1309</td>\n      <td>1309</td>\n    </tr>\n    <tr>\n      <th>unique</th>\n      <td>NaN</td>\n      <td>NaN</td>\n      <td>1307</td>\n      <td>2</td>\n      <td>99</td>\n      <td>NaN</td>\n      <td>NaN</td>\n      <td>929</td>\n      <td>282</td>\n      <td>187</td>\n      <td>4</td>\n      <td>28</td>\n      <td>122</td>\n      <td>370</td>\n    </tr>\n    <tr>\n      <th>top</th>\n      <td>NaN</td>\n      <td>NaN</td>\n      <td>Connolly, Miss. Kate</td>\n      <td>male</td>\n      <td>?</td>\n      <td>NaN</td>\n      <td>NaN</td>\n      <td>CA. 2343</td>\n      <td>8.05</td>\n      <td>?</td>\n      <td>S</td>\n      <td>?</td>\n      <td>?</td>\n      <td>?</td>\n    </tr>\n    <tr>\n      <th>freq</th>\n      <td>NaN</td>\n      <td>NaN</td>\n      <td>2</td>\n      <td>843</td>\n      <td>263</td>\n      <td>NaN</td>\n      <td>NaN</td>\n      <td>11</td>\n      <td>60</td>\n      <td>1014</td>\n      <td>914</td>\n      <td>823</td>\n      <td>1188</td>\n      <td>564</td>\n    </tr>\n    <tr>\n      <th>mean</th>\n      <td>2.294882</td>\n      <td>0.381971</td>\n      <td>NaN</td>\n      <td>NaN</td>\n      <td>NaN</td>\n      <td>0.498854</td>\n      <td>0.385027</td>\n      <td>NaN</td>\n      <td>NaN</td>\n      <td>NaN</td>\n      <td>NaN</td>\n      <td>NaN</td>\n      <td>NaN</td>\n      <td>NaN</td>\n    </tr>\n    <tr>\n      <th>std</th>\n      <td>0.837836</td>\n      <td>0.486055</td>\n      <td>NaN</td>\n      <td>NaN</td>\n      <td>NaN</td>\n      <td>1.041658</td>\n      <td>0.865560</td>\n      <td>NaN</td>\n      <td>NaN</td>\n      <td>NaN</td>\n      <td>NaN</td>\n      <td>NaN</td>\n      <td>NaN</td>\n      <td>NaN</td>\n    </tr>\n    <tr>\n      <th>min</th>\n      <td>1.000000</td>\n      <td>0.000000</td>\n      <td>NaN</td>\n      <td>NaN</td>\n      <td>NaN</td>\n      <td>0.000000</td>\n      <td>0.000000</td>\n      <td>NaN</td>\n      <td>NaN</td>\n      <td>NaN</td>\n      <td>NaN</td>\n      <td>NaN</td>\n      <td>NaN</td>\n      <td>NaN</td>\n    </tr>\n    <tr>\n      <th>25%</th>\n      <td>2.000000</td>\n      <td>0.000000</td>\n      <td>NaN</td>\n      <td>NaN</td>\n      <td>NaN</td>\n      <td>0.000000</td>\n      <td>0.000000</td>\n      <td>NaN</td>\n      <td>NaN</td>\n      <td>NaN</td>\n      <td>NaN</td>\n      <td>NaN</td>\n      <td>NaN</td>\n      <td>NaN</td>\n    </tr>\n    <tr>\n      <th>50%</th>\n      <td>3.000000</td>\n      <td>0.000000</td>\n      <td>NaN</td>\n      <td>NaN</td>\n      <td>NaN</td>\n      <td>0.000000</td>\n      <td>0.000000</td>\n      <td>NaN</td>\n      <td>NaN</td>\n      <td>NaN</td>\n      <td>NaN</td>\n      <td>NaN</td>\n      <td>NaN</td>\n      <td>NaN</td>\n    </tr>\n    <tr>\n      <th>75%</th>\n      <td>3.000000</td>\n      <td>1.000000</td>\n      <td>NaN</td>\n      <td>NaN</td>\n      <td>NaN</td>\n      <td>1.000000</td>\n      <td>0.000000</td>\n      <td>NaN</td>\n      <td>NaN</td>\n      <td>NaN</td>\n      <td>NaN</td>\n      <td>NaN</td>\n      <td>NaN</td>\n      <td>NaN</td>\n    </tr>\n    <tr>\n      <th>max</th>\n      <td>3.000000</td>\n      <td>1.000000</td>\n      <td>NaN</td>\n      <td>NaN</td>\n      <td>NaN</td>\n      <td>8.000000</td>\n      <td>9.000000</td>\n      <td>NaN</td>\n      <td>NaN</td>\n      <td>NaN</td>\n      <td>NaN</td>\n      <td>NaN</td>\n      <td>NaN</td>\n      <td>NaN</td>\n    </tr>\n  </tbody>\n</table>\n</div>"
     },
     "execution_count": 38,
     "metadata": {},
     "output_type": "execute_result"
    }
   ],
   "source": [
    "# Birbirinden farklı veri tiplerine sahip sütunlar için describe() metodunun çalıştırılması\n",
    "titanic.describe(include=[\"object\", \"int64\"])"
   ]
  },
  {
   "cell_type": "code",
   "execution_count": 39,
   "id": "b9628efe",
   "metadata": {},
   "outputs": [
    {
     "data": {
      "text/plain": "             pclass     survived                  name   sex   age  \\\ncount   1309.000000  1309.000000                  1309  1309  1309   \nunique          NaN          NaN                  1307     2    99   \ntop             NaN          NaN  Connolly, Miss. Kate  male     ?   \nfreq            NaN          NaN                     2   843   263   \nmean       2.294882     0.381971                   NaN   NaN   NaN   \nstd        0.837836     0.486055                   NaN   NaN   NaN   \nmin        1.000000     0.000000                   NaN   NaN   NaN   \n25%        2.000000     0.000000                   NaN   NaN   NaN   \n50%        3.000000     0.000000                   NaN   NaN   NaN   \n75%        3.000000     1.000000                   NaN   NaN   NaN   \nmax        3.000000     1.000000                   NaN   NaN   NaN   \n\n              sibsp        parch    ticket  fare cabin embarked  boat  body  \\\ncount   1309.000000  1309.000000      1309  1309  1309     1309  1309  1309   \nunique          NaN          NaN       929   282   187        4    28   122   \ntop             NaN          NaN  CA. 2343  8.05     ?        S     ?     ?   \nfreq            NaN          NaN        11    60  1014      914   823  1188   \nmean       0.498854     0.385027       NaN   NaN   NaN      NaN   NaN   NaN   \nstd        1.041658     0.865560       NaN   NaN   NaN      NaN   NaN   NaN   \nmin        0.000000     0.000000       NaN   NaN   NaN      NaN   NaN   NaN   \n25%        0.000000     0.000000       NaN   NaN   NaN      NaN   NaN   NaN   \n50%        0.000000     0.000000       NaN   NaN   NaN      NaN   NaN   NaN   \n75%        1.000000     0.000000       NaN   NaN   NaN      NaN   NaN   NaN   \nmax        8.000000     9.000000       NaN   NaN   NaN      NaN   NaN   NaN   \n\n       home.dest  \ncount       1309  \nunique       370  \ntop            ?  \nfreq         564  \nmean         NaN  \nstd          NaN  \nmin          NaN  \n25%          NaN  \n50%          NaN  \n75%          NaN  \nmax          NaN  ",
      "text/html": "<div>\n<style scoped>\n    .dataframe tbody tr th:only-of-type {\n        vertical-align: middle;\n    }\n\n    .dataframe tbody tr th {\n        vertical-align: top;\n    }\n\n    .dataframe thead th {\n        text-align: right;\n    }\n</style>\n<table border=\"1\" class=\"dataframe\">\n  <thead>\n    <tr style=\"text-align: right;\">\n      <th></th>\n      <th>pclass</th>\n      <th>survived</th>\n      <th>name</th>\n      <th>sex</th>\n      <th>age</th>\n      <th>sibsp</th>\n      <th>parch</th>\n      <th>ticket</th>\n      <th>fare</th>\n      <th>cabin</th>\n      <th>embarked</th>\n      <th>boat</th>\n      <th>body</th>\n      <th>home.dest</th>\n    </tr>\n  </thead>\n  <tbody>\n    <tr>\n      <th>count</th>\n      <td>1309.000000</td>\n      <td>1309.000000</td>\n      <td>1309</td>\n      <td>1309</td>\n      <td>1309</td>\n      <td>1309.000000</td>\n      <td>1309.000000</td>\n      <td>1309</td>\n      <td>1309</td>\n      <td>1309</td>\n      <td>1309</td>\n      <td>1309</td>\n      <td>1309</td>\n      <td>1309</td>\n    </tr>\n    <tr>\n      <th>unique</th>\n      <td>NaN</td>\n      <td>NaN</td>\n      <td>1307</td>\n      <td>2</td>\n      <td>99</td>\n      <td>NaN</td>\n      <td>NaN</td>\n      <td>929</td>\n      <td>282</td>\n      <td>187</td>\n      <td>4</td>\n      <td>28</td>\n      <td>122</td>\n      <td>370</td>\n    </tr>\n    <tr>\n      <th>top</th>\n      <td>NaN</td>\n      <td>NaN</td>\n      <td>Connolly, Miss. Kate</td>\n      <td>male</td>\n      <td>?</td>\n      <td>NaN</td>\n      <td>NaN</td>\n      <td>CA. 2343</td>\n      <td>8.05</td>\n      <td>?</td>\n      <td>S</td>\n      <td>?</td>\n      <td>?</td>\n      <td>?</td>\n    </tr>\n    <tr>\n      <th>freq</th>\n      <td>NaN</td>\n      <td>NaN</td>\n      <td>2</td>\n      <td>843</td>\n      <td>263</td>\n      <td>NaN</td>\n      <td>NaN</td>\n      <td>11</td>\n      <td>60</td>\n      <td>1014</td>\n      <td>914</td>\n      <td>823</td>\n      <td>1188</td>\n      <td>564</td>\n    </tr>\n    <tr>\n      <th>mean</th>\n      <td>2.294882</td>\n      <td>0.381971</td>\n      <td>NaN</td>\n      <td>NaN</td>\n      <td>NaN</td>\n      <td>0.498854</td>\n      <td>0.385027</td>\n      <td>NaN</td>\n      <td>NaN</td>\n      <td>NaN</td>\n      <td>NaN</td>\n      <td>NaN</td>\n      <td>NaN</td>\n      <td>NaN</td>\n    </tr>\n    <tr>\n      <th>std</th>\n      <td>0.837836</td>\n      <td>0.486055</td>\n      <td>NaN</td>\n      <td>NaN</td>\n      <td>NaN</td>\n      <td>1.041658</td>\n      <td>0.865560</td>\n      <td>NaN</td>\n      <td>NaN</td>\n      <td>NaN</td>\n      <td>NaN</td>\n      <td>NaN</td>\n      <td>NaN</td>\n      <td>NaN</td>\n    </tr>\n    <tr>\n      <th>min</th>\n      <td>1.000000</td>\n      <td>0.000000</td>\n      <td>NaN</td>\n      <td>NaN</td>\n      <td>NaN</td>\n      <td>0.000000</td>\n      <td>0.000000</td>\n      <td>NaN</td>\n      <td>NaN</td>\n      <td>NaN</td>\n      <td>NaN</td>\n      <td>NaN</td>\n      <td>NaN</td>\n      <td>NaN</td>\n    </tr>\n    <tr>\n      <th>25%</th>\n      <td>2.000000</td>\n      <td>0.000000</td>\n      <td>NaN</td>\n      <td>NaN</td>\n      <td>NaN</td>\n      <td>0.000000</td>\n      <td>0.000000</td>\n      <td>NaN</td>\n      <td>NaN</td>\n      <td>NaN</td>\n      <td>NaN</td>\n      <td>NaN</td>\n      <td>NaN</td>\n      <td>NaN</td>\n    </tr>\n    <tr>\n      <th>50%</th>\n      <td>3.000000</td>\n      <td>0.000000</td>\n      <td>NaN</td>\n      <td>NaN</td>\n      <td>NaN</td>\n      <td>0.000000</td>\n      <td>0.000000</td>\n      <td>NaN</td>\n      <td>NaN</td>\n      <td>NaN</td>\n      <td>NaN</td>\n      <td>NaN</td>\n      <td>NaN</td>\n      <td>NaN</td>\n    </tr>\n    <tr>\n      <th>75%</th>\n      <td>3.000000</td>\n      <td>1.000000</td>\n      <td>NaN</td>\n      <td>NaN</td>\n      <td>NaN</td>\n      <td>1.000000</td>\n      <td>0.000000</td>\n      <td>NaN</td>\n      <td>NaN</td>\n      <td>NaN</td>\n      <td>NaN</td>\n      <td>NaN</td>\n      <td>NaN</td>\n      <td>NaN</td>\n    </tr>\n    <tr>\n      <th>max</th>\n      <td>3.000000</td>\n      <td>1.000000</td>\n      <td>NaN</td>\n      <td>NaN</td>\n      <td>NaN</td>\n      <td>8.000000</td>\n      <td>9.000000</td>\n      <td>NaN</td>\n      <td>NaN</td>\n      <td>NaN</td>\n      <td>NaN</td>\n      <td>NaN</td>\n      <td>NaN</td>\n      <td>NaN</td>\n    </tr>\n  </tbody>\n</table>\n</div>"
     },
     "execution_count": 39,
     "metadata": {},
     "output_type": "execute_result"
    }
   ],
   "source": [
    "# Dataframe içerisinde bulunan bütün veri tipleri için describe() metodunun çalıştırılması\n",
    "titanic.describe(include=\"all\")"
   ]
  },
  {
   "cell_type": "code",
   "execution_count": 40,
   "id": "ccdb984e",
   "metadata": {},
   "outputs": [
    {
     "data": {
      "text/plain": "       show_id   type                 title       director  \\\ncount     8807   8807                  8807           6173   \nunique    8807      2                  8807           4528   \ntop         s1  Movie  Dick Johnson Is Dead  Rajiv Chilaka   \nfreq         1   6131                     1             19   \n\n                      cast        country       date_added rating  duration  \\\ncount                 7982           7976             8797   8803      8804   \nunique                7692            748             1767     17       220   \ntop     David Attenborough  United States  January 1, 2020  TV-MA  1 Season   \nfreq                    19           2818              109   3207      1793   \n\n                           listed_in  \\\ncount                           8807   \nunique                           514   \ntop     Dramas, International Movies   \nfreq                             362   \n\n                                              description  \ncount                                                8807  \nunique                                               8775  \ntop     Paranormal activity at a lush, abandoned prope...  \nfreq                                                    4  ",
      "text/html": "<div>\n<style scoped>\n    .dataframe tbody tr th:only-of-type {\n        vertical-align: middle;\n    }\n\n    .dataframe tbody tr th {\n        vertical-align: top;\n    }\n\n    .dataframe thead th {\n        text-align: right;\n    }\n</style>\n<table border=\"1\" class=\"dataframe\">\n  <thead>\n    <tr style=\"text-align: right;\">\n      <th></th>\n      <th>show_id</th>\n      <th>type</th>\n      <th>title</th>\n      <th>director</th>\n      <th>cast</th>\n      <th>country</th>\n      <th>date_added</th>\n      <th>rating</th>\n      <th>duration</th>\n      <th>listed_in</th>\n      <th>description</th>\n    </tr>\n  </thead>\n  <tbody>\n    <tr>\n      <th>count</th>\n      <td>8807</td>\n      <td>8807</td>\n      <td>8807</td>\n      <td>6173</td>\n      <td>7982</td>\n      <td>7976</td>\n      <td>8797</td>\n      <td>8803</td>\n      <td>8804</td>\n      <td>8807</td>\n      <td>8807</td>\n    </tr>\n    <tr>\n      <th>unique</th>\n      <td>8807</td>\n      <td>2</td>\n      <td>8807</td>\n      <td>4528</td>\n      <td>7692</td>\n      <td>748</td>\n      <td>1767</td>\n      <td>17</td>\n      <td>220</td>\n      <td>514</td>\n      <td>8775</td>\n    </tr>\n    <tr>\n      <th>top</th>\n      <td>s1</td>\n      <td>Movie</td>\n      <td>Dick Johnson Is Dead</td>\n      <td>Rajiv Chilaka</td>\n      <td>David Attenborough</td>\n      <td>United States</td>\n      <td>January 1, 2020</td>\n      <td>TV-MA</td>\n      <td>1 Season</td>\n      <td>Dramas, International Movies</td>\n      <td>Paranormal activity at a lush, abandoned prope...</td>\n    </tr>\n    <tr>\n      <th>freq</th>\n      <td>1</td>\n      <td>6131</td>\n      <td>1</td>\n      <td>19</td>\n      <td>19</td>\n      <td>2818</td>\n      <td>109</td>\n      <td>3207</td>\n      <td>1793</td>\n      <td>362</td>\n      <td>4</td>\n    </tr>\n  </tbody>\n</table>\n</div>"
     },
     "execution_count": 40,
     "metadata": {},
     "output_type": "execute_result"
    }
   ],
   "source": [
    "netflix.describe(include=\"O\")"
   ]
  }
 ],
 "metadata": {
  "kernelspec": {
   "display_name": "Python 3 (ipykernel)",
   "language": "python",
   "name": "python3"
  },
  "language_info": {
   "codemirror_mode": {
    "name": "ipython",
    "version": 3
   },
   "file_extension": ".py",
   "mimetype": "text/x-python",
   "name": "python",
   "nbconvert_exporter": "python",
   "pygments_lexer": "ipython3",
   "version": "3.7.13"
  }
 },
 "nbformat": 4,
 "nbformat_minor": 5
}
