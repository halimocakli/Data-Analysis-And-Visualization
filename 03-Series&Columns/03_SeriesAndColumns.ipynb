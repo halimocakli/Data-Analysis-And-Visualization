{
 "cells": [
  {
   "cell_type": "markdown",
   "id": "7f3dd798",
   "metadata": {},
   "source": [
    "# SERIES & COLUMNS\n",
    "***\n",
    "## $Selecting$ $A$ $Single$ $Column$"
   ]
  },
  {
   "cell_type": "code",
   "execution_count": 1,
   "id": "4792456b",
   "metadata": {},
   "outputs": [],
   "source": [
    "# Pandas modülünü import edelim\n",
    "import pandas as pd"
   ]
  },
  {
   "cell_type": "code",
   "execution_count": 2,
   "id": "3d0c689f",
   "metadata": {},
   "outputs": [],
   "source": [
    "# Çalışmamızda kullanacağımız bütün veri setlerini import edelim\n",
    "houses = pd.read_csv(\"../data/kc_house_data.csv\")\n",
    "titanic = pd.read_csv(\"../data/titanic.csv\")\n",
    "netflix = pd.read_csv(\"../data/netflix_titles.csv\", sep=\"|\", index_col=0)"
   ]
  },
  {
   "cell_type": "code",
   "execution_count": 3,
   "id": "f30f5546",
   "metadata": {},
   "outputs": [
    {
     "data": {
      "text/html": [
       "<div>\n",
       "<style scoped>\n",
       "    .dataframe tbody tr th:only-of-type {\n",
       "        vertical-align: middle;\n",
       "    }\n",
       "\n",
       "    .dataframe tbody tr th {\n",
       "        vertical-align: top;\n",
       "    }\n",
       "\n",
       "    .dataframe thead th {\n",
       "        text-align: right;\n",
       "    }\n",
       "</style>\n",
       "<table border=\"1\" class=\"dataframe\">\n",
       "  <thead>\n",
       "    <tr style=\"text-align: right;\">\n",
       "      <th></th>\n",
       "      <th>pclass</th>\n",
       "      <th>survived</th>\n",
       "      <th>name</th>\n",
       "      <th>sex</th>\n",
       "      <th>age</th>\n",
       "      <th>sibsp</th>\n",
       "      <th>parch</th>\n",
       "      <th>ticket</th>\n",
       "      <th>fare</th>\n",
       "      <th>cabin</th>\n",
       "      <th>embarked</th>\n",
       "      <th>boat</th>\n",
       "      <th>body</th>\n",
       "      <th>home.dest</th>\n",
       "    </tr>\n",
       "  </thead>\n",
       "  <tbody>\n",
       "    <tr>\n",
       "      <th>0</th>\n",
       "      <td>1</td>\n",
       "      <td>1</td>\n",
       "      <td>Allen, Miss. Elisabeth Walton</td>\n",
       "      <td>female</td>\n",
       "      <td>29</td>\n",
       "      <td>0</td>\n",
       "      <td>0</td>\n",
       "      <td>24160</td>\n",
       "      <td>211.3375</td>\n",
       "      <td>B5</td>\n",
       "      <td>S</td>\n",
       "      <td>2</td>\n",
       "      <td>?</td>\n",
       "      <td>St Louis, MO</td>\n",
       "    </tr>\n",
       "    <tr>\n",
       "      <th>1</th>\n",
       "      <td>1</td>\n",
       "      <td>1</td>\n",
       "      <td>Allison, Master. Hudson Trevor</td>\n",
       "      <td>male</td>\n",
       "      <td>0.9167</td>\n",
       "      <td>1</td>\n",
       "      <td>2</td>\n",
       "      <td>113781</td>\n",
       "      <td>151.55</td>\n",
       "      <td>C22 C26</td>\n",
       "      <td>S</td>\n",
       "      <td>11</td>\n",
       "      <td>?</td>\n",
       "      <td>Montreal, PQ / Chesterville, ON</td>\n",
       "    </tr>\n",
       "    <tr>\n",
       "      <th>2</th>\n",
       "      <td>1</td>\n",
       "      <td>0</td>\n",
       "      <td>Allison, Miss. Helen Loraine</td>\n",
       "      <td>female</td>\n",
       "      <td>2</td>\n",
       "      <td>1</td>\n",
       "      <td>2</td>\n",
       "      <td>113781</td>\n",
       "      <td>151.55</td>\n",
       "      <td>C22 C26</td>\n",
       "      <td>S</td>\n",
       "      <td>?</td>\n",
       "      <td>?</td>\n",
       "      <td>Montreal, PQ / Chesterville, ON</td>\n",
       "    </tr>\n",
       "    <tr>\n",
       "      <th>3</th>\n",
       "      <td>1</td>\n",
       "      <td>0</td>\n",
       "      <td>Allison, Mr. Hudson Joshua Creighton</td>\n",
       "      <td>male</td>\n",
       "      <td>30</td>\n",
       "      <td>1</td>\n",
       "      <td>2</td>\n",
       "      <td>113781</td>\n",
       "      <td>151.55</td>\n",
       "      <td>C22 C26</td>\n",
       "      <td>S</td>\n",
       "      <td>?</td>\n",
       "      <td>135</td>\n",
       "      <td>Montreal, PQ / Chesterville, ON</td>\n",
       "    </tr>\n",
       "    <tr>\n",
       "      <th>4</th>\n",
       "      <td>1</td>\n",
       "      <td>0</td>\n",
       "      <td>Allison, Mrs. Hudson J C (Bessie Waldo Daniels)</td>\n",
       "      <td>female</td>\n",
       "      <td>25</td>\n",
       "      <td>1</td>\n",
       "      <td>2</td>\n",
       "      <td>113781</td>\n",
       "      <td>151.55</td>\n",
       "      <td>C22 C26</td>\n",
       "      <td>S</td>\n",
       "      <td>?</td>\n",
       "      <td>?</td>\n",
       "      <td>Montreal, PQ / Chesterville, ON</td>\n",
       "    </tr>\n",
       "  </tbody>\n",
       "</table>\n",
       "</div>"
      ],
      "text/plain": [
       "   pclass  survived                                             name     sex  \\\n",
       "0       1         1                    Allen, Miss. Elisabeth Walton  female   \n",
       "1       1         1                   Allison, Master. Hudson Trevor    male   \n",
       "2       1         0                     Allison, Miss. Helen Loraine  female   \n",
       "3       1         0             Allison, Mr. Hudson Joshua Creighton    male   \n",
       "4       1         0  Allison, Mrs. Hudson J C (Bessie Waldo Daniels)  female   \n",
       "\n",
       "      age  sibsp  parch  ticket      fare    cabin embarked boat body  \\\n",
       "0      29      0      0   24160  211.3375       B5        S    2    ?   \n",
       "1  0.9167      1      2  113781    151.55  C22 C26        S   11    ?   \n",
       "2       2      1      2  113781    151.55  C22 C26        S    ?    ?   \n",
       "3      30      1      2  113781    151.55  C22 C26        S    ?  135   \n",
       "4      25      1      2  113781    151.55  C22 C26        S    ?    ?   \n",
       "\n",
       "                         home.dest  \n",
       "0                     St Louis, MO  \n",
       "1  Montreal, PQ / Chesterville, ON  \n",
       "2  Montreal, PQ / Chesterville, ON  \n",
       "3  Montreal, PQ / Chesterville, ON  \n",
       "4  Montreal, PQ / Chesterville, ON  "
      ]
     },
     "execution_count": 3,
     "metadata": {},
     "output_type": "execute_result"
    }
   ],
   "source": [
    "# Titanic veri setinin ilk beş örneğini inceleyelim\n",
    "titanic.head()"
   ]
  },
  {
   "cell_type": "code",
   "execution_count": 4,
   "id": "1174bc80",
   "metadata": {},
   "outputs": [
    {
     "name": "stdout",
     "output_type": "stream",
     "text": [
      "0                         Allen, Miss. Elisabeth Walton\n",
      "1                        Allison, Master. Hudson Trevor\n",
      "2                          Allison, Miss. Helen Loraine\n",
      "3                  Allison, Mr. Hudson Joshua Creighton\n",
      "4       Allison, Mrs. Hudson J C (Bessie Waldo Daniels)\n",
      "                             ...                       \n",
      "1304                               Zabour, Miss. Hileni\n",
      "1305                              Zabour, Miss. Thamine\n",
      "1306                          Zakarian, Mr. Mapriededer\n",
      "1307                                Zakarian, Mr. Ortin\n",
      "1308                                 Zimmerman, Mr. Leo\n",
      "Name: name, Length: 1309, dtype: object\n"
     ]
    }
   ],
   "source": [
    "# Titanic veri setinin \"name\" sütununu seçelim\n",
    "print(titanic.name)"
   ]
  },
  {
   "cell_type": "code",
   "execution_count": 5,
   "id": "6adb79a6",
   "metadata": {},
   "outputs": [
    {
     "name": "stdout",
     "output_type": "stream",
     "text": [
      "0                         Allen, Miss. Elisabeth Walton\n",
      "1                        Allison, Master. Hudson Trevor\n",
      "2                          Allison, Miss. Helen Loraine\n",
      "3                  Allison, Mr. Hudson Joshua Creighton\n",
      "4       Allison, Mrs. Hudson J C (Bessie Waldo Daniels)\n",
      "                             ...                       \n",
      "1304                               Zabour, Miss. Hileni\n",
      "1305                              Zabour, Miss. Thamine\n",
      "1306                          Zakarian, Mr. Mapriededer\n",
      "1307                                Zakarian, Mr. Ortin\n",
      "1308                                 Zimmerman, Mr. Leo\n",
      "Name: name, Length: 1309, dtype: object\n"
     ]
    }
   ],
   "source": [
    "# Aynı işlemi aşağıdaki şekilde de gerçekleştirebiliriz\n",
    "print(titanic[\"name\"])"
   ]
  },
  {
   "cell_type": "code",
   "execution_count": 6,
   "id": "7dcb55a8",
   "metadata": {},
   "outputs": [
    {
     "data": {
      "text/plain": [
       "pandas.core.series.Series"
      ]
     },
     "execution_count": 6,
     "metadata": {},
     "output_type": "execute_result"
    }
   ],
   "source": [
    "# Elde ettiğimiz yapının ne olduğunu görelim\n",
    "type(titanic[\"name\"])"
   ]
  },
  {
   "cell_type": "code",
   "execution_count": 7,
   "id": "d57ea3c4",
   "metadata": {},
   "outputs": [
    {
     "data": {
      "text/plain": [
       "(1309, 14)"
      ]
     },
     "execution_count": 7,
     "metadata": {},
     "output_type": "execute_result"
    }
   ],
   "source": [
    "# Titanic veri setinin boyutlarına bakalım\n",
    "titanic.shape"
   ]
  },
  {
   "cell_type": "code",
   "execution_count": 8,
   "id": "b9d522d6",
   "metadata": {},
   "outputs": [
    {
     "data": {
      "text/plain": [
       "0           29\n",
       "1       0.9167\n",
       "2            2\n",
       "3           30\n",
       "4           25\n",
       "         ...  \n",
       "1304      14.5\n",
       "1305         ?\n",
       "1306      26.5\n",
       "1307        27\n",
       "1308        29\n",
       "Name: age, Length: 1309, dtype: object"
      ]
     },
     "execution_count": 8,
     "metadata": {},
     "output_type": "execute_result"
    }
   ],
   "source": [
    "# Age sütununu inceleyelim\n",
    "titanic[\"age\"]"
   ]
  },
  {
   "cell_type": "markdown",
   "id": "04997377",
   "metadata": {},
   "source": [
    "***\n",
    "**Yukarıda gerçekleştirdiğimiz işlemleri incelediğinizde, `titanic.age` ile `titanic[\"age\"]` kullanımının aynı sonucu verdiğini görebilirsiniz. Bununla birlikte, güvenlik ve okunabilirlik açısından *`titanic[\"age]`* kullanımı daha uygundur. Sütun isminde bir *boşluk* karakteri varsa, sütun isminde bir \"nokta\" işareti varsa, birden fazla sütunu aynı anda kullanmak istiyorsak `.` ile kullanım yanlış tercih olacaktır, `[\"\"]` kullanımı ile bu yanlış tercihin önüne geçilebilir. Bununla birlikte kullandığımız sütun ismi, kod içerisindeki bir sınıf, metot, değişken ismi ile aynı olabilir. Bu durumda karmaşa yaratmamak adına yine `[\"\"]` formatını kullanmak uygun olacaktır. Ayrıca bu formatı kullanarak aşağıdaki dinamik işlemleri de gerçekleştirebiliriz.**\n",
    "***"
   ]
  },
  {
   "cell_type": "code",
   "execution_count": 9,
   "id": "9ef91e22",
   "metadata": {},
   "outputs": [],
   "source": [
    "ageValue = \"age\""
   ]
  },
  {
   "cell_type": "code",
   "execution_count": 10,
   "id": "96471f5f",
   "metadata": {},
   "outputs": [
    {
     "data": {
      "text/plain": [
       "0           29\n",
       "1       0.9167\n",
       "2            2\n",
       "3           30\n",
       "4           25\n",
       "         ...  \n",
       "1304      14.5\n",
       "1305         ?\n",
       "1306      26.5\n",
       "1307        27\n",
       "1308        29\n",
       "Name: age, Length: 1309, dtype: object"
      ]
     },
     "execution_count": 10,
     "metadata": {},
     "output_type": "execute_result"
    }
   ],
   "source": [
    "titanic[ageValue]"
   ]
  },
  {
   "cell_type": "markdown",
   "id": "6b5ddc7d",
   "metadata": {},
   "source": [
    "***\n",
    "## $Closer$ $Look$ $At$ $Series$"
   ]
  },
  {
   "cell_type": "markdown",
   "id": "63fa5559",
   "metadata": {},
   "source": [
    "**`TANIM`**: Seriler, tek boyutlu etiketli dizilerdir. Etiktet değerleri, indis olarak kullanılabilir. Seri verilerine `values`, indis değerlerine ise `index` metotları ile erişilebilir. Bir yapı, `Series` komutu ile Pandas serisine dönüştürülebilir. Bununla birlite; `value_counts` metodu ile seri içerisinde her bir elemandan kaç adet olduğu yani sıklık bilgisi, `size` metodu ile serinin eleman sayısı, `mode` metodu ile seride en çok tekrar eden eleman bilgisine erişebiliriz."
   ]
  },
  {
   "cell_type": "code",
   "execution_count": 11,
   "id": "dd180556",
   "metadata": {},
   "outputs": [],
   "source": [
    "# Seriler konusunu işlerken \"titanic\" dataframe'inin \"name\" sütununu ele alalım\n",
    "names = titanic[\"name\"]"
   ]
  },
  {
   "cell_type": "code",
   "execution_count": 12,
   "id": "73605982",
   "metadata": {},
   "outputs": [
    {
     "data": {
      "text/plain": [
       "pandas.core.series.Series"
      ]
     },
     "execution_count": 12,
     "metadata": {},
     "output_type": "execute_result"
    }
   ],
   "source": [
    "# \"names\" değişkenininy yapısını inceleyelim\n",
    "type(names)"
   ]
  },
  {
   "cell_type": "code",
   "execution_count": 13,
   "id": "45fc612f",
   "metadata": {},
   "outputs": [
    {
     "name": "stdout",
     "output_type": "stream",
     "text": [
      "0                         Allen, Miss. Elisabeth Walton\n",
      "1                        Allison, Master. Hudson Trevor\n",
      "2                          Allison, Miss. Helen Loraine\n",
      "3                  Allison, Mr. Hudson Joshua Creighton\n",
      "4       Allison, Mrs. Hudson J C (Bessie Waldo Daniels)\n",
      "                             ...                       \n",
      "1304                               Zabour, Miss. Hileni\n",
      "1305                              Zabour, Miss. Thamine\n",
      "1306                          Zakarian, Mr. Mapriededer\n",
      "1307                                Zakarian, Mr. Ortin\n",
      "1308                                 Zimmerman, Mr. Leo\n",
      "Name: name, Length: 1309, dtype: object\n"
     ]
    }
   ],
   "source": [
    "# Gördüğünüz üzere \"names\" Seri veri tipinde bir değişkendir.\n",
    "print(names)"
   ]
  },
  {
   "cell_type": "code",
   "execution_count": 14,
   "id": "c2c232e2",
   "metadata": {},
   "outputs": [
    {
     "name": "stdout",
     "output_type": "stream",
     "text": [
      "Values of the \"names\" series: ['Allen, Miss. Elisabeth Walton' 'Allison, Master. Hudson Trevor'\n",
      " 'Allison, Miss. Helen Loraine' ... 'Zakarian, Mr. Mapriededer'\n",
      " 'Zakarian, Mr. Ortin' 'Zimmerman, Mr. Leo']\n",
      "\n",
      "\n",
      "İndexes of the \"names\" series: RangeIndex(start=0, stop=1309, step=1)\n",
      "\n",
      "\n",
      "Value counts of the \"names\" series:\n",
      " <bound method IndexOpsMixin.value_counts of 0                         Allen, Miss. Elisabeth Walton\n",
      "1                        Allison, Master. Hudson Trevor\n",
      "2                          Allison, Miss. Helen Loraine\n",
      "3                  Allison, Mr. Hudson Joshua Creighton\n",
      "4       Allison, Mrs. Hudson J C (Bessie Waldo Daniels)\n",
      "                             ...                       \n",
      "1304                               Zabour, Miss. Hileni\n",
      "1305                              Zabour, Miss. Thamine\n",
      "1306                          Zakarian, Mr. Mapriededer\n",
      "1307                                Zakarian, Mr. Ortin\n",
      "1308                                 Zimmerman, Mr. Leo\n",
      "Name: name, Length: 1309, dtype: object>\n",
      "\n",
      "Size of the \"names\" series: 1309\n",
      "\n",
      "\n",
      "Mode of the \"names\" series: <bound method Series.mode of 0                         Allen, Miss. Elisabeth Walton\n",
      "1                        Allison, Master. Hudson Trevor\n",
      "2                          Allison, Miss. Helen Loraine\n",
      "3                  Allison, Mr. Hudson Joshua Creighton\n",
      "4       Allison, Mrs. Hudson J C (Bessie Waldo Daniels)\n",
      "                             ...                       \n",
      "1304                               Zabour, Miss. Hileni\n",
      "1305                              Zabour, Miss. Thamine\n",
      "1306                          Zakarian, Mr. Mapriededer\n",
      "1307                                Zakarian, Mr. Ortin\n",
      "1308                                 Zimmerman, Mr. Leo\n",
      "Name: name, Length: 1309, dtype: object>\n",
      "\n",
      "\n"
     ]
    }
   ],
   "source": [
    "# Tanım kısmında bahsedilen metotları inceleyelim.\n",
    "print(f\"Values of the \\\"names\\\" series: {names.values}\\n\\n\")\n",
    "print(f\"İndexes of the \\\"names\\\" series: {names.index}\\n\\n\")\n",
    "print(f\"Value counts of the \\\"names\\\" series:\\n {names.value_counts}\\n\")\n",
    "print(f\"Size of the \\\"names\\\" series: {names.size}\\n\\n\")\n",
    "print(f\"Mode of the \\\"names\\\" series: {names.mode}\\n\\n\")"
   ]
  },
  {
   "cell_type": "code",
   "execution_count": 15,
   "id": "e13c2a46",
   "metadata": {},
   "outputs": [],
   "source": [
    "# Serinin etiketi her zaman nümerik olmak zorunda değildir.\n",
    "# Bunu görmek için mean() metodunu kullanalım. mean() metodu geriye bir seri veri yapısında değişken döner.\n",
    "houses_mean = houses.mean(numeric_only=True)"
   ]
  },
  {
   "cell_type": "code",
   "execution_count": 16,
   "id": "c1bdedb6",
   "metadata": {},
   "outputs": [
    {
     "name": "stdout",
     "output_type": "stream",
     "text": [
      "id               4.580302e+09\n",
      "price            5.400881e+05\n",
      "bedrooms         3.370842e+00\n",
      "bathrooms        2.114757e+00\n",
      "sqft_living      2.079900e+03\n",
      "sqft_lot         1.510697e+04\n",
      "floors           1.494309e+00\n",
      "waterfront       7.541757e-03\n",
      "view             2.343034e-01\n",
      "condition        3.409430e+00\n",
      "grade            7.656873e+00\n",
      "sqft_above       1.788391e+03\n",
      "sqft_basement    2.915090e+02\n",
      "yr_built         1.971005e+03\n",
      "yr_renovated     8.440226e+01\n",
      "zipcode          9.807794e+04\n",
      "lat              4.756005e+01\n",
      "long            -1.222139e+02\n",
      "sqft_living15    1.986552e+03\n",
      "sqft_lot15       1.276846e+04\n",
      "dtype: float64\n"
     ]
    }
   ],
   "source": [
    "# Görüldüğü üzere aşağıdaki serinin etiketleri string tipindedir.\n",
    "print(houses_mean)"
   ]
  },
  {
   "cell_type": "code",
   "execution_count": 17,
   "id": "f05324af",
   "metadata": {},
   "outputs": [
    {
     "name": "stdout",
     "output_type": "stream",
     "text": [
      "Index(['id', 'price', 'bedrooms', 'bathrooms', 'sqft_living', 'sqft_lot',\n",
      "       'floors', 'waterfront', 'view', 'condition', 'grade', 'sqft_above',\n",
      "       'sqft_basement', 'yr_built', 'yr_renovated', 'zipcode', 'lat', 'long',\n",
      "       'sqft_living15', 'sqft_lot15'],\n",
      "      dtype='object')\n"
     ]
    }
   ],
   "source": [
    "# Daha detaylı bakalım\n",
    "print(houses_mean.index)"
   ]
  },
  {
   "cell_type": "code",
   "execution_count": 18,
   "id": "5fdfaf09",
   "metadata": {},
   "outputs": [
    {
     "data": {
      "text/plain": [
       "pandas.core.series.Series"
      ]
     },
     "execution_count": 18,
     "metadata": {},
     "output_type": "execute_result"
    }
   ],
   "source": [
    "# Kontrol edelim\n",
    "type(houses_mean)"
   ]
  },
  {
   "cell_type": "code",
   "execution_count": 19,
   "id": "4b4e7275",
   "metadata": {},
   "outputs": [
    {
     "data": {
      "text/plain": [
       "id                                                  98994056770455\n",
       "date             20141013T00000020141209T00000020150225T0000002...\n",
       "price                                                11672925008.0\n",
       "bedrooms                                                     72854\n",
       "bathrooms                                                 45706.25\n",
       "sqft_living                                               44952873\n",
       "sqft_lot                                                 326506890\n",
       "floors                                                     32296.5\n",
       "waterfront                                                     163\n",
       "view                                                          5064\n",
       "condition                                                    73688\n",
       "grade                                                       165488\n",
       "sqft_above                                                38652488\n",
       "sqft_basement                                              6300385\n",
       "yr_built                                                  42599334\n",
       "yr_renovated                                               1824186\n",
       "zipcode                                                 2119758513\n",
       "lat                                                   1027915.4151\n",
       "long                                                  -2641408.943\n",
       "sqft_living15                                             42935359\n",
       "sqft_lot15                                               275964632\n",
       "dtype: object"
      ]
     },
     "execution_count": 19,
     "metadata": {},
     "output_type": "execute_result"
    }
   ],
   "source": [
    "# sum() metodu, belirtilen dataframe ya da series tipindeki değişken içerisindeki verileri toplar.\n",
    "houses.sum()"
   ]
  },
  {
   "cell_type": "code",
   "execution_count": 20,
   "id": "93c164d9",
   "metadata": {},
   "outputs": [
    {
     "data": {
      "text/plain": [
       "11672925008.0"
      ]
     },
     "execution_count": 20,
     "metadata": {},
     "output_type": "execute_result"
    }
   ],
   "source": [
    "# Bir seri için sum() metodunu kullanalım\n",
    "houses[\"price\"].sum()"
   ]
  },
  {
   "cell_type": "code",
   "execution_count": 21,
   "id": "061617d7",
   "metadata": {},
   "outputs": [
    {
     "name": "stdout",
     "output_type": "stream",
     "text": [
      "Type of \"houses\": <class 'pandas.core.frame.DataFrame'>\n",
      "Type of \"houses.sum()\": <class 'pandas.core.series.Series'>\n",
      "Type of \"houses.price\": <class 'pandas.core.series.Series'>\n",
      "Type of \"houses.price.sum()\": <class 'numpy.float64'>\n"
     ]
    }
   ],
   "source": [
    "# Veri tiplerini inceleyelim.\n",
    "print(f\"Type of \\\"houses\\\": {type(houses)}\")\n",
    "print(f\"Type of \\\"houses.sum()\\\": {type(houses.sum())}\")\n",
    "\n",
    "print(f\"Type of \\\"houses.price\\\": {type(houses.price)}\")\n",
    "print(f\"Type of \\\"houses.price.sum()\\\": {type(houses.price.sum())}\")"
   ]
  },
  {
   "cell_type": "code",
   "execution_count": 22,
   "id": "d220f8c1",
   "metadata": {},
   "outputs": [
    {
     "name": "stdout",
     "output_type": "stream",
     "text": [
      "id               9.900000e+09\n",
      "price            7.700000e+06\n",
      "bedrooms         3.300000e+01\n",
      "bathrooms        8.000000e+00\n",
      "sqft_living      1.354000e+04\n",
      "sqft_lot         1.651359e+06\n",
      "floors           3.500000e+00\n",
      "waterfront       1.000000e+00\n",
      "view             4.000000e+00\n",
      "condition        5.000000e+00\n",
      "grade            1.300000e+01\n",
      "sqft_above       9.410000e+03\n",
      "sqft_basement    4.820000e+03\n",
      "yr_built         2.015000e+03\n",
      "yr_renovated     2.015000e+03\n",
      "zipcode          9.819900e+04\n",
      "lat              4.777760e+01\n",
      "long            -1.213150e+02\n",
      "sqft_living15    6.210000e+03\n",
      "sqft_lot15       8.712000e+05\n",
      "dtype: float64\n"
     ]
    }
   ],
   "source": [
    "# Aynı işlemleri max() metodu için de gerçekleştirmek mümkündür.\n",
    "print(houses.max(numeric_only=True))"
   ]
  },
  {
   "cell_type": "code",
   "execution_count": 23,
   "id": "64a852ca",
   "metadata": {},
   "outputs": [
    {
     "name": "stdout",
     "output_type": "stream",
     "text": [
      "7700000.0\n"
     ]
    }
   ],
   "source": [
    "print(houses[\"price\"].max())"
   ]
  },
  {
   "cell_type": "code",
   "execution_count": 24,
   "id": "55988684",
   "metadata": {},
   "outputs": [
    {
     "name": "stdout",
     "output_type": "stream",
     "text": [
      "<class 'pandas.core.series.Series'>\n"
     ]
    }
   ],
   "source": [
    "print(type(houses.max()))"
   ]
  },
  {
   "cell_type": "code",
   "execution_count": 25,
   "id": "abb66bd8",
   "metadata": {},
   "outputs": [
    {
     "name": "stdout",
     "output_type": "stream",
     "text": [
      "<class 'float'>\n"
     ]
    }
   ],
   "source": [
    "print(type(houses[\"price\"].max()))"
   ]
  },
  {
   "cell_type": "code",
   "execution_count": 26,
   "id": "db084529",
   "metadata": {},
   "outputs": [
    {
     "data": {
      "text/plain": [
       "(1309,)"
      ]
     },
     "execution_count": 26,
     "metadata": {},
     "output_type": "execute_result"
    }
   ],
   "source": [
    "# Peki seri veri tipindeki bir değişkenin shape niteliğine baktığımızda ne görürüz?\n",
    "names.shape"
   ]
  },
  {
   "cell_type": "markdown",
   "id": "1572fdec",
   "metadata": {},
   "source": [
    "***\n",
    "## $Important$ $Series$ $Methods$ "
   ]
  },
  {
   "cell_type": "markdown",
   "id": "c9f23956",
   "metadata": {},
   "source": [
    "* `head()`\n",
    "* `tail()`\n",
    "* `describe()`\n",
    "* `unique()`\n",
    "* `nunique()`\n",
    "* `nlargest()`\n",
    "* `nsmallest()`\n",
    "* `values_counts()`\n",
    "* `plot()`"
   ]
  },
  {
   "cell_type": "code",
   "execution_count": 27,
   "id": "73d6bc15",
   "metadata": {},
   "outputs": [
    {
     "data": {
      "text/plain": [
       "0        29\n",
       "1    0.9167\n",
       "2         2\n",
       "3        30\n",
       "4        25\n",
       "5        48\n",
       "6        63\n",
       "7        39\n",
       "8        53\n",
       "9        71\n",
       "Name: age, dtype: object"
      ]
     },
     "execution_count": 27,
     "metadata": {},
     "output_type": "execute_result"
    }
   ],
   "source": [
    "# head() metodu üzerinde daha önce durmuştuk, hatırlayalım.\n",
    "titanic[\"age\"].head(10)"
   ]
  },
  {
   "cell_type": "code",
   "execution_count": 28,
   "id": "13737a95",
   "metadata": {},
   "outputs": [
    {
     "data": {
      "text/plain": [
       "8757                 World Trade Center\n",
       "8758             World's Busiest Cities\n",
       "8759             World's Weirdest Homes\n",
       "8760                   Would You Rather\n",
       "8761                          Wrong No.\n",
       "8762                    Wrong Side Raju\n",
       "8763    WWII: Report from the Aleutians\n",
       "8764                         Wyatt Earp\n",
       "8765                                 XX\n",
       "8766                                XXx\n",
       "8767            XXX: State of the Union\n",
       "8768                  Y Tu Mamá También\n",
       "8769             Y.M.I.: Yeh Mera India\n",
       "8770                            Yaadein\n",
       "8771                   Yaara O Dildaara\n",
       "8772              Yamla Pagla Deewana 2\n",
       "8773                Yanda Kartavya Aahe\n",
       "8774                          يوم الدين\n",
       "8775                    Yeh Meri Family\n",
       "8776                         Yellowbird\n",
       "8777                          Yes or No\n",
       "8778                        Yes or No 2\n",
       "8779                      Yes or No 2.5\n",
       "8780                       Yo-Kai Watch\n",
       "8781            Yo-Kai Watch: The Movie\n",
       "8782                        Yoga Hosers\n",
       "8783                               Yoko\n",
       "8784               Yoko and His Friends\n",
       "8785                                YOM\n",
       "8786                       You Can Tutu\n",
       "8787          You Can’t Fight Christmas\n",
       "8788                       You Carry Me\n",
       "8789                You Changed My Life\n",
       "8790      You Don't Mess with the Zohan\n",
       "8791                        Young Adult\n",
       "8792                        Young Tiger\n",
       "8793               Yours, Mine and Ours\n",
       "8794                             اشتباك\n",
       "8795                    Yu-Gi-Oh! Arc-V\n",
       "8796                         Yunus Emre\n",
       "8797                          Zak Storm\n",
       "8798                           Zed Plus\n",
       "8799                              Zenda\n",
       "8800                 Zindagi Gulzar Hai\n",
       "8801                            Zinzana\n",
       "8802                             Zodiac\n",
       "8803                        Zombie Dumb\n",
       "8804                         Zombieland\n",
       "8805                               Zoom\n",
       "8806                             Zubaan\n",
       "Name: title, dtype: object"
      ]
     },
     "execution_count": 28,
     "metadata": {},
     "output_type": "execute_result"
    }
   ],
   "source": [
    "# tail() metodu üzerinde daha önce durmuştuk, hatırlayalım.\n",
    "netflix[\"title\"].tail(50)"
   ]
  },
  {
   "cell_type": "code",
   "execution_count": 29,
   "id": "a8766299",
   "metadata": {},
   "outputs": [
    {
     "data": {
      "text/html": [
       "<div>\n",
       "<style scoped>\n",
       "    .dataframe tbody tr th:only-of-type {\n",
       "        vertical-align: middle;\n",
       "    }\n",
       "\n",
       "    .dataframe tbody tr th {\n",
       "        vertical-align: top;\n",
       "    }\n",
       "\n",
       "    .dataframe thead th {\n",
       "        text-align: right;\n",
       "    }\n",
       "</style>\n",
       "<table border=\"1\" class=\"dataframe\">\n",
       "  <thead>\n",
       "    <tr style=\"text-align: right;\">\n",
       "      <th></th>\n",
       "      <th>id</th>\n",
       "      <th>price</th>\n",
       "      <th>bedrooms</th>\n",
       "      <th>bathrooms</th>\n",
       "      <th>sqft_living</th>\n",
       "      <th>sqft_lot</th>\n",
       "      <th>floors</th>\n",
       "      <th>waterfront</th>\n",
       "      <th>view</th>\n",
       "      <th>condition</th>\n",
       "      <th>grade</th>\n",
       "      <th>sqft_above</th>\n",
       "      <th>sqft_basement</th>\n",
       "      <th>yr_built</th>\n",
       "      <th>yr_renovated</th>\n",
       "      <th>zipcode</th>\n",
       "      <th>lat</th>\n",
       "      <th>long</th>\n",
       "      <th>sqft_living15</th>\n",
       "      <th>sqft_lot15</th>\n",
       "    </tr>\n",
       "  </thead>\n",
       "  <tbody>\n",
       "    <tr>\n",
       "      <th>count</th>\n",
       "      <td>2.161300e+04</td>\n",
       "      <td>2.161300e+04</td>\n",
       "      <td>21613.000000</td>\n",
       "      <td>21613.000000</td>\n",
       "      <td>21613.000000</td>\n",
       "      <td>2.161300e+04</td>\n",
       "      <td>21613.000000</td>\n",
       "      <td>21613.000000</td>\n",
       "      <td>21613.000000</td>\n",
       "      <td>21613.000000</td>\n",
       "      <td>21613.000000</td>\n",
       "      <td>21613.000000</td>\n",
       "      <td>21613.000000</td>\n",
       "      <td>21613.000000</td>\n",
       "      <td>21613.000000</td>\n",
       "      <td>21613.000000</td>\n",
       "      <td>21613.000000</td>\n",
       "      <td>21613.000000</td>\n",
       "      <td>21613.000000</td>\n",
       "      <td>21613.000000</td>\n",
       "    </tr>\n",
       "    <tr>\n",
       "      <th>mean</th>\n",
       "      <td>4.580302e+09</td>\n",
       "      <td>5.400881e+05</td>\n",
       "      <td>3.370842</td>\n",
       "      <td>2.114757</td>\n",
       "      <td>2079.899736</td>\n",
       "      <td>1.510697e+04</td>\n",
       "      <td>1.494309</td>\n",
       "      <td>0.007542</td>\n",
       "      <td>0.234303</td>\n",
       "      <td>3.409430</td>\n",
       "      <td>7.656873</td>\n",
       "      <td>1788.390691</td>\n",
       "      <td>291.509045</td>\n",
       "      <td>1971.005136</td>\n",
       "      <td>84.402258</td>\n",
       "      <td>98077.939805</td>\n",
       "      <td>47.560053</td>\n",
       "      <td>-122.213896</td>\n",
       "      <td>1986.552492</td>\n",
       "      <td>12768.455652</td>\n",
       "    </tr>\n",
       "    <tr>\n",
       "      <th>std</th>\n",
       "      <td>2.876566e+09</td>\n",
       "      <td>3.671272e+05</td>\n",
       "      <td>0.930062</td>\n",
       "      <td>0.770163</td>\n",
       "      <td>918.440897</td>\n",
       "      <td>4.142051e+04</td>\n",
       "      <td>0.539989</td>\n",
       "      <td>0.086517</td>\n",
       "      <td>0.766318</td>\n",
       "      <td>0.650743</td>\n",
       "      <td>1.175459</td>\n",
       "      <td>828.090978</td>\n",
       "      <td>442.575043</td>\n",
       "      <td>29.373411</td>\n",
       "      <td>401.679240</td>\n",
       "      <td>53.505026</td>\n",
       "      <td>0.138564</td>\n",
       "      <td>0.140828</td>\n",
       "      <td>685.391304</td>\n",
       "      <td>27304.179631</td>\n",
       "    </tr>\n",
       "    <tr>\n",
       "      <th>min</th>\n",
       "      <td>1.000102e+06</td>\n",
       "      <td>7.500000e+04</td>\n",
       "      <td>0.000000</td>\n",
       "      <td>0.000000</td>\n",
       "      <td>290.000000</td>\n",
       "      <td>5.200000e+02</td>\n",
       "      <td>1.000000</td>\n",
       "      <td>0.000000</td>\n",
       "      <td>0.000000</td>\n",
       "      <td>1.000000</td>\n",
       "      <td>1.000000</td>\n",
       "      <td>290.000000</td>\n",
       "      <td>0.000000</td>\n",
       "      <td>1900.000000</td>\n",
       "      <td>0.000000</td>\n",
       "      <td>98001.000000</td>\n",
       "      <td>47.155900</td>\n",
       "      <td>-122.519000</td>\n",
       "      <td>399.000000</td>\n",
       "      <td>651.000000</td>\n",
       "    </tr>\n",
       "    <tr>\n",
       "      <th>25%</th>\n",
       "      <td>2.123049e+09</td>\n",
       "      <td>3.219500e+05</td>\n",
       "      <td>3.000000</td>\n",
       "      <td>1.750000</td>\n",
       "      <td>1427.000000</td>\n",
       "      <td>5.040000e+03</td>\n",
       "      <td>1.000000</td>\n",
       "      <td>0.000000</td>\n",
       "      <td>0.000000</td>\n",
       "      <td>3.000000</td>\n",
       "      <td>7.000000</td>\n",
       "      <td>1190.000000</td>\n",
       "      <td>0.000000</td>\n",
       "      <td>1951.000000</td>\n",
       "      <td>0.000000</td>\n",
       "      <td>98033.000000</td>\n",
       "      <td>47.471000</td>\n",
       "      <td>-122.328000</td>\n",
       "      <td>1490.000000</td>\n",
       "      <td>5100.000000</td>\n",
       "    </tr>\n",
       "    <tr>\n",
       "      <th>50%</th>\n",
       "      <td>3.904930e+09</td>\n",
       "      <td>4.500000e+05</td>\n",
       "      <td>3.000000</td>\n",
       "      <td>2.250000</td>\n",
       "      <td>1910.000000</td>\n",
       "      <td>7.618000e+03</td>\n",
       "      <td>1.500000</td>\n",
       "      <td>0.000000</td>\n",
       "      <td>0.000000</td>\n",
       "      <td>3.000000</td>\n",
       "      <td>7.000000</td>\n",
       "      <td>1560.000000</td>\n",
       "      <td>0.000000</td>\n",
       "      <td>1975.000000</td>\n",
       "      <td>0.000000</td>\n",
       "      <td>98065.000000</td>\n",
       "      <td>47.571800</td>\n",
       "      <td>-122.230000</td>\n",
       "      <td>1840.000000</td>\n",
       "      <td>7620.000000</td>\n",
       "    </tr>\n",
       "    <tr>\n",
       "      <th>75%</th>\n",
       "      <td>7.308900e+09</td>\n",
       "      <td>6.450000e+05</td>\n",
       "      <td>4.000000</td>\n",
       "      <td>2.500000</td>\n",
       "      <td>2550.000000</td>\n",
       "      <td>1.068800e+04</td>\n",
       "      <td>2.000000</td>\n",
       "      <td>0.000000</td>\n",
       "      <td>0.000000</td>\n",
       "      <td>4.000000</td>\n",
       "      <td>8.000000</td>\n",
       "      <td>2210.000000</td>\n",
       "      <td>560.000000</td>\n",
       "      <td>1997.000000</td>\n",
       "      <td>0.000000</td>\n",
       "      <td>98118.000000</td>\n",
       "      <td>47.678000</td>\n",
       "      <td>-122.125000</td>\n",
       "      <td>2360.000000</td>\n",
       "      <td>10083.000000</td>\n",
       "    </tr>\n",
       "    <tr>\n",
       "      <th>max</th>\n",
       "      <td>9.900000e+09</td>\n",
       "      <td>7.700000e+06</td>\n",
       "      <td>33.000000</td>\n",
       "      <td>8.000000</td>\n",
       "      <td>13540.000000</td>\n",
       "      <td>1.651359e+06</td>\n",
       "      <td>3.500000</td>\n",
       "      <td>1.000000</td>\n",
       "      <td>4.000000</td>\n",
       "      <td>5.000000</td>\n",
       "      <td>13.000000</td>\n",
       "      <td>9410.000000</td>\n",
       "      <td>4820.000000</td>\n",
       "      <td>2015.000000</td>\n",
       "      <td>2015.000000</td>\n",
       "      <td>98199.000000</td>\n",
       "      <td>47.777600</td>\n",
       "      <td>-121.315000</td>\n",
       "      <td>6210.000000</td>\n",
       "      <td>871200.000000</td>\n",
       "    </tr>\n",
       "  </tbody>\n",
       "</table>\n",
       "</div>"
      ],
      "text/plain": [
       "                 id         price      bedrooms     bathrooms   sqft_living  \\\n",
       "count  2.161300e+04  2.161300e+04  21613.000000  21613.000000  21613.000000   \n",
       "mean   4.580302e+09  5.400881e+05      3.370842      2.114757   2079.899736   \n",
       "std    2.876566e+09  3.671272e+05      0.930062      0.770163    918.440897   \n",
       "min    1.000102e+06  7.500000e+04      0.000000      0.000000    290.000000   \n",
       "25%    2.123049e+09  3.219500e+05      3.000000      1.750000   1427.000000   \n",
       "50%    3.904930e+09  4.500000e+05      3.000000      2.250000   1910.000000   \n",
       "75%    7.308900e+09  6.450000e+05      4.000000      2.500000   2550.000000   \n",
       "max    9.900000e+09  7.700000e+06     33.000000      8.000000  13540.000000   \n",
       "\n",
       "           sqft_lot        floors    waterfront          view     condition  \\\n",
       "count  2.161300e+04  21613.000000  21613.000000  21613.000000  21613.000000   \n",
       "mean   1.510697e+04      1.494309      0.007542      0.234303      3.409430   \n",
       "std    4.142051e+04      0.539989      0.086517      0.766318      0.650743   \n",
       "min    5.200000e+02      1.000000      0.000000      0.000000      1.000000   \n",
       "25%    5.040000e+03      1.000000      0.000000      0.000000      3.000000   \n",
       "50%    7.618000e+03      1.500000      0.000000      0.000000      3.000000   \n",
       "75%    1.068800e+04      2.000000      0.000000      0.000000      4.000000   \n",
       "max    1.651359e+06      3.500000      1.000000      4.000000      5.000000   \n",
       "\n",
       "              grade    sqft_above  sqft_basement      yr_built  yr_renovated  \\\n",
       "count  21613.000000  21613.000000   21613.000000  21613.000000  21613.000000   \n",
       "mean       7.656873   1788.390691     291.509045   1971.005136     84.402258   \n",
       "std        1.175459    828.090978     442.575043     29.373411    401.679240   \n",
       "min        1.000000    290.000000       0.000000   1900.000000      0.000000   \n",
       "25%        7.000000   1190.000000       0.000000   1951.000000      0.000000   \n",
       "50%        7.000000   1560.000000       0.000000   1975.000000      0.000000   \n",
       "75%        8.000000   2210.000000     560.000000   1997.000000      0.000000   \n",
       "max       13.000000   9410.000000    4820.000000   2015.000000   2015.000000   \n",
       "\n",
       "            zipcode           lat          long  sqft_living15     sqft_lot15  \n",
       "count  21613.000000  21613.000000  21613.000000   21613.000000   21613.000000  \n",
       "mean   98077.939805     47.560053   -122.213896    1986.552492   12768.455652  \n",
       "std       53.505026      0.138564      0.140828     685.391304   27304.179631  \n",
       "min    98001.000000     47.155900   -122.519000     399.000000     651.000000  \n",
       "25%    98033.000000     47.471000   -122.328000    1490.000000    5100.000000  \n",
       "50%    98065.000000     47.571800   -122.230000    1840.000000    7620.000000  \n",
       "75%    98118.000000     47.678000   -122.125000    2360.000000   10083.000000  \n",
       "max    98199.000000     47.777600   -121.315000    6210.000000  871200.000000  "
      ]
     },
     "execution_count": 29,
     "metadata": {},
     "output_type": "execute_result"
    }
   ],
   "source": [
    "# describe() metodu değişken ile alakalı bazı istatistiksel bilgilere ulaşmamızı sağlar\n",
    "houses.describe()"
   ]
  },
  {
   "cell_type": "code",
   "execution_count": 30,
   "id": "44a20556",
   "metadata": {},
   "outputs": [
    {
     "data": {
      "text/plain": [
       "count    2.161300e+04\n",
       "mean     5.400881e+05\n",
       "std      3.671272e+05\n",
       "min      7.500000e+04\n",
       "25%      3.219500e+05\n",
       "50%      4.500000e+05\n",
       "75%      6.450000e+05\n",
       "max      7.700000e+06\n",
       "Name: price, dtype: float64"
      ]
     },
     "execution_count": 30,
     "metadata": {},
     "output_type": "execute_result"
    }
   ],
   "source": [
    "# Seri yapısı üzerinde uygulayalım\n",
    "houses[\"price\"].describe()"
   ]
  },
  {
   "cell_type": "code",
   "execution_count": 31,
   "id": "814e7898",
   "metadata": {},
   "outputs": [
    {
     "data": {
      "text/plain": [
       "count      8803\n",
       "unique       17\n",
       "top       TV-MA\n",
       "freq       3207\n",
       "Name: rating, dtype: object"
      ]
     },
     "execution_count": 31,
     "metadata": {},
     "output_type": "execute_result"
    }
   ],
   "source": [
    "# Seri yapısı üzerinde uygulayalım\n",
    "netflix[\"rating\"].describe()"
   ]
  },
  {
   "cell_type": "code",
   "execution_count": 32,
   "id": "586e6352",
   "metadata": {},
   "outputs": [
    {
     "name": "stdout",
     "output_type": "stream",
     "text": [
      "<class 'pandas.core.frame.DataFrame'>\n",
      "Int64Index: 8807 entries, 0 to 8806\n",
      "Data columns (total 12 columns):\n",
      " #   Column        Non-Null Count  Dtype \n",
      "---  ------        --------------  ----- \n",
      " 0   show_id       8807 non-null   object\n",
      " 1   type          8807 non-null   object\n",
      " 2   title         8807 non-null   object\n",
      " 3   director      6173 non-null   object\n",
      " 4   cast          7982 non-null   object\n",
      " 5   country       7976 non-null   object\n",
      " 6   date_added    8797 non-null   object\n",
      " 7   release_year  8807 non-null   int64 \n",
      " 8   rating        8803 non-null   object\n",
      " 9   duration      8804 non-null   object\n",
      " 10  listed_in     8807 non-null   object\n",
      " 11  description   8807 non-null   object\n",
      "dtypes: int64(1), object(11)\n",
      "memory usage: 894.5+ KB\n"
     ]
    }
   ],
   "source": [
    "# info() metodunu hatırlayalım\n",
    "netflix.info()"
   ]
  },
  {
   "cell_type": "code",
   "execution_count": 33,
   "id": "7ef9130a",
   "metadata": {},
   "outputs": [
    {
     "data": {
      "text/plain": [
       "show_id         object\n",
       "type            object\n",
       "title           object\n",
       "director        object\n",
       "cast            object\n",
       "country         object\n",
       "date_added      object\n",
       "release_year     int64\n",
       "rating          object\n",
       "duration        object\n",
       "listed_in       object\n",
       "description     object\n",
       "dtype: object"
      ]
     },
     "execution_count": 33,
     "metadata": {},
     "output_type": "execute_result"
    }
   ],
   "source": [
    "# dtypes, geriye bir seri yapısı döner, ilkel bir info() metoduna benzetilebilir.\n",
    "netflix.dtypes"
   ]
  },
  {
   "cell_type": "code",
   "execution_count": 34,
   "id": "84371ae7",
   "metadata": {},
   "outputs": [
    {
     "data": {
      "text/plain": [
       "count    8807.000000\n",
       "mean     2014.180198\n",
       "std         8.819312\n",
       "min      1925.000000\n",
       "25%      2013.000000\n",
       "50%      2017.000000\n",
       "75%      2019.000000\n",
       "max      2021.000000\n",
       "Name: release_year, dtype: float64"
      ]
     },
     "execution_count": 34,
     "metadata": {},
     "output_type": "execute_result"
    }
   ],
   "source": [
    "# release_year sütununun nümerik olduğunu gördük. describe() metodunu uygulayalım\n",
    "netflix[\"release_year\"].describe()"
   ]
  },
  {
   "cell_type": "code",
   "execution_count": 35,
   "id": "9cedc0b8",
   "metadata": {},
   "outputs": [
    {
     "data": {
      "text/plain": [
       "dtype('O')"
      ]
     },
     "execution_count": 35,
     "metadata": {},
     "output_type": "execute_result"
    }
   ],
   "source": [
    "titanic[\"name\"].dtype"
   ]
  }
 ],
 "metadata": {
  "kernelspec": {
   "display_name": "Python 3 (ipykernel)",
   "language": "python",
   "name": "python3"
  },
  "language_info": {
   "codemirror_mode": {
    "name": "ipython",
    "version": 3
   },
   "file_extension": ".py",
   "mimetype": "text/x-python",
   "name": "python",
   "nbconvert_exporter": "python",
   "pygments_lexer": "ipython3",
   "version": "3.7.13"
  }
 },
 "nbformat": 4,
 "nbformat_minor": 5
}
