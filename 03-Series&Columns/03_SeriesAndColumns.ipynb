{
 "cells": [
  {
   "cell_type": "markdown",
   "id": "7f3dd798",
   "metadata": {},
   "source": [
    "# SERIES & COLUMNS\n",
    "***\n",
    "## $Selecting$ $A$ $Single$ $Column$"
   ]
  },
  {
   "cell_type": "code",
   "execution_count": 1,
   "id": "4792456b",
   "metadata": {},
   "outputs": [],
   "source": [
    "# Pandas modülünü import edelim\n",
    "import pandas as pd"
   ]
  },
  {
   "cell_type": "code",
   "execution_count": 2,
   "id": "3d0c689f",
   "metadata": {},
   "outputs": [],
   "source": [
    "# Çalışmamızda kullanacağımız bütün veri setlerini import edelim\n",
    "houses = pd.read_csv(\"../data/kc_house_data.csv\")\n",
    "titanic = pd.read_csv(\"../data/titanic.csv\")\n",
    "netflix = pd.read_csv(\"../data/netflix_titles.csv\", sep=\"|\", index_col=0)"
   ]
  },
  {
   "cell_type": "code",
   "execution_count": 3,
   "id": "f30f5546",
   "metadata": {},
   "outputs": [
    {
     "data": {
      "text/html": [
       "<div>\n",
       "<style scoped>\n",
       "    .dataframe tbody tr th:only-of-type {\n",
       "        vertical-align: middle;\n",
       "    }\n",
       "\n",
       "    .dataframe tbody tr th {\n",
       "        vertical-align: top;\n",
       "    }\n",
       "\n",
       "    .dataframe thead th {\n",
       "        text-align: right;\n",
       "    }\n",
       "</style>\n",
       "<table border=\"1\" class=\"dataframe\">\n",
       "  <thead>\n",
       "    <tr style=\"text-align: right;\">\n",
       "      <th></th>\n",
       "      <th>pclass</th>\n",
       "      <th>survived</th>\n",
       "      <th>name</th>\n",
       "      <th>sex</th>\n",
       "      <th>age</th>\n",
       "      <th>sibsp</th>\n",
       "      <th>parch</th>\n",
       "      <th>ticket</th>\n",
       "      <th>fare</th>\n",
       "      <th>cabin</th>\n",
       "      <th>embarked</th>\n",
       "      <th>boat</th>\n",
       "      <th>body</th>\n",
       "      <th>home.dest</th>\n",
       "    </tr>\n",
       "  </thead>\n",
       "  <tbody>\n",
       "    <tr>\n",
       "      <th>0</th>\n",
       "      <td>1</td>\n",
       "      <td>1</td>\n",
       "      <td>Allen, Miss. Elisabeth Walton</td>\n",
       "      <td>female</td>\n",
       "      <td>29</td>\n",
       "      <td>0</td>\n",
       "      <td>0</td>\n",
       "      <td>24160</td>\n",
       "      <td>211.3375</td>\n",
       "      <td>B5</td>\n",
       "      <td>S</td>\n",
       "      <td>2</td>\n",
       "      <td>?</td>\n",
       "      <td>St Louis, MO</td>\n",
       "    </tr>\n",
       "    <tr>\n",
       "      <th>1</th>\n",
       "      <td>1</td>\n",
       "      <td>1</td>\n",
       "      <td>Allison, Master. Hudson Trevor</td>\n",
       "      <td>male</td>\n",
       "      <td>0.9167</td>\n",
       "      <td>1</td>\n",
       "      <td>2</td>\n",
       "      <td>113781</td>\n",
       "      <td>151.55</td>\n",
       "      <td>C22 C26</td>\n",
       "      <td>S</td>\n",
       "      <td>11</td>\n",
       "      <td>?</td>\n",
       "      <td>Montreal, PQ / Chesterville, ON</td>\n",
       "    </tr>\n",
       "    <tr>\n",
       "      <th>2</th>\n",
       "      <td>1</td>\n",
       "      <td>0</td>\n",
       "      <td>Allison, Miss. Helen Loraine</td>\n",
       "      <td>female</td>\n",
       "      <td>2</td>\n",
       "      <td>1</td>\n",
       "      <td>2</td>\n",
       "      <td>113781</td>\n",
       "      <td>151.55</td>\n",
       "      <td>C22 C26</td>\n",
       "      <td>S</td>\n",
       "      <td>?</td>\n",
       "      <td>?</td>\n",
       "      <td>Montreal, PQ / Chesterville, ON</td>\n",
       "    </tr>\n",
       "    <tr>\n",
       "      <th>3</th>\n",
       "      <td>1</td>\n",
       "      <td>0</td>\n",
       "      <td>Allison, Mr. Hudson Joshua Creighton</td>\n",
       "      <td>male</td>\n",
       "      <td>30</td>\n",
       "      <td>1</td>\n",
       "      <td>2</td>\n",
       "      <td>113781</td>\n",
       "      <td>151.55</td>\n",
       "      <td>C22 C26</td>\n",
       "      <td>S</td>\n",
       "      <td>?</td>\n",
       "      <td>135</td>\n",
       "      <td>Montreal, PQ / Chesterville, ON</td>\n",
       "    </tr>\n",
       "    <tr>\n",
       "      <th>4</th>\n",
       "      <td>1</td>\n",
       "      <td>0</td>\n",
       "      <td>Allison, Mrs. Hudson J C (Bessie Waldo Daniels)</td>\n",
       "      <td>female</td>\n",
       "      <td>25</td>\n",
       "      <td>1</td>\n",
       "      <td>2</td>\n",
       "      <td>113781</td>\n",
       "      <td>151.55</td>\n",
       "      <td>C22 C26</td>\n",
       "      <td>S</td>\n",
       "      <td>?</td>\n",
       "      <td>?</td>\n",
       "      <td>Montreal, PQ / Chesterville, ON</td>\n",
       "    </tr>\n",
       "  </tbody>\n",
       "</table>\n",
       "</div>"
      ],
      "text/plain": [
       "   pclass  survived                                             name     sex  \\\n",
       "0       1         1                    Allen, Miss. Elisabeth Walton  female   \n",
       "1       1         1                   Allison, Master. Hudson Trevor    male   \n",
       "2       1         0                     Allison, Miss. Helen Loraine  female   \n",
       "3       1         0             Allison, Mr. Hudson Joshua Creighton    male   \n",
       "4       1         0  Allison, Mrs. Hudson J C (Bessie Waldo Daniels)  female   \n",
       "\n",
       "      age  sibsp  parch  ticket      fare    cabin embarked boat body  \\\n",
       "0      29      0      0   24160  211.3375       B5        S    2    ?   \n",
       "1  0.9167      1      2  113781    151.55  C22 C26        S   11    ?   \n",
       "2       2      1      2  113781    151.55  C22 C26        S    ?    ?   \n",
       "3      30      1      2  113781    151.55  C22 C26        S    ?  135   \n",
       "4      25      1      2  113781    151.55  C22 C26        S    ?    ?   \n",
       "\n",
       "                         home.dest  \n",
       "0                     St Louis, MO  \n",
       "1  Montreal, PQ / Chesterville, ON  \n",
       "2  Montreal, PQ / Chesterville, ON  \n",
       "3  Montreal, PQ / Chesterville, ON  \n",
       "4  Montreal, PQ / Chesterville, ON  "
      ]
     },
     "execution_count": 3,
     "metadata": {},
     "output_type": "execute_result"
    }
   ],
   "source": [
    "# Titanic veri setinin ilk beş örneğini inceleyelim\n",
    "titanic.head()"
   ]
  },
  {
   "cell_type": "code",
   "execution_count": 4,
   "id": "1174bc80",
   "metadata": {},
   "outputs": [
    {
     "name": "stdout",
     "output_type": "stream",
     "text": [
      "0                         Allen, Miss. Elisabeth Walton\n",
      "1                        Allison, Master. Hudson Trevor\n",
      "2                          Allison, Miss. Helen Loraine\n",
      "3                  Allison, Mr. Hudson Joshua Creighton\n",
      "4       Allison, Mrs. Hudson J C (Bessie Waldo Daniels)\n",
      "                             ...                       \n",
      "1304                               Zabour, Miss. Hileni\n",
      "1305                              Zabour, Miss. Thamine\n",
      "1306                          Zakarian, Mr. Mapriededer\n",
      "1307                                Zakarian, Mr. Ortin\n",
      "1308                                 Zimmerman, Mr. Leo\n",
      "Name: name, Length: 1309, dtype: object\n"
     ]
    }
   ],
   "source": [
    "# Titanic veri setinin \"name\" sütununu seçelim\n",
    "print(titanic.name)"
   ]
  },
  {
   "cell_type": "code",
   "execution_count": 5,
   "id": "6adb79a6",
   "metadata": {},
   "outputs": [
    {
     "name": "stdout",
     "output_type": "stream",
     "text": [
      "0                         Allen, Miss. Elisabeth Walton\n",
      "1                        Allison, Master. Hudson Trevor\n",
      "2                          Allison, Miss. Helen Loraine\n",
      "3                  Allison, Mr. Hudson Joshua Creighton\n",
      "4       Allison, Mrs. Hudson J C (Bessie Waldo Daniels)\n",
      "                             ...                       \n",
      "1304                               Zabour, Miss. Hileni\n",
      "1305                              Zabour, Miss. Thamine\n",
      "1306                          Zakarian, Mr. Mapriededer\n",
      "1307                                Zakarian, Mr. Ortin\n",
      "1308                                 Zimmerman, Mr. Leo\n",
      "Name: name, Length: 1309, dtype: object\n"
     ]
    }
   ],
   "source": [
    "# Aynı işlemi aşağıdaki şekilde de gerçekleştirebiliriz\n",
    "print(titanic[\"name\"])"
   ]
  },
  {
   "cell_type": "code",
   "execution_count": 6,
   "id": "7dcb55a8",
   "metadata": {},
   "outputs": [
    {
     "data": {
      "text/plain": [
       "pandas.core.series.Series"
      ]
     },
     "execution_count": 6,
     "metadata": {},
     "output_type": "execute_result"
    }
   ],
   "source": [
    "# Elde ettiğimiz yapının ne olduğunu görelim\n",
    "type(titanic[\"name\"])"
   ]
  },
  {
   "cell_type": "code",
   "execution_count": 7,
   "id": "d57ea3c4",
   "metadata": {},
   "outputs": [
    {
     "data": {
      "text/plain": [
       "(1309, 14)"
      ]
     },
     "execution_count": 7,
     "metadata": {},
     "output_type": "execute_result"
    }
   ],
   "source": [
    "# Titanic veri setinin boyutlarına bakalım\n",
    "titanic.shape"
   ]
  },
  {
   "cell_type": "code",
   "execution_count": 8,
   "id": "b9d522d6",
   "metadata": {},
   "outputs": [
    {
     "data": {
      "text/plain": [
       "0           29\n",
       "1       0.9167\n",
       "2            2\n",
       "3           30\n",
       "4           25\n",
       "         ...  \n",
       "1304      14.5\n",
       "1305         ?\n",
       "1306      26.5\n",
       "1307        27\n",
       "1308        29\n",
       "Name: age, Length: 1309, dtype: object"
      ]
     },
     "execution_count": 8,
     "metadata": {},
     "output_type": "execute_result"
    }
   ],
   "source": [
    "# Age sütununu inceleyelim\n",
    "titanic[\"age\"]"
   ]
  },
  {
   "cell_type": "markdown",
   "id": "04997377",
   "metadata": {},
   "source": [
    "***\n",
    "**Yukarıda gerçekleştirdiğimiz işlemleri incelediğinizde, `titanic.age` ile `titanic[\"age\"]` kullanımının aynı sonucu verdiğini görebilirsiniz. Bununla birlikte, güvenlik ve okunabilirlik açısından *`titanic[\"age]`* kullanımı daha uygundur. Sütun isminde bir *boşluk* karakteri varsa, sütun isminde bir \"nokta\" işareti varsa, birden fazla sütunu aynı anda kullanmak istiyorsak `.` ile kullanım yanlış tercih olacaktır, `[\"\"]` kullanımı ile bu yanlış tercihin önüne geçilebilir. Bununla birlikte kullandığımız sütun ismi, kod içerisindeki bir sınıf, metot, değişken ismi ile aynı olabilir. Bu durumda karmaşa yaratmamak adına yine `[\"\"]` formatını kullanmak uygun olacaktır. Ayrıca bu formatı kullanarak aşağıdaki dinamik işlemleri de gerçekleştirebiliriz.**\n",
    "***"
   ]
  },
  {
   "cell_type": "code",
   "execution_count": 9,
   "id": "9ef91e22",
   "metadata": {},
   "outputs": [],
   "source": [
    "ageValue = \"age\""
   ]
  },
  {
   "cell_type": "code",
   "execution_count": 10,
   "id": "96471f5f",
   "metadata": {},
   "outputs": [
    {
     "data": {
      "text/plain": [
       "0           29\n",
       "1       0.9167\n",
       "2            2\n",
       "3           30\n",
       "4           25\n",
       "         ...  \n",
       "1304      14.5\n",
       "1305         ?\n",
       "1306      26.5\n",
       "1307        27\n",
       "1308        29\n",
       "Name: age, Length: 1309, dtype: object"
      ]
     },
     "execution_count": 10,
     "metadata": {},
     "output_type": "execute_result"
    }
   ],
   "source": [
    "titanic[ageValue]"
   ]
  },
  {
   "cell_type": "markdown",
   "id": "6b5ddc7d",
   "metadata": {},
   "source": [
    "***\n",
    "## $Closer$ $Look$ $At$ $Series$"
   ]
  },
  {
   "cell_type": "markdown",
   "id": "63fa5559",
   "metadata": {},
   "source": [
    "**`TANIM`**: Seriler, tek boyutlu etiketli dizilerdir. Etiktet değerleri, indis olarak kullanılabilir. Seri verilerine `values`, indis değerlerine ise `index` metotları ile erişilebilir. Bir yapı, `Series` komutu ile Pandas serisine dönüştürülebilir. Bununla birlite; `value_counts` metodu ile seri içerisinde her bir elemandan kaç adet olduğu yani sıklık bilgisi, `size` metodu ile serinin eleman sayısı, `mode` metodu ile seride en çok tekrar eden eleman bilgisine erişebiliriz."
   ]
  },
  {
   "cell_type": "code",
   "execution_count": 11,
   "id": "dd180556",
   "metadata": {},
   "outputs": [],
   "source": [
    "# Seriler konusunu işlerken \"titanic\" dataframe'inin \"name\" sütununu ele alalım\n",
    "names = titanic[\"name\"]"
   ]
  },
  {
   "cell_type": "code",
   "execution_count": 12,
   "id": "73605982",
   "metadata": {},
   "outputs": [
    {
     "data": {
      "text/plain": [
       "pandas.core.series.Series"
      ]
     },
     "execution_count": 12,
     "metadata": {},
     "output_type": "execute_result"
    }
   ],
   "source": [
    "# \"names\" değişkenininy yapısını inceleyelim\n",
    "type(names)"
   ]
  },
  {
   "cell_type": "code",
   "execution_count": 13,
   "id": "45fc612f",
   "metadata": {},
   "outputs": [
    {
     "name": "stdout",
     "output_type": "stream",
     "text": [
      "0                         Allen, Miss. Elisabeth Walton\n",
      "1                        Allison, Master. Hudson Trevor\n",
      "2                          Allison, Miss. Helen Loraine\n",
      "3                  Allison, Mr. Hudson Joshua Creighton\n",
      "4       Allison, Mrs. Hudson J C (Bessie Waldo Daniels)\n",
      "                             ...                       \n",
      "1304                               Zabour, Miss. Hileni\n",
      "1305                              Zabour, Miss. Thamine\n",
      "1306                          Zakarian, Mr. Mapriededer\n",
      "1307                                Zakarian, Mr. Ortin\n",
      "1308                                 Zimmerman, Mr. Leo\n",
      "Name: name, Length: 1309, dtype: object\n"
     ]
    }
   ],
   "source": [
    "# Gördüğünüz üzere \"names\" Seri veri tipinde bir değişkendir.\n",
    "print(names)"
   ]
  },
  {
   "cell_type": "code",
   "execution_count": 14,
   "id": "c2c232e2",
   "metadata": {},
   "outputs": [
    {
     "name": "stdout",
     "output_type": "stream",
     "text": [
      "Values of the \"names\" series: ['Allen, Miss. Elisabeth Walton' 'Allison, Master. Hudson Trevor'\n",
      " 'Allison, Miss. Helen Loraine' ... 'Zakarian, Mr. Mapriededer'\n",
      " 'Zakarian, Mr. Ortin' 'Zimmerman, Mr. Leo']\n",
      "\n",
      "\n",
      "İndexes of the \"names\" series: RangeIndex(start=0, stop=1309, step=1)\n",
      "\n",
      "\n",
      "Value counts of the \"names\" series:\n",
      " <bound method IndexOpsMixin.value_counts of 0                         Allen, Miss. Elisabeth Walton\n",
      "1                        Allison, Master. Hudson Trevor\n",
      "2                          Allison, Miss. Helen Loraine\n",
      "3                  Allison, Mr. Hudson Joshua Creighton\n",
      "4       Allison, Mrs. Hudson J C (Bessie Waldo Daniels)\n",
      "                             ...                       \n",
      "1304                               Zabour, Miss. Hileni\n",
      "1305                              Zabour, Miss. Thamine\n",
      "1306                          Zakarian, Mr. Mapriededer\n",
      "1307                                Zakarian, Mr. Ortin\n",
      "1308                                 Zimmerman, Mr. Leo\n",
      "Name: name, Length: 1309, dtype: object>\n",
      "\n",
      "Size of the \"names\" series: 1309\n",
      "\n",
      "\n",
      "Mode of the \"names\" series: <bound method Series.mode of 0                         Allen, Miss. Elisabeth Walton\n",
      "1                        Allison, Master. Hudson Trevor\n",
      "2                          Allison, Miss. Helen Loraine\n",
      "3                  Allison, Mr. Hudson Joshua Creighton\n",
      "4       Allison, Mrs. Hudson J C (Bessie Waldo Daniels)\n",
      "                             ...                       \n",
      "1304                               Zabour, Miss. Hileni\n",
      "1305                              Zabour, Miss. Thamine\n",
      "1306                          Zakarian, Mr. Mapriededer\n",
      "1307                                Zakarian, Mr. Ortin\n",
      "1308                                 Zimmerman, Mr. Leo\n",
      "Name: name, Length: 1309, dtype: object>\n",
      "\n",
      "\n"
     ]
    }
   ],
   "source": [
    "# Tanım kısmında bahsedilen metotları inceleyelim.\n",
    "print(f\"Values of the \\\"names\\\" series: {names.values}\\n\\n\")\n",
    "print(f\"İndexes of the \\\"names\\\" series: {names.index}\\n\\n\")\n",
    "print(f\"Value counts of the \\\"names\\\" series:\\n {names.value_counts}\\n\")\n",
    "print(f\"Size of the \\\"names\\\" series: {names.size}\\n\\n\")\n",
    "print(f\"Mode of the \\\"names\\\" series: {names.mode}\\n\\n\")"
   ]
  },
  {
   "cell_type": "code",
   "execution_count": 15,
   "id": "e13c2a46",
   "metadata": {},
   "outputs": [],
   "source": [
    "# Serinin etiketi her zaman nümerik olmak zorunda değildir.\n",
    "# Bunu görmek için mean() metodunu kullanalım. mean() metodu geriye bir seri veri yapısında değişken döner.\n",
    "houses_mean = houses.mean(numeric_only=True)"
   ]
  },
  {
   "cell_type": "code",
   "execution_count": 16,
   "id": "c1bdedb6",
   "metadata": {},
   "outputs": [
    {
     "name": "stdout",
     "output_type": "stream",
     "text": [
      "id               4.580302e+09\n",
      "price            5.400881e+05\n",
      "bedrooms         3.370842e+00\n",
      "bathrooms        2.114757e+00\n",
      "sqft_living      2.079900e+03\n",
      "sqft_lot         1.510697e+04\n",
      "floors           1.494309e+00\n",
      "waterfront       7.541757e-03\n",
      "view             2.343034e-01\n",
      "condition        3.409430e+00\n",
      "grade            7.656873e+00\n",
      "sqft_above       1.788391e+03\n",
      "sqft_basement    2.915090e+02\n",
      "yr_built         1.971005e+03\n",
      "yr_renovated     8.440226e+01\n",
      "zipcode          9.807794e+04\n",
      "lat              4.756005e+01\n",
      "long            -1.222139e+02\n",
      "sqft_living15    1.986552e+03\n",
      "sqft_lot15       1.276846e+04\n",
      "dtype: float64\n"
     ]
    }
   ],
   "source": [
    "# Görüldüğü üzere aşağıdaki serinin etiketleri string tipindedir.\n",
    "print(houses_mean)"
   ]
  },
  {
   "cell_type": "code",
   "execution_count": 17,
   "id": "f05324af",
   "metadata": {},
   "outputs": [
    {
     "name": "stdout",
     "output_type": "stream",
     "text": [
      "Index(['id', 'price', 'bedrooms', 'bathrooms', 'sqft_living', 'sqft_lot',\n",
      "       'floors', 'waterfront', 'view', 'condition', 'grade', 'sqft_above',\n",
      "       'sqft_basement', 'yr_built', 'yr_renovated', 'zipcode', 'lat', 'long',\n",
      "       'sqft_living15', 'sqft_lot15'],\n",
      "      dtype='object')\n"
     ]
    }
   ],
   "source": [
    "# Daha detaylı bakalım\n",
    "print(houses_mean.index)"
   ]
  },
  {
   "cell_type": "code",
   "execution_count": 18,
   "id": "5fdfaf09",
   "metadata": {},
   "outputs": [
    {
     "data": {
      "text/plain": [
       "pandas.core.series.Series"
      ]
     },
     "execution_count": 18,
     "metadata": {},
     "output_type": "execute_result"
    }
   ],
   "source": [
    "# Kontrol edelim\n",
    "type(houses_mean)"
   ]
  },
  {
   "cell_type": "code",
   "execution_count": 19,
   "id": "4b4e7275",
   "metadata": {},
   "outputs": [
    {
     "data": {
      "text/plain": [
       "id                                                  98994056770455\n",
       "date             20141013T00000020141209T00000020150225T0000002...\n",
       "price                                                11672925008.0\n",
       "bedrooms                                                     72854\n",
       "bathrooms                                                 45706.25\n",
       "sqft_living                                               44952873\n",
       "sqft_lot                                                 326506890\n",
       "floors                                                     32296.5\n",
       "waterfront                                                     163\n",
       "view                                                          5064\n",
       "condition                                                    73688\n",
       "grade                                                       165488\n",
       "sqft_above                                                38652488\n",
       "sqft_basement                                              6300385\n",
       "yr_built                                                  42599334\n",
       "yr_renovated                                               1824186\n",
       "zipcode                                                 2119758513\n",
       "lat                                                   1027915.4151\n",
       "long                                                  -2641408.943\n",
       "sqft_living15                                             42935359\n",
       "sqft_lot15                                               275964632\n",
       "dtype: object"
      ]
     },
     "execution_count": 19,
     "metadata": {},
     "output_type": "execute_result"
    }
   ],
   "source": [
    "# sum() metodu, belirtilen dataframe ya da series tipindeki değişken içerisindeki verileri toplar.\n",
    "houses.sum()"
   ]
  },
  {
   "cell_type": "code",
   "execution_count": 20,
   "id": "93c164d9",
   "metadata": {},
   "outputs": [
    {
     "data": {
      "text/plain": [
       "11672925008.0"
      ]
     },
     "execution_count": 20,
     "metadata": {},
     "output_type": "execute_result"
    }
   ],
   "source": [
    "# Bir seri için sum() metodunu kullanalım\n",
    "houses[\"price\"].sum()"
   ]
  },
  {
   "cell_type": "code",
   "execution_count": 21,
   "id": "061617d7",
   "metadata": {},
   "outputs": [
    {
     "name": "stdout",
     "output_type": "stream",
     "text": [
      "Type of \"houses\": <class 'pandas.core.frame.DataFrame'>\n",
      "Type of \"houses.sum()\": <class 'pandas.core.series.Series'>\n",
      "Type of \"houses.price\": <class 'pandas.core.series.Series'>\n",
      "Type of \"houses.price.sum()\": <class 'numpy.float64'>\n"
     ]
    }
   ],
   "source": [
    "# Veri tiplerini inceleyelim.\n",
    "print(f\"Type of \\\"houses\\\": {type(houses)}\")\n",
    "print(f\"Type of \\\"houses.sum()\\\": {type(houses.sum())}\")\n",
    "\n",
    "print(f\"Type of \\\"houses.price\\\": {type(houses.price)}\")\n",
    "print(f\"Type of \\\"houses.price.sum()\\\": {type(houses.price.sum())}\")"
   ]
  },
  {
   "cell_type": "code",
   "execution_count": 22,
   "id": "d220f8c1",
   "metadata": {},
   "outputs": [
    {
     "name": "stdout",
     "output_type": "stream",
     "text": [
      "id               9.900000e+09\n",
      "price            7.700000e+06\n",
      "bedrooms         3.300000e+01\n",
      "bathrooms        8.000000e+00\n",
      "sqft_living      1.354000e+04\n",
      "sqft_lot         1.651359e+06\n",
      "floors           3.500000e+00\n",
      "waterfront       1.000000e+00\n",
      "view             4.000000e+00\n",
      "condition        5.000000e+00\n",
      "grade            1.300000e+01\n",
      "sqft_above       9.410000e+03\n",
      "sqft_basement    4.820000e+03\n",
      "yr_built         2.015000e+03\n",
      "yr_renovated     2.015000e+03\n",
      "zipcode          9.819900e+04\n",
      "lat              4.777760e+01\n",
      "long            -1.213150e+02\n",
      "sqft_living15    6.210000e+03\n",
      "sqft_lot15       8.712000e+05\n",
      "dtype: float64\n"
     ]
    }
   ],
   "source": [
    "# Aynı işlemleri max() metodu için de gerçekleştirmek mümkündür.\n",
    "print(houses.max(numeric_only=True))"
   ]
  },
  {
   "cell_type": "code",
   "execution_count": 23,
   "id": "64a852ca",
   "metadata": {},
   "outputs": [
    {
     "name": "stdout",
     "output_type": "stream",
     "text": [
      "7700000.0\n"
     ]
    }
   ],
   "source": [
    "print(houses[\"price\"].max())"
   ]
  },
  {
   "cell_type": "code",
   "execution_count": 24,
   "id": "55988684",
   "metadata": {},
   "outputs": [
    {
     "name": "stdout",
     "output_type": "stream",
     "text": [
      "<class 'pandas.core.series.Series'>\n"
     ]
    }
   ],
   "source": [
    "print(type(houses.max()))"
   ]
  },
  {
   "cell_type": "code",
   "execution_count": 25,
   "id": "abb66bd8",
   "metadata": {},
   "outputs": [
    {
     "name": "stdout",
     "output_type": "stream",
     "text": [
      "<class 'float'>\n"
     ]
    }
   ],
   "source": [
    "print(type(houses[\"price\"].max()))"
   ]
  },
  {
   "cell_type": "code",
   "execution_count": 26,
   "id": "db084529",
   "metadata": {},
   "outputs": [
    {
     "data": {
      "text/plain": [
       "(1309,)"
      ]
     },
     "execution_count": 26,
     "metadata": {},
     "output_type": "execute_result"
    }
   ],
   "source": [
    "# Peki seri veri tipindeki bir değişkenin shape niteliğine baktığımızda ne görürüz?\n",
    "names.shape"
   ]
  },
  {
   "cell_type": "markdown",
   "id": "1572fdec",
   "metadata": {},
   "source": [
    "***\n",
    "## $Important$ $Series$ $Methods$ "
   ]
  },
  {
   "cell_type": "markdown",
   "id": "c9f23956",
   "metadata": {},
   "source": [
    "* `head()`\n",
    "* `tail()`\n",
    "* `describe()`\n",
    "* `unique()`\n",
    "* `nunique()`\n",
    "* `nlargest()`\n",
    "* `nsmallest()`\n",
    "* `values_counts()`\n",
    "* `plot()`"
   ]
  },
  {
   "cell_type": "code",
   "execution_count": 27,
   "id": "73d6bc15",
   "metadata": {},
   "outputs": [
    {
     "data": {
      "text/plain": [
       "0        29\n",
       "1    0.9167\n",
       "2         2\n",
       "3        30\n",
       "4        25\n",
       "5        48\n",
       "6        63\n",
       "7        39\n",
       "8        53\n",
       "9        71\n",
       "Name: age, dtype: object"
      ]
     },
     "execution_count": 27,
     "metadata": {},
     "output_type": "execute_result"
    }
   ],
   "source": [
    "# head() metodu üzerinde daha önce durmuştuk, hatırlayalım.\n",
    "titanic[\"age\"].head(10)"
   ]
  },
  {
   "cell_type": "code",
   "execution_count": 28,
   "id": "13737a95",
   "metadata": {},
   "outputs": [
    {
     "data": {
      "text/plain": [
       "8757                 World Trade Center\n",
       "8758             World's Busiest Cities\n",
       "8759             World's Weirdest Homes\n",
       "8760                   Would You Rather\n",
       "8761                          Wrong No.\n",
       "8762                    Wrong Side Raju\n",
       "8763    WWII: Report from the Aleutians\n",
       "8764                         Wyatt Earp\n",
       "8765                                 XX\n",
       "8766                                XXx\n",
       "8767            XXX: State of the Union\n",
       "8768                  Y Tu Mamá También\n",
       "8769             Y.M.I.: Yeh Mera India\n",
       "8770                            Yaadein\n",
       "8771                   Yaara O Dildaara\n",
       "8772              Yamla Pagla Deewana 2\n",
       "8773                Yanda Kartavya Aahe\n",
       "8774                          يوم الدين\n",
       "8775                    Yeh Meri Family\n",
       "8776                         Yellowbird\n",
       "8777                          Yes or No\n",
       "8778                        Yes or No 2\n",
       "8779                      Yes or No 2.5\n",
       "8780                       Yo-Kai Watch\n",
       "8781            Yo-Kai Watch: The Movie\n",
       "8782                        Yoga Hosers\n",
       "8783                               Yoko\n",
       "8784               Yoko and His Friends\n",
       "8785                                YOM\n",
       "8786                       You Can Tutu\n",
       "8787          You Can’t Fight Christmas\n",
       "8788                       You Carry Me\n",
       "8789                You Changed My Life\n",
       "8790      You Don't Mess with the Zohan\n",
       "8791                        Young Adult\n",
       "8792                        Young Tiger\n",
       "8793               Yours, Mine and Ours\n",
       "8794                             اشتباك\n",
       "8795                    Yu-Gi-Oh! Arc-V\n",
       "8796                         Yunus Emre\n",
       "8797                          Zak Storm\n",
       "8798                           Zed Plus\n",
       "8799                              Zenda\n",
       "8800                 Zindagi Gulzar Hai\n",
       "8801                            Zinzana\n",
       "8802                             Zodiac\n",
       "8803                        Zombie Dumb\n",
       "8804                         Zombieland\n",
       "8805                               Zoom\n",
       "8806                             Zubaan\n",
       "Name: title, dtype: object"
      ]
     },
     "execution_count": 28,
     "metadata": {},
     "output_type": "execute_result"
    }
   ],
   "source": [
    "# tail() metodu üzerinde daha önce durmuştuk, hatırlayalım.\n",
    "netflix[\"title\"].tail(50)"
   ]
  },
  {
   "cell_type": "code",
   "execution_count": 29,
   "id": "a8766299",
   "metadata": {},
   "outputs": [
    {
     "data": {
      "text/html": [
       "<div>\n",
       "<style scoped>\n",
       "    .dataframe tbody tr th:only-of-type {\n",
       "        vertical-align: middle;\n",
       "    }\n",
       "\n",
       "    .dataframe tbody tr th {\n",
       "        vertical-align: top;\n",
       "    }\n",
       "\n",
       "    .dataframe thead th {\n",
       "        text-align: right;\n",
       "    }\n",
       "</style>\n",
       "<table border=\"1\" class=\"dataframe\">\n",
       "  <thead>\n",
       "    <tr style=\"text-align: right;\">\n",
       "      <th></th>\n",
       "      <th>id</th>\n",
       "      <th>price</th>\n",
       "      <th>bedrooms</th>\n",
       "      <th>bathrooms</th>\n",
       "      <th>sqft_living</th>\n",
       "      <th>sqft_lot</th>\n",
       "      <th>floors</th>\n",
       "      <th>waterfront</th>\n",
       "      <th>view</th>\n",
       "      <th>condition</th>\n",
       "      <th>grade</th>\n",
       "      <th>sqft_above</th>\n",
       "      <th>sqft_basement</th>\n",
       "      <th>yr_built</th>\n",
       "      <th>yr_renovated</th>\n",
       "      <th>zipcode</th>\n",
       "      <th>lat</th>\n",
       "      <th>long</th>\n",
       "      <th>sqft_living15</th>\n",
       "      <th>sqft_lot15</th>\n",
       "    </tr>\n",
       "  </thead>\n",
       "  <tbody>\n",
       "    <tr>\n",
       "      <th>count</th>\n",
       "      <td>2.161300e+04</td>\n",
       "      <td>2.161300e+04</td>\n",
       "      <td>21613.000000</td>\n",
       "      <td>21613.000000</td>\n",
       "      <td>21613.000000</td>\n",
       "      <td>2.161300e+04</td>\n",
       "      <td>21613.000000</td>\n",
       "      <td>21613.000000</td>\n",
       "      <td>21613.000000</td>\n",
       "      <td>21613.000000</td>\n",
       "      <td>21613.000000</td>\n",
       "      <td>21613.000000</td>\n",
       "      <td>21613.000000</td>\n",
       "      <td>21613.000000</td>\n",
       "      <td>21613.000000</td>\n",
       "      <td>21613.000000</td>\n",
       "      <td>21613.000000</td>\n",
       "      <td>21613.000000</td>\n",
       "      <td>21613.000000</td>\n",
       "      <td>21613.000000</td>\n",
       "    </tr>\n",
       "    <tr>\n",
       "      <th>mean</th>\n",
       "      <td>4.580302e+09</td>\n",
       "      <td>5.400881e+05</td>\n",
       "      <td>3.370842</td>\n",
       "      <td>2.114757</td>\n",
       "      <td>2079.899736</td>\n",
       "      <td>1.510697e+04</td>\n",
       "      <td>1.494309</td>\n",
       "      <td>0.007542</td>\n",
       "      <td>0.234303</td>\n",
       "      <td>3.409430</td>\n",
       "      <td>7.656873</td>\n",
       "      <td>1788.390691</td>\n",
       "      <td>291.509045</td>\n",
       "      <td>1971.005136</td>\n",
       "      <td>84.402258</td>\n",
       "      <td>98077.939805</td>\n",
       "      <td>47.560053</td>\n",
       "      <td>-122.213896</td>\n",
       "      <td>1986.552492</td>\n",
       "      <td>12768.455652</td>\n",
       "    </tr>\n",
       "    <tr>\n",
       "      <th>std</th>\n",
       "      <td>2.876566e+09</td>\n",
       "      <td>3.671272e+05</td>\n",
       "      <td>0.930062</td>\n",
       "      <td>0.770163</td>\n",
       "      <td>918.440897</td>\n",
       "      <td>4.142051e+04</td>\n",
       "      <td>0.539989</td>\n",
       "      <td>0.086517</td>\n",
       "      <td>0.766318</td>\n",
       "      <td>0.650743</td>\n",
       "      <td>1.175459</td>\n",
       "      <td>828.090978</td>\n",
       "      <td>442.575043</td>\n",
       "      <td>29.373411</td>\n",
       "      <td>401.679240</td>\n",
       "      <td>53.505026</td>\n",
       "      <td>0.138564</td>\n",
       "      <td>0.140828</td>\n",
       "      <td>685.391304</td>\n",
       "      <td>27304.179631</td>\n",
       "    </tr>\n",
       "    <tr>\n",
       "      <th>min</th>\n",
       "      <td>1.000102e+06</td>\n",
       "      <td>7.500000e+04</td>\n",
       "      <td>0.000000</td>\n",
       "      <td>0.000000</td>\n",
       "      <td>290.000000</td>\n",
       "      <td>5.200000e+02</td>\n",
       "      <td>1.000000</td>\n",
       "      <td>0.000000</td>\n",
       "      <td>0.000000</td>\n",
       "      <td>1.000000</td>\n",
       "      <td>1.000000</td>\n",
       "      <td>290.000000</td>\n",
       "      <td>0.000000</td>\n",
       "      <td>1900.000000</td>\n",
       "      <td>0.000000</td>\n",
       "      <td>98001.000000</td>\n",
       "      <td>47.155900</td>\n",
       "      <td>-122.519000</td>\n",
       "      <td>399.000000</td>\n",
       "      <td>651.000000</td>\n",
       "    </tr>\n",
       "    <tr>\n",
       "      <th>25%</th>\n",
       "      <td>2.123049e+09</td>\n",
       "      <td>3.219500e+05</td>\n",
       "      <td>3.000000</td>\n",
       "      <td>1.750000</td>\n",
       "      <td>1427.000000</td>\n",
       "      <td>5.040000e+03</td>\n",
       "      <td>1.000000</td>\n",
       "      <td>0.000000</td>\n",
       "      <td>0.000000</td>\n",
       "      <td>3.000000</td>\n",
       "      <td>7.000000</td>\n",
       "      <td>1190.000000</td>\n",
       "      <td>0.000000</td>\n",
       "      <td>1951.000000</td>\n",
       "      <td>0.000000</td>\n",
       "      <td>98033.000000</td>\n",
       "      <td>47.471000</td>\n",
       "      <td>-122.328000</td>\n",
       "      <td>1490.000000</td>\n",
       "      <td>5100.000000</td>\n",
       "    </tr>\n",
       "    <tr>\n",
       "      <th>50%</th>\n",
       "      <td>3.904930e+09</td>\n",
       "      <td>4.500000e+05</td>\n",
       "      <td>3.000000</td>\n",
       "      <td>2.250000</td>\n",
       "      <td>1910.000000</td>\n",
       "      <td>7.618000e+03</td>\n",
       "      <td>1.500000</td>\n",
       "      <td>0.000000</td>\n",
       "      <td>0.000000</td>\n",
       "      <td>3.000000</td>\n",
       "      <td>7.000000</td>\n",
       "      <td>1560.000000</td>\n",
       "      <td>0.000000</td>\n",
       "      <td>1975.000000</td>\n",
       "      <td>0.000000</td>\n",
       "      <td>98065.000000</td>\n",
       "      <td>47.571800</td>\n",
       "      <td>-122.230000</td>\n",
       "      <td>1840.000000</td>\n",
       "      <td>7620.000000</td>\n",
       "    </tr>\n",
       "    <tr>\n",
       "      <th>75%</th>\n",
       "      <td>7.308900e+09</td>\n",
       "      <td>6.450000e+05</td>\n",
       "      <td>4.000000</td>\n",
       "      <td>2.500000</td>\n",
       "      <td>2550.000000</td>\n",
       "      <td>1.068800e+04</td>\n",
       "      <td>2.000000</td>\n",
       "      <td>0.000000</td>\n",
       "      <td>0.000000</td>\n",
       "      <td>4.000000</td>\n",
       "      <td>8.000000</td>\n",
       "      <td>2210.000000</td>\n",
       "      <td>560.000000</td>\n",
       "      <td>1997.000000</td>\n",
       "      <td>0.000000</td>\n",
       "      <td>98118.000000</td>\n",
       "      <td>47.678000</td>\n",
       "      <td>-122.125000</td>\n",
       "      <td>2360.000000</td>\n",
       "      <td>10083.000000</td>\n",
       "    </tr>\n",
       "    <tr>\n",
       "      <th>max</th>\n",
       "      <td>9.900000e+09</td>\n",
       "      <td>7.700000e+06</td>\n",
       "      <td>33.000000</td>\n",
       "      <td>8.000000</td>\n",
       "      <td>13540.000000</td>\n",
       "      <td>1.651359e+06</td>\n",
       "      <td>3.500000</td>\n",
       "      <td>1.000000</td>\n",
       "      <td>4.000000</td>\n",
       "      <td>5.000000</td>\n",
       "      <td>13.000000</td>\n",
       "      <td>9410.000000</td>\n",
       "      <td>4820.000000</td>\n",
       "      <td>2015.000000</td>\n",
       "      <td>2015.000000</td>\n",
       "      <td>98199.000000</td>\n",
       "      <td>47.777600</td>\n",
       "      <td>-121.315000</td>\n",
       "      <td>6210.000000</td>\n",
       "      <td>871200.000000</td>\n",
       "    </tr>\n",
       "  </tbody>\n",
       "</table>\n",
       "</div>"
      ],
      "text/plain": [
       "                 id         price      bedrooms     bathrooms   sqft_living  \\\n",
       "count  2.161300e+04  2.161300e+04  21613.000000  21613.000000  21613.000000   \n",
       "mean   4.580302e+09  5.400881e+05      3.370842      2.114757   2079.899736   \n",
       "std    2.876566e+09  3.671272e+05      0.930062      0.770163    918.440897   \n",
       "min    1.000102e+06  7.500000e+04      0.000000      0.000000    290.000000   \n",
       "25%    2.123049e+09  3.219500e+05      3.000000      1.750000   1427.000000   \n",
       "50%    3.904930e+09  4.500000e+05      3.000000      2.250000   1910.000000   \n",
       "75%    7.308900e+09  6.450000e+05      4.000000      2.500000   2550.000000   \n",
       "max    9.900000e+09  7.700000e+06     33.000000      8.000000  13540.000000   \n",
       "\n",
       "           sqft_lot        floors    waterfront          view     condition  \\\n",
       "count  2.161300e+04  21613.000000  21613.000000  21613.000000  21613.000000   \n",
       "mean   1.510697e+04      1.494309      0.007542      0.234303      3.409430   \n",
       "std    4.142051e+04      0.539989      0.086517      0.766318      0.650743   \n",
       "min    5.200000e+02      1.000000      0.000000      0.000000      1.000000   \n",
       "25%    5.040000e+03      1.000000      0.000000      0.000000      3.000000   \n",
       "50%    7.618000e+03      1.500000      0.000000      0.000000      3.000000   \n",
       "75%    1.068800e+04      2.000000      0.000000      0.000000      4.000000   \n",
       "max    1.651359e+06      3.500000      1.000000      4.000000      5.000000   \n",
       "\n",
       "              grade    sqft_above  sqft_basement      yr_built  yr_renovated  \\\n",
       "count  21613.000000  21613.000000   21613.000000  21613.000000  21613.000000   \n",
       "mean       7.656873   1788.390691     291.509045   1971.005136     84.402258   \n",
       "std        1.175459    828.090978     442.575043     29.373411    401.679240   \n",
       "min        1.000000    290.000000       0.000000   1900.000000      0.000000   \n",
       "25%        7.000000   1190.000000       0.000000   1951.000000      0.000000   \n",
       "50%        7.000000   1560.000000       0.000000   1975.000000      0.000000   \n",
       "75%        8.000000   2210.000000     560.000000   1997.000000      0.000000   \n",
       "max       13.000000   9410.000000    4820.000000   2015.000000   2015.000000   \n",
       "\n",
       "            zipcode           lat          long  sqft_living15     sqft_lot15  \n",
       "count  21613.000000  21613.000000  21613.000000   21613.000000   21613.000000  \n",
       "mean   98077.939805     47.560053   -122.213896    1986.552492   12768.455652  \n",
       "std       53.505026      0.138564      0.140828     685.391304   27304.179631  \n",
       "min    98001.000000     47.155900   -122.519000     399.000000     651.000000  \n",
       "25%    98033.000000     47.471000   -122.328000    1490.000000    5100.000000  \n",
       "50%    98065.000000     47.571800   -122.230000    1840.000000    7620.000000  \n",
       "75%    98118.000000     47.678000   -122.125000    2360.000000   10083.000000  \n",
       "max    98199.000000     47.777600   -121.315000    6210.000000  871200.000000  "
      ]
     },
     "execution_count": 29,
     "metadata": {},
     "output_type": "execute_result"
    }
   ],
   "source": [
    "# describe() metodu değişken ile alakalı bazı istatistiksel bilgilere ulaşmamızı sağlar\n",
    "houses.describe()"
   ]
  },
  {
   "cell_type": "code",
   "execution_count": 30,
   "id": "44a20556",
   "metadata": {},
   "outputs": [
    {
     "data": {
      "text/plain": [
       "count    2.161300e+04\n",
       "mean     5.400881e+05\n",
       "std      3.671272e+05\n",
       "min      7.500000e+04\n",
       "25%      3.219500e+05\n",
       "50%      4.500000e+05\n",
       "75%      6.450000e+05\n",
       "max      7.700000e+06\n",
       "Name: price, dtype: float64"
      ]
     },
     "execution_count": 30,
     "metadata": {},
     "output_type": "execute_result"
    }
   ],
   "source": [
    "# Seri yapısı üzerinde uygulayalım\n",
    "houses[\"price\"].describe()"
   ]
  },
  {
   "cell_type": "code",
   "execution_count": 31,
   "id": "814e7898",
   "metadata": {},
   "outputs": [
    {
     "data": {
      "text/plain": [
       "count      8803\n",
       "unique       17\n",
       "top       TV-MA\n",
       "freq       3207\n",
       "Name: rating, dtype: object"
      ]
     },
     "execution_count": 31,
     "metadata": {},
     "output_type": "execute_result"
    }
   ],
   "source": [
    "# Seri yapısı üzerinde uygulayalım\n",
    "netflix[\"rating\"].describe()"
   ]
  },
  {
   "cell_type": "code",
   "execution_count": 32,
   "id": "586e6352",
   "metadata": {
    "scrolled": true
   },
   "outputs": [
    {
     "name": "stdout",
     "output_type": "stream",
     "text": [
      "<class 'pandas.core.frame.DataFrame'>\n",
      "Int64Index: 8807 entries, 0 to 8806\n",
      "Data columns (total 12 columns):\n",
      " #   Column        Non-Null Count  Dtype \n",
      "---  ------        --------------  ----- \n",
      " 0   show_id       8807 non-null   object\n",
      " 1   type          8807 non-null   object\n",
      " 2   title         8807 non-null   object\n",
      " 3   director      6173 non-null   object\n",
      " 4   cast          7982 non-null   object\n",
      " 5   country       7976 non-null   object\n",
      " 6   date_added    8797 non-null   object\n",
      " 7   release_year  8807 non-null   int64 \n",
      " 8   rating        8803 non-null   object\n",
      " 9   duration      8804 non-null   object\n",
      " 10  listed_in     8807 non-null   object\n",
      " 11  description   8807 non-null   object\n",
      "dtypes: int64(1), object(11)\n",
      "memory usage: 894.5+ KB\n"
     ]
    }
   ],
   "source": [
    "# info() metodunu hatırlayalım\n",
    "netflix.info()"
   ]
  },
  {
   "cell_type": "markdown",
   "id": "3f3076f7",
   "metadata": {},
   "source": [
    "***\n",
    "**`dtypes`, geriye bir seri yapısı döner, ilkel bir info() metoduna benzetilebilir.**\n",
    "***"
   ]
  },
  {
   "cell_type": "code",
   "execution_count": 33,
   "id": "7ef9130a",
   "metadata": {},
   "outputs": [
    {
     "data": {
      "text/plain": [
       "show_id         object\n",
       "type            object\n",
       "title           object\n",
       "director        object\n",
       "cast            object\n",
       "country         object\n",
       "date_added      object\n",
       "release_year     int64\n",
       "rating          object\n",
       "duration        object\n",
       "listed_in       object\n",
       "description     object\n",
       "dtype: object"
      ]
     },
     "execution_count": 33,
     "metadata": {},
     "output_type": "execute_result"
    }
   ],
   "source": [
    "netflix.dtypes"
   ]
  },
  {
   "cell_type": "code",
   "execution_count": 34,
   "id": "84371ae7",
   "metadata": {},
   "outputs": [
    {
     "data": {
      "text/plain": [
       "count    8807.000000\n",
       "mean     2014.180198\n",
       "std         8.819312\n",
       "min      1925.000000\n",
       "25%      2013.000000\n",
       "50%      2017.000000\n",
       "75%      2019.000000\n",
       "max      2021.000000\n",
       "Name: release_year, dtype: float64"
      ]
     },
     "execution_count": 34,
     "metadata": {},
     "output_type": "execute_result"
    }
   ],
   "source": [
    "# release_year sütununun nümerik olduğunu gördük. describe() metodunu uygulayalım\n",
    "netflix[\"release_year\"].describe()"
   ]
  },
  {
   "cell_type": "code",
   "execution_count": 35,
   "id": "9cedc0b8",
   "metadata": {
    "scrolled": true
   },
   "outputs": [
    {
     "data": {
      "text/plain": [
       "dtype('O')"
      ]
     },
     "execution_count": 35,
     "metadata": {},
     "output_type": "execute_result"
    }
   ],
   "source": [
    "titanic[\"name\"].dtype"
   ]
  },
  {
   "cell_type": "markdown",
   "id": "88f6ae4b",
   "metadata": {},
   "source": [
    "***\n",
    "**`unique()` metodu, seri tipindeki nesnenin içerisindeki unique verileri gösterir.**\n",
    "***"
   ]
  },
  {
   "cell_type": "code",
   "execution_count": 36,
   "id": "01208bb1",
   "metadata": {},
   "outputs": [
    {
     "data": {
      "text/plain": [
       "array([ 3,  2,  4,  5,  1,  6,  7,  0,  8,  9, 11, 10, 33])"
      ]
     },
     "execution_count": 36,
     "metadata": {},
     "output_type": "execute_result"
    }
   ],
   "source": [
    "# bedrooms sütunu içerisinde geçen oda sayılarına bakalım\n",
    "houses[\"bedrooms\"].unique()"
   ]
  },
  {
   "cell_type": "code",
   "execution_count": 37,
   "id": "adf12215",
   "metadata": {},
   "outputs": [
    {
     "data": {
      "text/plain": [
       "array(['PG-13', 'TV-MA', 'PG', 'TV-14', 'TV-PG', 'TV-Y', 'TV-Y7', 'R',\n",
       "       'TV-G', 'G', 'NC-17', '74 min', '84 min', '66 min', 'NR', nan,\n",
       "       'TV-Y7-FV', 'UR'], dtype=object)"
      ]
     },
     "execution_count": 37,
     "metadata": {},
     "output_type": "execute_result"
    }
   ],
   "source": [
    "netflix[\"rating\"].unique()"
   ]
  },
  {
   "cell_type": "markdown",
   "id": "c38e81b3",
   "metadata": {},
   "source": [
    "***\n",
    "**`nunique()` metodu, seri tipindeki nesnenin içerisindeki unique verilerin sayısını gösterir.**\n",
    "***"
   ]
  },
  {
   "cell_type": "code",
   "execution_count": 38,
   "id": "aec645b8",
   "metadata": {},
   "outputs": [
    {
     "name": "stdout",
     "output_type": "stream",
     "text": [
      "Number of unique data of netflix[\"ratings\"]: 17\n",
      "Number of unique data of houses[\"zipcode\"]: 70\n",
      "Number of unique data of houses[\"bedrooms\"]: 13\n"
     ]
    }
   ],
   "source": [
    "print(f\"Number of unique data of netflix[\\\"ratings\\\"]: {netflix.rating.nunique()}\")\n",
    "print(f\"Number of unique data of houses[\\\"zipcode\\\"]: {houses.zipcode.nunique()}\")\n",
    "print(f\"Number of unique data of houses[\\\"bedrooms\\\"]: {houses.bedrooms.nunique()}\")"
   ]
  },
  {
   "cell_type": "markdown",
   "id": "845e980a",
   "metadata": {},
   "source": [
    "**Bu noktada belirtmek gerekir ki `nunique()` metodunu çalıştırken default olarak, üzerinde çalıştığımız seri nesnesinin içerisindeki `NaN` verileri saymıyoruz. Eğer `NaN` verileri de saymak istersek `nunique(dropna=False)` şeklinde bir kullanım yapmak gerekir.**"
   ]
  },
  {
   "cell_type": "code",
   "execution_count": 39,
   "id": "a16931d1",
   "metadata": {},
   "outputs": [
    {
     "name": "stdout",
     "output_type": "stream",
     "text": [
      "Number of unique data of netflix[\"ratings\"] without NaN values: 17\n",
      "Number of unique data of netflix[\"ratings\"] wiht NaN values: 18\n"
     ]
    }
   ],
   "source": [
    "# Örnek vermek gerekirse;\n",
    "print(f\"Number of unique data of netflix[\\\"ratings\\\"] without NaN values: {netflix.rating.nunique()}\")\n",
    "print(f\"Number of unique data of netflix[\\\"ratings\\\"] wiht NaN values: {netflix.rating.nunique(dropna=False)}\")"
   ]
  },
  {
   "cell_type": "markdown",
   "id": "e11b29f2",
   "metadata": {},
   "source": [
    "***\n",
    "**`nlargest()` metodu, üzerinde çalışılan seri nesnesi içerisndeki ilk beş en büyük veriyi gösterir. Metoda istenilen sayı, parametre olarak verilip görülmek istenen sayıda en büyük veri görülebilir.**\n",
    "***"
   ]
  },
  {
   "cell_type": "code",
   "execution_count": 40,
   "id": "171bf1c8",
   "metadata": {},
   "outputs": [
    {
     "data": {
      "text/plain": [
       "7252    7700000.0\n",
       "3914    7062500.0\n",
       "9254    6885000.0\n",
       "4411    5570000.0\n",
       "1448    5350000.0\n",
       "Name: price, dtype: float64"
      ]
     },
     "execution_count": 40,
     "metadata": {},
     "output_type": "execute_result"
    }
   ],
   "source": [
    "houses[\"price\"].nlargest()"
   ]
  },
  {
   "cell_type": "code",
   "execution_count": 41,
   "id": "be1374de",
   "metadata": {},
   "outputs": [
    {
     "data": {
      "text/plain": [
       "7252    7700000.0\n",
       "3914    7062500.0\n",
       "9254    6885000.0\n",
       "4411    5570000.0\n",
       "1448    5350000.0\n",
       "1315    5300000.0\n",
       "1164    5110800.0\n",
       "8092    4668000.0\n",
       "2626    4500000.0\n",
       "8638    4489000.0\n",
       "Name: price, dtype: float64"
      ]
     },
     "execution_count": 41,
     "metadata": {},
     "output_type": "execute_result"
    }
   ],
   "source": [
    "houses[\"price\"].nlargest(10)"
   ]
  },
  {
   "cell_type": "markdown",
   "id": "a51e9eb0",
   "metadata": {},
   "source": [
    "***\n",
    "**`nsmallest()` metodu, üzerinde çalışılan seri nesnesi içerisndeki ilk beş en küçük veriyi gösterir. Metoda istenilen sayı, parametre olarak verilip görülmek istenen sayıda en küçük veri görülebilir.**\n",
    "***"
   ]
  },
  {
   "cell_type": "code",
   "execution_count": 42,
   "id": "c59f7b3b",
   "metadata": {},
   "outputs": [
    {
     "data": {
      "text/plain": [
       "1149     75000.0\n",
       "15293    78000.0\n",
       "465      80000.0\n",
       "16198    81000.0\n",
       "8274     82000.0\n",
       "Name: price, dtype: float64"
      ]
     },
     "execution_count": 42,
     "metadata": {},
     "output_type": "execute_result"
    }
   ],
   "source": [
    "houses[\"price\"].nsmallest()"
   ]
  },
  {
   "cell_type": "code",
   "execution_count": 43,
   "id": "e315015d",
   "metadata": {},
   "outputs": [
    {
     "data": {
      "text/plain": [
       "1149     75000.0\n",
       "15293    78000.0\n",
       "465      80000.0\n",
       "16198    81000.0\n",
       "8274     82000.0\n",
       "2141     82500.0\n",
       "18468    83000.0\n",
       "3767     84000.0\n",
       "10253    85000.0\n",
       "16714    85000.0\n",
       "Name: price, dtype: float64"
      ]
     },
     "execution_count": 43,
     "metadata": {},
     "output_type": "execute_result"
    }
   ],
   "source": [
    "houses[\"price\"].nsmallest(10)"
   ]
  },
  {
   "cell_type": "code",
   "execution_count": 44,
   "id": "06ecbe8f",
   "metadata": {
    "scrolled": true
   },
   "outputs": [
    {
     "data": {
      "text/plain": [
       "600     3\n",
       "601     3\n",
       "602     3\n",
       "603     3\n",
       "604     3\n",
       "       ..\n",
       "1304    3\n",
       "1305    3\n",
       "1306    3\n",
       "1307    3\n",
       "1308    3\n",
       "Name: pclass, Length: 709, dtype: int64"
      ]
     },
     "execution_count": 44,
     "metadata": {},
     "output_type": "execute_result"
    }
   ],
   "source": [
    "titanic[\"pclass\"].nlargest(5, keep=\"all\")"
   ]
  },
  {
   "cell_type": "markdown",
   "id": "5a277110",
   "metadata": {},
   "source": [
    "***\n",
    "**`nlargest()` ve `nsmalles()` metotlarını, seri nesneleri üzerinde kullandık. Peki dataframe'ler üzerinde kullanabilir miyiz?**\n",
    "***"
   ]
  },
  {
   "cell_type": "code",
   "execution_count": 45,
   "id": "f34f2d7e",
   "metadata": {
    "scrolled": true
   },
   "outputs": [
    {
     "data": {
      "text/html": [
       "<div>\n",
       "<style scoped>\n",
       "    .dataframe tbody tr th:only-of-type {\n",
       "        vertical-align: middle;\n",
       "    }\n",
       "\n",
       "    .dataframe tbody tr th {\n",
       "        vertical-align: top;\n",
       "    }\n",
       "\n",
       "    .dataframe thead th {\n",
       "        text-align: right;\n",
       "    }\n",
       "</style>\n",
       "<table border=\"1\" class=\"dataframe\">\n",
       "  <thead>\n",
       "    <tr style=\"text-align: right;\">\n",
       "      <th></th>\n",
       "      <th>id</th>\n",
       "      <th>date</th>\n",
       "      <th>price</th>\n",
       "      <th>bedrooms</th>\n",
       "      <th>bathrooms</th>\n",
       "      <th>sqft_living</th>\n",
       "      <th>sqft_lot</th>\n",
       "      <th>floors</th>\n",
       "      <th>waterfront</th>\n",
       "      <th>view</th>\n",
       "      <th>...</th>\n",
       "      <th>grade</th>\n",
       "      <th>sqft_above</th>\n",
       "      <th>sqft_basement</th>\n",
       "      <th>yr_built</th>\n",
       "      <th>yr_renovated</th>\n",
       "      <th>zipcode</th>\n",
       "      <th>lat</th>\n",
       "      <th>long</th>\n",
       "      <th>sqft_living15</th>\n",
       "      <th>sqft_lot15</th>\n",
       "    </tr>\n",
       "  </thead>\n",
       "  <tbody>\n",
       "    <tr>\n",
       "      <th>7252</th>\n",
       "      <td>6762700020</td>\n",
       "      <td>20141013T000000</td>\n",
       "      <td>7700000.0</td>\n",
       "      <td>6</td>\n",
       "      <td>8.00</td>\n",
       "      <td>12050</td>\n",
       "      <td>27600</td>\n",
       "      <td>2.5</td>\n",
       "      <td>0</td>\n",
       "      <td>3</td>\n",
       "      <td>...</td>\n",
       "      <td>13</td>\n",
       "      <td>8570</td>\n",
       "      <td>3480</td>\n",
       "      <td>1910</td>\n",
       "      <td>1987</td>\n",
       "      <td>98102</td>\n",
       "      <td>47.6298</td>\n",
       "      <td>-122.323</td>\n",
       "      <td>3940</td>\n",
       "      <td>8800</td>\n",
       "    </tr>\n",
       "    <tr>\n",
       "      <th>3914</th>\n",
       "      <td>9808700762</td>\n",
       "      <td>20140611T000000</td>\n",
       "      <td>7062500.0</td>\n",
       "      <td>5</td>\n",
       "      <td>4.50</td>\n",
       "      <td>10040</td>\n",
       "      <td>37325</td>\n",
       "      <td>2.0</td>\n",
       "      <td>1</td>\n",
       "      <td>2</td>\n",
       "      <td>...</td>\n",
       "      <td>11</td>\n",
       "      <td>7680</td>\n",
       "      <td>2360</td>\n",
       "      <td>1940</td>\n",
       "      <td>2001</td>\n",
       "      <td>98004</td>\n",
       "      <td>47.6500</td>\n",
       "      <td>-122.214</td>\n",
       "      <td>3930</td>\n",
       "      <td>25449</td>\n",
       "    </tr>\n",
       "    <tr>\n",
       "      <th>9254</th>\n",
       "      <td>9208900037</td>\n",
       "      <td>20140919T000000</td>\n",
       "      <td>6885000.0</td>\n",
       "      <td>6</td>\n",
       "      <td>7.75</td>\n",
       "      <td>9890</td>\n",
       "      <td>31374</td>\n",
       "      <td>2.0</td>\n",
       "      <td>0</td>\n",
       "      <td>4</td>\n",
       "      <td>...</td>\n",
       "      <td>13</td>\n",
       "      <td>8860</td>\n",
       "      <td>1030</td>\n",
       "      <td>2001</td>\n",
       "      <td>0</td>\n",
       "      <td>98039</td>\n",
       "      <td>47.6305</td>\n",
       "      <td>-122.240</td>\n",
       "      <td>4540</td>\n",
       "      <td>42730</td>\n",
       "    </tr>\n",
       "    <tr>\n",
       "      <th>4411</th>\n",
       "      <td>2470100110</td>\n",
       "      <td>20140804T000000</td>\n",
       "      <td>5570000.0</td>\n",
       "      <td>5</td>\n",
       "      <td>5.75</td>\n",
       "      <td>9200</td>\n",
       "      <td>35069</td>\n",
       "      <td>2.0</td>\n",
       "      <td>0</td>\n",
       "      <td>0</td>\n",
       "      <td>...</td>\n",
       "      <td>13</td>\n",
       "      <td>6200</td>\n",
       "      <td>3000</td>\n",
       "      <td>2001</td>\n",
       "      <td>0</td>\n",
       "      <td>98039</td>\n",
       "      <td>47.6289</td>\n",
       "      <td>-122.233</td>\n",
       "      <td>3560</td>\n",
       "      <td>24345</td>\n",
       "    </tr>\n",
       "    <tr>\n",
       "      <th>1448</th>\n",
       "      <td>8907500070</td>\n",
       "      <td>20150413T000000</td>\n",
       "      <td>5350000.0</td>\n",
       "      <td>5</td>\n",
       "      <td>5.00</td>\n",
       "      <td>8000</td>\n",
       "      <td>23985</td>\n",
       "      <td>2.0</td>\n",
       "      <td>0</td>\n",
       "      <td>4</td>\n",
       "      <td>...</td>\n",
       "      <td>12</td>\n",
       "      <td>6720</td>\n",
       "      <td>1280</td>\n",
       "      <td>2009</td>\n",
       "      <td>0</td>\n",
       "      <td>98004</td>\n",
       "      <td>47.6232</td>\n",
       "      <td>-122.220</td>\n",
       "      <td>4600</td>\n",
       "      <td>21750</td>\n",
       "    </tr>\n",
       "    <tr>\n",
       "      <th>1315</th>\n",
       "      <td>7558700030</td>\n",
       "      <td>20150413T000000</td>\n",
       "      <td>5300000.0</td>\n",
       "      <td>6</td>\n",
       "      <td>6.00</td>\n",
       "      <td>7390</td>\n",
       "      <td>24829</td>\n",
       "      <td>2.0</td>\n",
       "      <td>1</td>\n",
       "      <td>4</td>\n",
       "      <td>...</td>\n",
       "      <td>12</td>\n",
       "      <td>5000</td>\n",
       "      <td>2390</td>\n",
       "      <td>1991</td>\n",
       "      <td>0</td>\n",
       "      <td>98040</td>\n",
       "      <td>47.5631</td>\n",
       "      <td>-122.210</td>\n",
       "      <td>4320</td>\n",
       "      <td>24619</td>\n",
       "    </tr>\n",
       "    <tr>\n",
       "      <th>1164</th>\n",
       "      <td>1247600105</td>\n",
       "      <td>20141020T000000</td>\n",
       "      <td>5110800.0</td>\n",
       "      <td>5</td>\n",
       "      <td>5.25</td>\n",
       "      <td>8010</td>\n",
       "      <td>45517</td>\n",
       "      <td>2.0</td>\n",
       "      <td>1</td>\n",
       "      <td>4</td>\n",
       "      <td>...</td>\n",
       "      <td>12</td>\n",
       "      <td>5990</td>\n",
       "      <td>2020</td>\n",
       "      <td>1999</td>\n",
       "      <td>0</td>\n",
       "      <td>98033</td>\n",
       "      <td>47.6767</td>\n",
       "      <td>-122.211</td>\n",
       "      <td>3430</td>\n",
       "      <td>26788</td>\n",
       "    </tr>\n",
       "    <tr>\n",
       "      <th>8092</th>\n",
       "      <td>1924059029</td>\n",
       "      <td>20140617T000000</td>\n",
       "      <td>4668000.0</td>\n",
       "      <td>5</td>\n",
       "      <td>6.75</td>\n",
       "      <td>9640</td>\n",
       "      <td>13068</td>\n",
       "      <td>1.0</td>\n",
       "      <td>1</td>\n",
       "      <td>4</td>\n",
       "      <td>...</td>\n",
       "      <td>12</td>\n",
       "      <td>4820</td>\n",
       "      <td>4820</td>\n",
       "      <td>1983</td>\n",
       "      <td>2009</td>\n",
       "      <td>98040</td>\n",
       "      <td>47.5570</td>\n",
       "      <td>-122.210</td>\n",
       "      <td>3270</td>\n",
       "      <td>10454</td>\n",
       "    </tr>\n",
       "    <tr>\n",
       "      <th>2626</th>\n",
       "      <td>7738500731</td>\n",
       "      <td>20140815T000000</td>\n",
       "      <td>4500000.0</td>\n",
       "      <td>5</td>\n",
       "      <td>5.50</td>\n",
       "      <td>6640</td>\n",
       "      <td>40014</td>\n",
       "      <td>2.0</td>\n",
       "      <td>1</td>\n",
       "      <td>4</td>\n",
       "      <td>...</td>\n",
       "      <td>12</td>\n",
       "      <td>6350</td>\n",
       "      <td>290</td>\n",
       "      <td>2004</td>\n",
       "      <td>0</td>\n",
       "      <td>98155</td>\n",
       "      <td>47.7493</td>\n",
       "      <td>-122.280</td>\n",
       "      <td>3030</td>\n",
       "      <td>23408</td>\n",
       "    </tr>\n",
       "    <tr>\n",
       "      <th>8638</th>\n",
       "      <td>3835500195</td>\n",
       "      <td>20140618T000000</td>\n",
       "      <td>4489000.0</td>\n",
       "      <td>4</td>\n",
       "      <td>3.00</td>\n",
       "      <td>6430</td>\n",
       "      <td>27517</td>\n",
       "      <td>2.0</td>\n",
       "      <td>0</td>\n",
       "      <td>0</td>\n",
       "      <td>...</td>\n",
       "      <td>12</td>\n",
       "      <td>6430</td>\n",
       "      <td>0</td>\n",
       "      <td>2001</td>\n",
       "      <td>0</td>\n",
       "      <td>98004</td>\n",
       "      <td>47.6208</td>\n",
       "      <td>-122.219</td>\n",
       "      <td>3720</td>\n",
       "      <td>14592</td>\n",
       "    </tr>\n",
       "  </tbody>\n",
       "</table>\n",
       "<p>10 rows × 21 columns</p>\n",
       "</div>"
      ],
      "text/plain": [
       "              id             date      price  bedrooms  bathrooms  \\\n",
       "7252  6762700020  20141013T000000  7700000.0         6       8.00   \n",
       "3914  9808700762  20140611T000000  7062500.0         5       4.50   \n",
       "9254  9208900037  20140919T000000  6885000.0         6       7.75   \n",
       "4411  2470100110  20140804T000000  5570000.0         5       5.75   \n",
       "1448  8907500070  20150413T000000  5350000.0         5       5.00   \n",
       "1315  7558700030  20150413T000000  5300000.0         6       6.00   \n",
       "1164  1247600105  20141020T000000  5110800.0         5       5.25   \n",
       "8092  1924059029  20140617T000000  4668000.0         5       6.75   \n",
       "2626  7738500731  20140815T000000  4500000.0         5       5.50   \n",
       "8638  3835500195  20140618T000000  4489000.0         4       3.00   \n",
       "\n",
       "      sqft_living  sqft_lot  floors  waterfront  view  ...  grade  sqft_above  \\\n",
       "7252        12050     27600     2.5           0     3  ...     13        8570   \n",
       "3914        10040     37325     2.0           1     2  ...     11        7680   \n",
       "9254         9890     31374     2.0           0     4  ...     13        8860   \n",
       "4411         9200     35069     2.0           0     0  ...     13        6200   \n",
       "1448         8000     23985     2.0           0     4  ...     12        6720   \n",
       "1315         7390     24829     2.0           1     4  ...     12        5000   \n",
       "1164         8010     45517     2.0           1     4  ...     12        5990   \n",
       "8092         9640     13068     1.0           1     4  ...     12        4820   \n",
       "2626         6640     40014     2.0           1     4  ...     12        6350   \n",
       "8638         6430     27517     2.0           0     0  ...     12        6430   \n",
       "\n",
       "      sqft_basement  yr_built  yr_renovated  zipcode      lat     long  \\\n",
       "7252           3480      1910          1987    98102  47.6298 -122.323   \n",
       "3914           2360      1940          2001    98004  47.6500 -122.214   \n",
       "9254           1030      2001             0    98039  47.6305 -122.240   \n",
       "4411           3000      2001             0    98039  47.6289 -122.233   \n",
       "1448           1280      2009             0    98004  47.6232 -122.220   \n",
       "1315           2390      1991             0    98040  47.5631 -122.210   \n",
       "1164           2020      1999             0    98033  47.6767 -122.211   \n",
       "8092           4820      1983          2009    98040  47.5570 -122.210   \n",
       "2626            290      2004             0    98155  47.7493 -122.280   \n",
       "8638              0      2001             0    98004  47.6208 -122.219   \n",
       "\n",
       "      sqft_living15  sqft_lot15  \n",
       "7252           3940        8800  \n",
       "3914           3930       25449  \n",
       "9254           4540       42730  \n",
       "4411           3560       24345  \n",
       "1448           4600       21750  \n",
       "1315           4320       24619  \n",
       "1164           3430       26788  \n",
       "8092           3270       10454  \n",
       "2626           3030       23408  \n",
       "8638           3720       14592  \n",
       "\n",
       "[10 rows x 21 columns]"
      ]
     },
     "execution_count": 45,
     "metadata": {},
     "output_type": "execute_result"
    }
   ],
   "source": [
    "houses.nlargest(10, [\"price\"])"
   ]
  },
  {
   "cell_type": "code",
   "execution_count": 46,
   "id": "140ae5fd",
   "metadata": {},
   "outputs": [
    {
     "data": {
      "text/html": [
       "<div>\n",
       "<style scoped>\n",
       "    .dataframe tbody tr th:only-of-type {\n",
       "        vertical-align: middle;\n",
       "    }\n",
       "\n",
       "    .dataframe tbody tr th {\n",
       "        vertical-align: top;\n",
       "    }\n",
       "\n",
       "    .dataframe thead th {\n",
       "        text-align: right;\n",
       "    }\n",
       "</style>\n",
       "<table border=\"1\" class=\"dataframe\">\n",
       "  <thead>\n",
       "    <tr style=\"text-align: right;\">\n",
       "      <th></th>\n",
       "      <th>id</th>\n",
       "      <th>date</th>\n",
       "      <th>price</th>\n",
       "      <th>bedrooms</th>\n",
       "      <th>bathrooms</th>\n",
       "      <th>sqft_living</th>\n",
       "      <th>sqft_lot</th>\n",
       "      <th>floors</th>\n",
       "      <th>waterfront</th>\n",
       "      <th>view</th>\n",
       "      <th>...</th>\n",
       "      <th>grade</th>\n",
       "      <th>sqft_above</th>\n",
       "      <th>sqft_basement</th>\n",
       "      <th>yr_built</th>\n",
       "      <th>yr_renovated</th>\n",
       "      <th>zipcode</th>\n",
       "      <th>lat</th>\n",
       "      <th>long</th>\n",
       "      <th>sqft_living15</th>\n",
       "      <th>sqft_lot15</th>\n",
       "    </tr>\n",
       "  </thead>\n",
       "  <tbody>\n",
       "    <tr>\n",
       "      <th>1149</th>\n",
       "      <td>3421079032</td>\n",
       "      <td>20150217T000000</td>\n",
       "      <td>75000.0</td>\n",
       "      <td>1</td>\n",
       "      <td>0.00</td>\n",
       "      <td>670</td>\n",
       "      <td>43377</td>\n",
       "      <td>1.0</td>\n",
       "      <td>0</td>\n",
       "      <td>0</td>\n",
       "      <td>...</td>\n",
       "      <td>3</td>\n",
       "      <td>670</td>\n",
       "      <td>0</td>\n",
       "      <td>1966</td>\n",
       "      <td>0</td>\n",
       "      <td>98022</td>\n",
       "      <td>47.2638</td>\n",
       "      <td>-121.906</td>\n",
       "      <td>1160</td>\n",
       "      <td>42882</td>\n",
       "    </tr>\n",
       "    <tr>\n",
       "      <th>15293</th>\n",
       "      <td>40000362</td>\n",
       "      <td>20140506T000000</td>\n",
       "      <td>78000.0</td>\n",
       "      <td>2</td>\n",
       "      <td>1.00</td>\n",
       "      <td>780</td>\n",
       "      <td>16344</td>\n",
       "      <td>1.0</td>\n",
       "      <td>0</td>\n",
       "      <td>0</td>\n",
       "      <td>...</td>\n",
       "      <td>5</td>\n",
       "      <td>780</td>\n",
       "      <td>0</td>\n",
       "      <td>1942</td>\n",
       "      <td>0</td>\n",
       "      <td>98168</td>\n",
       "      <td>47.4739</td>\n",
       "      <td>-122.280</td>\n",
       "      <td>1700</td>\n",
       "      <td>10387</td>\n",
       "    </tr>\n",
       "    <tr>\n",
       "      <th>465</th>\n",
       "      <td>8658300340</td>\n",
       "      <td>20140523T000000</td>\n",
       "      <td>80000.0</td>\n",
       "      <td>1</td>\n",
       "      <td>0.75</td>\n",
       "      <td>430</td>\n",
       "      <td>5050</td>\n",
       "      <td>1.0</td>\n",
       "      <td>0</td>\n",
       "      <td>0</td>\n",
       "      <td>...</td>\n",
       "      <td>4</td>\n",
       "      <td>430</td>\n",
       "      <td>0</td>\n",
       "      <td>1912</td>\n",
       "      <td>0</td>\n",
       "      <td>98014</td>\n",
       "      <td>47.6499</td>\n",
       "      <td>-121.909</td>\n",
       "      <td>1200</td>\n",
       "      <td>7500</td>\n",
       "    </tr>\n",
       "    <tr>\n",
       "      <th>16198</th>\n",
       "      <td>3028200080</td>\n",
       "      <td>20150324T000000</td>\n",
       "      <td>81000.0</td>\n",
       "      <td>2</td>\n",
       "      <td>1.00</td>\n",
       "      <td>730</td>\n",
       "      <td>9975</td>\n",
       "      <td>1.0</td>\n",
       "      <td>0</td>\n",
       "      <td>0</td>\n",
       "      <td>...</td>\n",
       "      <td>5</td>\n",
       "      <td>730</td>\n",
       "      <td>0</td>\n",
       "      <td>1943</td>\n",
       "      <td>0</td>\n",
       "      <td>98168</td>\n",
       "      <td>47.4808</td>\n",
       "      <td>-122.315</td>\n",
       "      <td>860</td>\n",
       "      <td>9000</td>\n",
       "    </tr>\n",
       "    <tr>\n",
       "      <th>8274</th>\n",
       "      <td>3883800011</td>\n",
       "      <td>20141105T000000</td>\n",
       "      <td>82000.0</td>\n",
       "      <td>3</td>\n",
       "      <td>1.00</td>\n",
       "      <td>860</td>\n",
       "      <td>10426</td>\n",
       "      <td>1.0</td>\n",
       "      <td>0</td>\n",
       "      <td>0</td>\n",
       "      <td>...</td>\n",
       "      <td>6</td>\n",
       "      <td>860</td>\n",
       "      <td>0</td>\n",
       "      <td>1954</td>\n",
       "      <td>0</td>\n",
       "      <td>98146</td>\n",
       "      <td>47.4987</td>\n",
       "      <td>-122.341</td>\n",
       "      <td>1140</td>\n",
       "      <td>11250</td>\n",
       "    </tr>\n",
       "    <tr>\n",
       "      <th>2141</th>\n",
       "      <td>1623049041</td>\n",
       "      <td>20140508T000000</td>\n",
       "      <td>82500.0</td>\n",
       "      <td>2</td>\n",
       "      <td>1.00</td>\n",
       "      <td>520</td>\n",
       "      <td>22334</td>\n",
       "      <td>1.0</td>\n",
       "      <td>0</td>\n",
       "      <td>0</td>\n",
       "      <td>...</td>\n",
       "      <td>5</td>\n",
       "      <td>520</td>\n",
       "      <td>0</td>\n",
       "      <td>1951</td>\n",
       "      <td>0</td>\n",
       "      <td>98168</td>\n",
       "      <td>47.4799</td>\n",
       "      <td>-122.296</td>\n",
       "      <td>1572</td>\n",
       "      <td>10570</td>\n",
       "    </tr>\n",
       "    <tr>\n",
       "      <th>18468</th>\n",
       "      <td>7999600180</td>\n",
       "      <td>20140529T000000</td>\n",
       "      <td>83000.0</td>\n",
       "      <td>2</td>\n",
       "      <td>1.00</td>\n",
       "      <td>900</td>\n",
       "      <td>8580</td>\n",
       "      <td>1.0</td>\n",
       "      <td>0</td>\n",
       "      <td>0</td>\n",
       "      <td>...</td>\n",
       "      <td>5</td>\n",
       "      <td>900</td>\n",
       "      <td>0</td>\n",
       "      <td>1918</td>\n",
       "      <td>0</td>\n",
       "      <td>98168</td>\n",
       "      <td>47.4727</td>\n",
       "      <td>-122.270</td>\n",
       "      <td>2060</td>\n",
       "      <td>6533</td>\n",
       "    </tr>\n",
       "    <tr>\n",
       "      <th>3767</th>\n",
       "      <td>1523049188</td>\n",
       "      <td>20150430T000000</td>\n",
       "      <td>84000.0</td>\n",
       "      <td>2</td>\n",
       "      <td>1.00</td>\n",
       "      <td>700</td>\n",
       "      <td>20130</td>\n",
       "      <td>1.0</td>\n",
       "      <td>0</td>\n",
       "      <td>0</td>\n",
       "      <td>...</td>\n",
       "      <td>6</td>\n",
       "      <td>700</td>\n",
       "      <td>0</td>\n",
       "      <td>1949</td>\n",
       "      <td>0</td>\n",
       "      <td>98168</td>\n",
       "      <td>47.4752</td>\n",
       "      <td>-122.271</td>\n",
       "      <td>1490</td>\n",
       "      <td>18630</td>\n",
       "    </tr>\n",
       "    <tr>\n",
       "      <th>10253</th>\n",
       "      <td>2422049104</td>\n",
       "      <td>20140915T000000</td>\n",
       "      <td>85000.0</td>\n",
       "      <td>2</td>\n",
       "      <td>1.00</td>\n",
       "      <td>830</td>\n",
       "      <td>9000</td>\n",
       "      <td>1.0</td>\n",
       "      <td>0</td>\n",
       "      <td>0</td>\n",
       "      <td>...</td>\n",
       "      <td>6</td>\n",
       "      <td>830</td>\n",
       "      <td>0</td>\n",
       "      <td>1939</td>\n",
       "      <td>0</td>\n",
       "      <td>98032</td>\n",
       "      <td>47.3813</td>\n",
       "      <td>-122.243</td>\n",
       "      <td>1160</td>\n",
       "      <td>7680</td>\n",
       "    </tr>\n",
       "    <tr>\n",
       "      <th>16714</th>\n",
       "      <td>1322049150</td>\n",
       "      <td>20150305T000000</td>\n",
       "      <td>85000.0</td>\n",
       "      <td>2</td>\n",
       "      <td>1.00</td>\n",
       "      <td>910</td>\n",
       "      <td>9753</td>\n",
       "      <td>1.0</td>\n",
       "      <td>0</td>\n",
       "      <td>0</td>\n",
       "      <td>...</td>\n",
       "      <td>5</td>\n",
       "      <td>910</td>\n",
       "      <td>0</td>\n",
       "      <td>1947</td>\n",
       "      <td>0</td>\n",
       "      <td>98032</td>\n",
       "      <td>47.3897</td>\n",
       "      <td>-122.236</td>\n",
       "      <td>1160</td>\n",
       "      <td>7405</td>\n",
       "    </tr>\n",
       "  </tbody>\n",
       "</table>\n",
       "<p>10 rows × 21 columns</p>\n",
       "</div>"
      ],
      "text/plain": [
       "               id             date    price  bedrooms  bathrooms  sqft_living  \\\n",
       "1149   3421079032  20150217T000000  75000.0         1       0.00          670   \n",
       "15293    40000362  20140506T000000  78000.0         2       1.00          780   \n",
       "465    8658300340  20140523T000000  80000.0         1       0.75          430   \n",
       "16198  3028200080  20150324T000000  81000.0         2       1.00          730   \n",
       "8274   3883800011  20141105T000000  82000.0         3       1.00          860   \n",
       "2141   1623049041  20140508T000000  82500.0         2       1.00          520   \n",
       "18468  7999600180  20140529T000000  83000.0         2       1.00          900   \n",
       "3767   1523049188  20150430T000000  84000.0         2       1.00          700   \n",
       "10253  2422049104  20140915T000000  85000.0         2       1.00          830   \n",
       "16714  1322049150  20150305T000000  85000.0         2       1.00          910   \n",
       "\n",
       "       sqft_lot  floors  waterfront  view  ...  grade  sqft_above  \\\n",
       "1149      43377     1.0           0     0  ...      3         670   \n",
       "15293     16344     1.0           0     0  ...      5         780   \n",
       "465        5050     1.0           0     0  ...      4         430   \n",
       "16198      9975     1.0           0     0  ...      5         730   \n",
       "8274      10426     1.0           0     0  ...      6         860   \n",
       "2141      22334     1.0           0     0  ...      5         520   \n",
       "18468      8580     1.0           0     0  ...      5         900   \n",
       "3767      20130     1.0           0     0  ...      6         700   \n",
       "10253      9000     1.0           0     0  ...      6         830   \n",
       "16714      9753     1.0           0     0  ...      5         910   \n",
       "\n",
       "       sqft_basement  yr_built  yr_renovated  zipcode      lat     long  \\\n",
       "1149               0      1966             0    98022  47.2638 -121.906   \n",
       "15293              0      1942             0    98168  47.4739 -122.280   \n",
       "465                0      1912             0    98014  47.6499 -121.909   \n",
       "16198              0      1943             0    98168  47.4808 -122.315   \n",
       "8274               0      1954             0    98146  47.4987 -122.341   \n",
       "2141               0      1951             0    98168  47.4799 -122.296   \n",
       "18468              0      1918             0    98168  47.4727 -122.270   \n",
       "3767               0      1949             0    98168  47.4752 -122.271   \n",
       "10253              0      1939             0    98032  47.3813 -122.243   \n",
       "16714              0      1947             0    98032  47.3897 -122.236   \n",
       "\n",
       "       sqft_living15  sqft_lot15  \n",
       "1149            1160       42882  \n",
       "15293           1700       10387  \n",
       "465             1200        7500  \n",
       "16198            860        9000  \n",
       "8274            1140       11250  \n",
       "2141            1572       10570  \n",
       "18468           2060        6533  \n",
       "3767            1490       18630  \n",
       "10253           1160        7680  \n",
       "16714           1160        7405  \n",
       "\n",
       "[10 rows x 21 columns]"
      ]
     },
     "execution_count": 46,
     "metadata": {},
     "output_type": "execute_result"
    }
   ],
   "source": [
    "houses.nsmallest(10, [\"price\"])"
   ]
  },
  {
   "cell_type": "markdown",
   "id": "66d5cd48",
   "metadata": {},
   "source": [
    "***\n",
    "**Görüldüğü gibi kullanabiliyoruz, ancak seri nesneleri üzerindeki kullanımından farklı olarak bu sefer bütün bir dataframe örneklerini `price` sütununa göre azalan ya da artan şekilde görüyoruz. *Bununla birlikte birden fazla sütunu da bir arada inceleyebiliriz.***\n",
    "***"
   ]
  },
  {
   "cell_type": "code",
   "execution_count": 47,
   "id": "d3531802",
   "metadata": {},
   "outputs": [
    {
     "data": {
      "text/html": [
       "<div>\n",
       "<style scoped>\n",
       "    .dataframe tbody tr th:only-of-type {\n",
       "        vertical-align: middle;\n",
       "    }\n",
       "\n",
       "    .dataframe tbody tr th {\n",
       "        vertical-align: top;\n",
       "    }\n",
       "\n",
       "    .dataframe thead th {\n",
       "        text-align: right;\n",
       "    }\n",
       "</style>\n",
       "<table border=\"1\" class=\"dataframe\">\n",
       "  <thead>\n",
       "    <tr style=\"text-align: right;\">\n",
       "      <th></th>\n",
       "      <th>id</th>\n",
       "      <th>date</th>\n",
       "      <th>price</th>\n",
       "      <th>bedrooms</th>\n",
       "      <th>bathrooms</th>\n",
       "      <th>sqft_living</th>\n",
       "      <th>sqft_lot</th>\n",
       "      <th>floors</th>\n",
       "      <th>waterfront</th>\n",
       "      <th>view</th>\n",
       "      <th>...</th>\n",
       "      <th>grade</th>\n",
       "      <th>sqft_above</th>\n",
       "      <th>sqft_basement</th>\n",
       "      <th>yr_built</th>\n",
       "      <th>yr_renovated</th>\n",
       "      <th>zipcode</th>\n",
       "      <th>lat</th>\n",
       "      <th>long</th>\n",
       "      <th>sqft_living15</th>\n",
       "      <th>sqft_lot15</th>\n",
       "    </tr>\n",
       "  </thead>\n",
       "  <tbody>\n",
       "    <tr>\n",
       "      <th>15870</th>\n",
       "      <td>2402100895</td>\n",
       "      <td>20140625T000000</td>\n",
       "      <td>640000.0</td>\n",
       "      <td>33</td>\n",
       "      <td>1.75</td>\n",
       "      <td>1620</td>\n",
       "      <td>6000</td>\n",
       "      <td>1.0</td>\n",
       "      <td>0</td>\n",
       "      <td>0</td>\n",
       "      <td>...</td>\n",
       "      <td>7</td>\n",
       "      <td>1040</td>\n",
       "      <td>580</td>\n",
       "      <td>1947</td>\n",
       "      <td>0</td>\n",
       "      <td>98103</td>\n",
       "      <td>47.6878</td>\n",
       "      <td>-122.331</td>\n",
       "      <td>1330</td>\n",
       "      <td>4700</td>\n",
       "    </tr>\n",
       "    <tr>\n",
       "      <th>8757</th>\n",
       "      <td>1773100755</td>\n",
       "      <td>20140821T000000</td>\n",
       "      <td>520000.0</td>\n",
       "      <td>11</td>\n",
       "      <td>3.00</td>\n",
       "      <td>3000</td>\n",
       "      <td>4960</td>\n",
       "      <td>2.0</td>\n",
       "      <td>0</td>\n",
       "      <td>0</td>\n",
       "      <td>...</td>\n",
       "      <td>7</td>\n",
       "      <td>2400</td>\n",
       "      <td>600</td>\n",
       "      <td>1918</td>\n",
       "      <td>1999</td>\n",
       "      <td>98106</td>\n",
       "      <td>47.5560</td>\n",
       "      <td>-122.363</td>\n",
       "      <td>1420</td>\n",
       "      <td>4960</td>\n",
       "    </tr>\n",
       "    <tr>\n",
       "      <th>13314</th>\n",
       "      <td>627300145</td>\n",
       "      <td>20140814T000000</td>\n",
       "      <td>1148000.0</td>\n",
       "      <td>10</td>\n",
       "      <td>5.25</td>\n",
       "      <td>4590</td>\n",
       "      <td>10920</td>\n",
       "      <td>1.0</td>\n",
       "      <td>0</td>\n",
       "      <td>2</td>\n",
       "      <td>...</td>\n",
       "      <td>9</td>\n",
       "      <td>2500</td>\n",
       "      <td>2090</td>\n",
       "      <td>2008</td>\n",
       "      <td>0</td>\n",
       "      <td>98004</td>\n",
       "      <td>47.5861</td>\n",
       "      <td>-122.113</td>\n",
       "      <td>2730</td>\n",
       "      <td>10400</td>\n",
       "    </tr>\n",
       "    <tr>\n",
       "      <th>19254</th>\n",
       "      <td>8812401450</td>\n",
       "      <td>20141229T000000</td>\n",
       "      <td>660000.0</td>\n",
       "      <td>10</td>\n",
       "      <td>3.00</td>\n",
       "      <td>2920</td>\n",
       "      <td>3745</td>\n",
       "      <td>2.0</td>\n",
       "      <td>0</td>\n",
       "      <td>0</td>\n",
       "      <td>...</td>\n",
       "      <td>7</td>\n",
       "      <td>1860</td>\n",
       "      <td>1060</td>\n",
       "      <td>1913</td>\n",
       "      <td>0</td>\n",
       "      <td>98105</td>\n",
       "      <td>47.6635</td>\n",
       "      <td>-122.320</td>\n",
       "      <td>1810</td>\n",
       "      <td>3745</td>\n",
       "    </tr>\n",
       "    <tr>\n",
       "      <th>15161</th>\n",
       "      <td>5566100170</td>\n",
       "      <td>20141029T000000</td>\n",
       "      <td>650000.0</td>\n",
       "      <td>10</td>\n",
       "      <td>2.00</td>\n",
       "      <td>3610</td>\n",
       "      <td>11914</td>\n",
       "      <td>2.0</td>\n",
       "      <td>0</td>\n",
       "      <td>0</td>\n",
       "      <td>...</td>\n",
       "      <td>7</td>\n",
       "      <td>3010</td>\n",
       "      <td>600</td>\n",
       "      <td>1958</td>\n",
       "      <td>0</td>\n",
       "      <td>98006</td>\n",
       "      <td>47.5705</td>\n",
       "      <td>-122.175</td>\n",
       "      <td>2040</td>\n",
       "      <td>11914</td>\n",
       "    </tr>\n",
       "    <tr>\n",
       "      <th>8546</th>\n",
       "      <td>424049043</td>\n",
       "      <td>20140811T000000</td>\n",
       "      <td>450000.0</td>\n",
       "      <td>9</td>\n",
       "      <td>7.50</td>\n",
       "      <td>4050</td>\n",
       "      <td>6504</td>\n",
       "      <td>2.0</td>\n",
       "      <td>0</td>\n",
       "      <td>0</td>\n",
       "      <td>...</td>\n",
       "      <td>7</td>\n",
       "      <td>4050</td>\n",
       "      <td>0</td>\n",
       "      <td>1996</td>\n",
       "      <td>0</td>\n",
       "      <td>98144</td>\n",
       "      <td>47.5923</td>\n",
       "      <td>-122.301</td>\n",
       "      <td>1448</td>\n",
       "      <td>3866</td>\n",
       "    </tr>\n",
       "    <tr>\n",
       "      <th>4096</th>\n",
       "      <td>1997200215</td>\n",
       "      <td>20140507T000000</td>\n",
       "      <td>599999.0</td>\n",
       "      <td>9</td>\n",
       "      <td>4.50</td>\n",
       "      <td>3830</td>\n",
       "      <td>6988</td>\n",
       "      <td>2.5</td>\n",
       "      <td>0</td>\n",
       "      <td>0</td>\n",
       "      <td>...</td>\n",
       "      <td>7</td>\n",
       "      <td>2450</td>\n",
       "      <td>1380</td>\n",
       "      <td>1938</td>\n",
       "      <td>0</td>\n",
       "      <td>98103</td>\n",
       "      <td>47.6927</td>\n",
       "      <td>-122.338</td>\n",
       "      <td>1460</td>\n",
       "      <td>6291</td>\n",
       "    </tr>\n",
       "    <tr>\n",
       "      <th>6079</th>\n",
       "      <td>9822700190</td>\n",
       "      <td>20140808T000000</td>\n",
       "      <td>1280000.0</td>\n",
       "      <td>9</td>\n",
       "      <td>4.50</td>\n",
       "      <td>3650</td>\n",
       "      <td>5000</td>\n",
       "      <td>2.0</td>\n",
       "      <td>0</td>\n",
       "      <td>0</td>\n",
       "      <td>...</td>\n",
       "      <td>8</td>\n",
       "      <td>2530</td>\n",
       "      <td>1120</td>\n",
       "      <td>1915</td>\n",
       "      <td>2010</td>\n",
       "      <td>98105</td>\n",
       "      <td>47.6604</td>\n",
       "      <td>-122.289</td>\n",
       "      <td>2510</td>\n",
       "      <td>5000</td>\n",
       "    </tr>\n",
       "    <tr>\n",
       "      <th>16844</th>\n",
       "      <td>8823900290</td>\n",
       "      <td>20150317T000000</td>\n",
       "      <td>1400000.0</td>\n",
       "      <td>9</td>\n",
       "      <td>4.00</td>\n",
       "      <td>4620</td>\n",
       "      <td>5508</td>\n",
       "      <td>2.5</td>\n",
       "      <td>0</td>\n",
       "      <td>0</td>\n",
       "      <td>...</td>\n",
       "      <td>11</td>\n",
       "      <td>3870</td>\n",
       "      <td>750</td>\n",
       "      <td>1915</td>\n",
       "      <td>0</td>\n",
       "      <td>98105</td>\n",
       "      <td>47.6684</td>\n",
       "      <td>-122.309</td>\n",
       "      <td>2710</td>\n",
       "      <td>4320</td>\n",
       "    </tr>\n",
       "    <tr>\n",
       "      <th>4235</th>\n",
       "      <td>2902200015</td>\n",
       "      <td>20150106T000000</td>\n",
       "      <td>700000.0</td>\n",
       "      <td>9</td>\n",
       "      <td>3.00</td>\n",
       "      <td>3680</td>\n",
       "      <td>4400</td>\n",
       "      <td>2.0</td>\n",
       "      <td>0</td>\n",
       "      <td>0</td>\n",
       "      <td>...</td>\n",
       "      <td>7</td>\n",
       "      <td>2830</td>\n",
       "      <td>850</td>\n",
       "      <td>1908</td>\n",
       "      <td>0</td>\n",
       "      <td>98102</td>\n",
       "      <td>47.6374</td>\n",
       "      <td>-122.324</td>\n",
       "      <td>1960</td>\n",
       "      <td>2450</td>\n",
       "    </tr>\n",
       "    <tr>\n",
       "      <th>18443</th>\n",
       "      <td>8823901445</td>\n",
       "      <td>20150313T000000</td>\n",
       "      <td>934000.0</td>\n",
       "      <td>9</td>\n",
       "      <td>3.00</td>\n",
       "      <td>2820</td>\n",
       "      <td>4480</td>\n",
       "      <td>2.0</td>\n",
       "      <td>0</td>\n",
       "      <td>0</td>\n",
       "      <td>...</td>\n",
       "      <td>7</td>\n",
       "      <td>1880</td>\n",
       "      <td>940</td>\n",
       "      <td>1918</td>\n",
       "      <td>0</td>\n",
       "      <td>98105</td>\n",
       "      <td>47.6654</td>\n",
       "      <td>-122.307</td>\n",
       "      <td>2460</td>\n",
       "      <td>4400</td>\n",
       "    </tr>\n",
       "    <tr>\n",
       "      <th>4035</th>\n",
       "      <td>685000115</td>\n",
       "      <td>20141007T000000</td>\n",
       "      <td>2150000.0</td>\n",
       "      <td>8</td>\n",
       "      <td>6.00</td>\n",
       "      <td>4340</td>\n",
       "      <td>9415</td>\n",
       "      <td>2.0</td>\n",
       "      <td>0</td>\n",
       "      <td>0</td>\n",
       "      <td>...</td>\n",
       "      <td>8</td>\n",
       "      <td>4340</td>\n",
       "      <td>0</td>\n",
       "      <td>1967</td>\n",
       "      <td>0</td>\n",
       "      <td>98004</td>\n",
       "      <td>47.6316</td>\n",
       "      <td>-122.202</td>\n",
       "      <td>2050</td>\n",
       "      <td>9100</td>\n",
       "    </tr>\n",
       "    <tr>\n",
       "      <th>1660</th>\n",
       "      <td>9126101740</td>\n",
       "      <td>20141204T000000</td>\n",
       "      <td>490000.0</td>\n",
       "      <td>8</td>\n",
       "      <td>5.00</td>\n",
       "      <td>2800</td>\n",
       "      <td>2580</td>\n",
       "      <td>2.0</td>\n",
       "      <td>0</td>\n",
       "      <td>0</td>\n",
       "      <td>...</td>\n",
       "      <td>8</td>\n",
       "      <td>1880</td>\n",
       "      <td>920</td>\n",
       "      <td>1997</td>\n",
       "      <td>0</td>\n",
       "      <td>98122</td>\n",
       "      <td>47.6086</td>\n",
       "      <td>-122.303</td>\n",
       "      <td>1800</td>\n",
       "      <td>2580</td>\n",
       "    </tr>\n",
       "    <tr>\n",
       "      <th>9452</th>\n",
       "      <td>2769600590</td>\n",
       "      <td>20141016T000000</td>\n",
       "      <td>900000.0</td>\n",
       "      <td>8</td>\n",
       "      <td>4.00</td>\n",
       "      <td>4020</td>\n",
       "      <td>7500</td>\n",
       "      <td>1.0</td>\n",
       "      <td>0</td>\n",
       "      <td>0</td>\n",
       "      <td>...</td>\n",
       "      <td>8</td>\n",
       "      <td>2010</td>\n",
       "      <td>2010</td>\n",
       "      <td>1968</td>\n",
       "      <td>0</td>\n",
       "      <td>98107</td>\n",
       "      <td>47.6732</td>\n",
       "      <td>-122.363</td>\n",
       "      <td>1560</td>\n",
       "      <td>3737</td>\n",
       "    </tr>\n",
       "    <tr>\n",
       "      <th>18477</th>\n",
       "      <td>1346300150</td>\n",
       "      <td>20141020T000000</td>\n",
       "      <td>3300000.0</td>\n",
       "      <td>8</td>\n",
       "      <td>4.00</td>\n",
       "      <td>7710</td>\n",
       "      <td>11750</td>\n",
       "      <td>3.5</td>\n",
       "      <td>0</td>\n",
       "      <td>0</td>\n",
       "      <td>...</td>\n",
       "      <td>12</td>\n",
       "      <td>6090</td>\n",
       "      <td>1620</td>\n",
       "      <td>1904</td>\n",
       "      <td>0</td>\n",
       "      <td>98112</td>\n",
       "      <td>47.6263</td>\n",
       "      <td>-122.314</td>\n",
       "      <td>4210</td>\n",
       "      <td>8325</td>\n",
       "    </tr>\n",
       "  </tbody>\n",
       "</table>\n",
       "<p>15 rows × 21 columns</p>\n",
       "</div>"
      ],
      "text/plain": [
       "               id             date      price  bedrooms  bathrooms  \\\n",
       "15870  2402100895  20140625T000000   640000.0        33       1.75   \n",
       "8757   1773100755  20140821T000000   520000.0        11       3.00   \n",
       "13314   627300145  20140814T000000  1148000.0        10       5.25   \n",
       "19254  8812401450  20141229T000000   660000.0        10       3.00   \n",
       "15161  5566100170  20141029T000000   650000.0        10       2.00   \n",
       "8546    424049043  20140811T000000   450000.0         9       7.50   \n",
       "4096   1997200215  20140507T000000   599999.0         9       4.50   \n",
       "6079   9822700190  20140808T000000  1280000.0         9       4.50   \n",
       "16844  8823900290  20150317T000000  1400000.0         9       4.00   \n",
       "4235   2902200015  20150106T000000   700000.0         9       3.00   \n",
       "18443  8823901445  20150313T000000   934000.0         9       3.00   \n",
       "4035    685000115  20141007T000000  2150000.0         8       6.00   \n",
       "1660   9126101740  20141204T000000   490000.0         8       5.00   \n",
       "9452   2769600590  20141016T000000   900000.0         8       4.00   \n",
       "18477  1346300150  20141020T000000  3300000.0         8       4.00   \n",
       "\n",
       "       sqft_living  sqft_lot  floors  waterfront  view  ...  grade  \\\n",
       "15870         1620      6000     1.0           0     0  ...      7   \n",
       "8757          3000      4960     2.0           0     0  ...      7   \n",
       "13314         4590     10920     1.0           0     2  ...      9   \n",
       "19254         2920      3745     2.0           0     0  ...      7   \n",
       "15161         3610     11914     2.0           0     0  ...      7   \n",
       "8546          4050      6504     2.0           0     0  ...      7   \n",
       "4096          3830      6988     2.5           0     0  ...      7   \n",
       "6079          3650      5000     2.0           0     0  ...      8   \n",
       "16844         4620      5508     2.5           0     0  ...     11   \n",
       "4235          3680      4400     2.0           0     0  ...      7   \n",
       "18443         2820      4480     2.0           0     0  ...      7   \n",
       "4035          4340      9415     2.0           0     0  ...      8   \n",
       "1660          2800      2580     2.0           0     0  ...      8   \n",
       "9452          4020      7500     1.0           0     0  ...      8   \n",
       "18477         7710     11750     3.5           0     0  ...     12   \n",
       "\n",
       "       sqft_above  sqft_basement  yr_built  yr_renovated  zipcode      lat  \\\n",
       "15870        1040            580      1947             0    98103  47.6878   \n",
       "8757         2400            600      1918          1999    98106  47.5560   \n",
       "13314        2500           2090      2008             0    98004  47.5861   \n",
       "19254        1860           1060      1913             0    98105  47.6635   \n",
       "15161        3010            600      1958             0    98006  47.5705   \n",
       "8546         4050              0      1996             0    98144  47.5923   \n",
       "4096         2450           1380      1938             0    98103  47.6927   \n",
       "6079         2530           1120      1915          2010    98105  47.6604   \n",
       "16844        3870            750      1915             0    98105  47.6684   \n",
       "4235         2830            850      1908             0    98102  47.6374   \n",
       "18443        1880            940      1918             0    98105  47.6654   \n",
       "4035         4340              0      1967             0    98004  47.6316   \n",
       "1660         1880            920      1997             0    98122  47.6086   \n",
       "9452         2010           2010      1968             0    98107  47.6732   \n",
       "18477        6090           1620      1904             0    98112  47.6263   \n",
       "\n",
       "          long  sqft_living15  sqft_lot15  \n",
       "15870 -122.331           1330        4700  \n",
       "8757  -122.363           1420        4960  \n",
       "13314 -122.113           2730       10400  \n",
       "19254 -122.320           1810        3745  \n",
       "15161 -122.175           2040       11914  \n",
       "8546  -122.301           1448        3866  \n",
       "4096  -122.338           1460        6291  \n",
       "6079  -122.289           2510        5000  \n",
       "16844 -122.309           2710        4320  \n",
       "4235  -122.324           1960        2450  \n",
       "18443 -122.307           2460        4400  \n",
       "4035  -122.202           2050        9100  \n",
       "1660  -122.303           1800        2580  \n",
       "9452  -122.363           1560        3737  \n",
       "18477 -122.314           4210        8325  \n",
       "\n",
       "[15 rows x 21 columns]"
      ]
     },
     "execution_count": 47,
     "metadata": {},
     "output_type": "execute_result"
    }
   ],
   "source": [
    "houses.nlargest(15, [\"bedrooms\", \"bathrooms\"])"
   ]
  },
  {
   "cell_type": "code",
   "execution_count": 48,
   "id": "af9ab45e",
   "metadata": {
    "scrolled": false
   },
   "outputs": [
    {
     "data": {
      "text/html": [
       "<div>\n",
       "<style scoped>\n",
       "    .dataframe tbody tr th:only-of-type {\n",
       "        vertical-align: middle;\n",
       "    }\n",
       "\n",
       "    .dataframe tbody tr th {\n",
       "        vertical-align: top;\n",
       "    }\n",
       "\n",
       "    .dataframe thead th {\n",
       "        text-align: right;\n",
       "    }\n",
       "</style>\n",
       "<table border=\"1\" class=\"dataframe\">\n",
       "  <thead>\n",
       "    <tr style=\"text-align: right;\">\n",
       "      <th></th>\n",
       "      <th>id</th>\n",
       "      <th>date</th>\n",
       "      <th>price</th>\n",
       "      <th>bedrooms</th>\n",
       "      <th>bathrooms</th>\n",
       "      <th>sqft_living</th>\n",
       "      <th>sqft_lot</th>\n",
       "      <th>floors</th>\n",
       "      <th>waterfront</th>\n",
       "      <th>view</th>\n",
       "      <th>...</th>\n",
       "      <th>grade</th>\n",
       "      <th>sqft_above</th>\n",
       "      <th>sqft_basement</th>\n",
       "      <th>yr_built</th>\n",
       "      <th>yr_renovated</th>\n",
       "      <th>zipcode</th>\n",
       "      <th>lat</th>\n",
       "      <th>long</th>\n",
       "      <th>sqft_living15</th>\n",
       "      <th>sqft_lot15</th>\n",
       "    </tr>\n",
       "  </thead>\n",
       "  <tbody>\n",
       "    <tr>\n",
       "      <th>875</th>\n",
       "      <td>6306400140</td>\n",
       "      <td>20140612T000000</td>\n",
       "      <td>1095000.0</td>\n",
       "      <td>0</td>\n",
       "      <td>0.00</td>\n",
       "      <td>3064</td>\n",
       "      <td>4764</td>\n",
       "      <td>3.5</td>\n",
       "      <td>0</td>\n",
       "      <td>2</td>\n",
       "      <td>...</td>\n",
       "      <td>7</td>\n",
       "      <td>3064</td>\n",
       "      <td>0</td>\n",
       "      <td>1990</td>\n",
       "      <td>0</td>\n",
       "      <td>98102</td>\n",
       "      <td>47.6362</td>\n",
       "      <td>-122.322</td>\n",
       "      <td>2360</td>\n",
       "      <td>4000</td>\n",
       "    </tr>\n",
       "    <tr>\n",
       "      <th>3119</th>\n",
       "      <td>3918400017</td>\n",
       "      <td>20150205T000000</td>\n",
       "      <td>380000.0</td>\n",
       "      <td>0</td>\n",
       "      <td>0.00</td>\n",
       "      <td>1470</td>\n",
       "      <td>979</td>\n",
       "      <td>3.0</td>\n",
       "      <td>0</td>\n",
       "      <td>2</td>\n",
       "      <td>...</td>\n",
       "      <td>8</td>\n",
       "      <td>1470</td>\n",
       "      <td>0</td>\n",
       "      <td>2006</td>\n",
       "      <td>0</td>\n",
       "      <td>98133</td>\n",
       "      <td>47.7145</td>\n",
       "      <td>-122.356</td>\n",
       "      <td>1470</td>\n",
       "      <td>1399</td>\n",
       "    </tr>\n",
       "    <tr>\n",
       "      <th>6994</th>\n",
       "      <td>2954400190</td>\n",
       "      <td>20140624T000000</td>\n",
       "      <td>1295650.0</td>\n",
       "      <td>0</td>\n",
       "      <td>0.00</td>\n",
       "      <td>4810</td>\n",
       "      <td>28008</td>\n",
       "      <td>2.0</td>\n",
       "      <td>0</td>\n",
       "      <td>0</td>\n",
       "      <td>...</td>\n",
       "      <td>12</td>\n",
       "      <td>4810</td>\n",
       "      <td>0</td>\n",
       "      <td>1990</td>\n",
       "      <td>0</td>\n",
       "      <td>98053</td>\n",
       "      <td>47.6642</td>\n",
       "      <td>-122.069</td>\n",
       "      <td>4740</td>\n",
       "      <td>35061</td>\n",
       "    </tr>\n",
       "    <tr>\n",
       "      <th>9773</th>\n",
       "      <td>3374500520</td>\n",
       "      <td>20150429T000000</td>\n",
       "      <td>355000.0</td>\n",
       "      <td>0</td>\n",
       "      <td>0.00</td>\n",
       "      <td>2460</td>\n",
       "      <td>8049</td>\n",
       "      <td>2.0</td>\n",
       "      <td>0</td>\n",
       "      <td>0</td>\n",
       "      <td>...</td>\n",
       "      <td>8</td>\n",
       "      <td>2460</td>\n",
       "      <td>0</td>\n",
       "      <td>1990</td>\n",
       "      <td>0</td>\n",
       "      <td>98031</td>\n",
       "      <td>47.4095</td>\n",
       "      <td>-122.168</td>\n",
       "      <td>2520</td>\n",
       "      <td>8050</td>\n",
       "    </tr>\n",
       "    <tr>\n",
       "      <th>9854</th>\n",
       "      <td>7849202190</td>\n",
       "      <td>20141223T000000</td>\n",
       "      <td>235000.0</td>\n",
       "      <td>0</td>\n",
       "      <td>0.00</td>\n",
       "      <td>1470</td>\n",
       "      <td>4800</td>\n",
       "      <td>2.0</td>\n",
       "      <td>0</td>\n",
       "      <td>0</td>\n",
       "      <td>...</td>\n",
       "      <td>7</td>\n",
       "      <td>1470</td>\n",
       "      <td>0</td>\n",
       "      <td>1996</td>\n",
       "      <td>0</td>\n",
       "      <td>98065</td>\n",
       "      <td>47.5265</td>\n",
       "      <td>-121.828</td>\n",
       "      <td>1060</td>\n",
       "      <td>7200</td>\n",
       "    </tr>\n",
       "    <tr>\n",
       "      <th>14423</th>\n",
       "      <td>9543000205</td>\n",
       "      <td>20150413T000000</td>\n",
       "      <td>139950.0</td>\n",
       "      <td>0</td>\n",
       "      <td>0.00</td>\n",
       "      <td>844</td>\n",
       "      <td>4269</td>\n",
       "      <td>1.0</td>\n",
       "      <td>0</td>\n",
       "      <td>0</td>\n",
       "      <td>...</td>\n",
       "      <td>7</td>\n",
       "      <td>844</td>\n",
       "      <td>0</td>\n",
       "      <td>1913</td>\n",
       "      <td>0</td>\n",
       "      <td>98001</td>\n",
       "      <td>47.2781</td>\n",
       "      <td>-122.250</td>\n",
       "      <td>1380</td>\n",
       "      <td>9600</td>\n",
       "    </tr>\n",
       "    <tr>\n",
       "      <th>19452</th>\n",
       "      <td>3980300371</td>\n",
       "      <td>20140926T000000</td>\n",
       "      <td>142000.0</td>\n",
       "      <td>0</td>\n",
       "      <td>0.00</td>\n",
       "      <td>290</td>\n",
       "      <td>20875</td>\n",
       "      <td>1.0</td>\n",
       "      <td>0</td>\n",
       "      <td>0</td>\n",
       "      <td>...</td>\n",
       "      <td>1</td>\n",
       "      <td>290</td>\n",
       "      <td>0</td>\n",
       "      <td>1963</td>\n",
       "      <td>0</td>\n",
       "      <td>98024</td>\n",
       "      <td>47.5308</td>\n",
       "      <td>-121.888</td>\n",
       "      <td>1620</td>\n",
       "      <td>22850</td>\n",
       "    </tr>\n",
       "    <tr>\n",
       "      <th>18379</th>\n",
       "      <td>1222029077</td>\n",
       "      <td>20141029T000000</td>\n",
       "      <td>265000.0</td>\n",
       "      <td>0</td>\n",
       "      <td>0.75</td>\n",
       "      <td>384</td>\n",
       "      <td>213444</td>\n",
       "      <td>1.0</td>\n",
       "      <td>0</td>\n",
       "      <td>0</td>\n",
       "      <td>...</td>\n",
       "      <td>4</td>\n",
       "      <td>384</td>\n",
       "      <td>0</td>\n",
       "      <td>2003</td>\n",
       "      <td>0</td>\n",
       "      <td>98070</td>\n",
       "      <td>47.4177</td>\n",
       "      <td>-122.491</td>\n",
       "      <td>1920</td>\n",
       "      <td>224341</td>\n",
       "    </tr>\n",
       "    <tr>\n",
       "      <th>4868</th>\n",
       "      <td>6896300380</td>\n",
       "      <td>20141002T000000</td>\n",
       "      <td>228000.0</td>\n",
       "      <td>0</td>\n",
       "      <td>1.00</td>\n",
       "      <td>390</td>\n",
       "      <td>5900</td>\n",
       "      <td>1.0</td>\n",
       "      <td>0</td>\n",
       "      <td>0</td>\n",
       "      <td>...</td>\n",
       "      <td>4</td>\n",
       "      <td>390</td>\n",
       "      <td>0</td>\n",
       "      <td>1953</td>\n",
       "      <td>0</td>\n",
       "      <td>98118</td>\n",
       "      <td>47.5260</td>\n",
       "      <td>-122.261</td>\n",
       "      <td>2170</td>\n",
       "      <td>6000</td>\n",
       "    </tr>\n",
       "    <tr>\n",
       "      <th>3467</th>\n",
       "      <td>1453602309</td>\n",
       "      <td>20140805T000000</td>\n",
       "      <td>288000.0</td>\n",
       "      <td>0</td>\n",
       "      <td>1.50</td>\n",
       "      <td>1430</td>\n",
       "      <td>1650</td>\n",
       "      <td>3.0</td>\n",
       "      <td>0</td>\n",
       "      <td>0</td>\n",
       "      <td>...</td>\n",
       "      <td>7</td>\n",
       "      <td>1430</td>\n",
       "      <td>0</td>\n",
       "      <td>1999</td>\n",
       "      <td>0</td>\n",
       "      <td>98125</td>\n",
       "      <td>47.7222</td>\n",
       "      <td>-122.290</td>\n",
       "      <td>1430</td>\n",
       "      <td>1650</td>\n",
       "    </tr>\n",
       "    <tr>\n",
       "      <th>8477</th>\n",
       "      <td>2569500210</td>\n",
       "      <td>20141117T000000</td>\n",
       "      <td>339950.0</td>\n",
       "      <td>0</td>\n",
       "      <td>2.50</td>\n",
       "      <td>2290</td>\n",
       "      <td>8319</td>\n",
       "      <td>2.0</td>\n",
       "      <td>0</td>\n",
       "      <td>0</td>\n",
       "      <td>...</td>\n",
       "      <td>8</td>\n",
       "      <td>2290</td>\n",
       "      <td>0</td>\n",
       "      <td>1985</td>\n",
       "      <td>0</td>\n",
       "      <td>98042</td>\n",
       "      <td>47.3473</td>\n",
       "      <td>-122.151</td>\n",
       "      <td>2500</td>\n",
       "      <td>8751</td>\n",
       "    </tr>\n",
       "    <tr>\n",
       "      <th>8484</th>\n",
       "      <td>2310060040</td>\n",
       "      <td>20140925T000000</td>\n",
       "      <td>240000.0</td>\n",
       "      <td>0</td>\n",
       "      <td>2.50</td>\n",
       "      <td>1810</td>\n",
       "      <td>5669</td>\n",
       "      <td>2.0</td>\n",
       "      <td>0</td>\n",
       "      <td>0</td>\n",
       "      <td>...</td>\n",
       "      <td>7</td>\n",
       "      <td>1810</td>\n",
       "      <td>0</td>\n",
       "      <td>2003</td>\n",
       "      <td>0</td>\n",
       "      <td>98038</td>\n",
       "      <td>47.3493</td>\n",
       "      <td>-122.053</td>\n",
       "      <td>1810</td>\n",
       "      <td>5685</td>\n",
       "    </tr>\n",
       "    <tr>\n",
       "      <th>12653</th>\n",
       "      <td>7849202299</td>\n",
       "      <td>20150218T000000</td>\n",
       "      <td>320000.0</td>\n",
       "      <td>0</td>\n",
       "      <td>2.50</td>\n",
       "      <td>1490</td>\n",
       "      <td>7111</td>\n",
       "      <td>2.0</td>\n",
       "      <td>0</td>\n",
       "      <td>0</td>\n",
       "      <td>...</td>\n",
       "      <td>7</td>\n",
       "      <td>1490</td>\n",
       "      <td>0</td>\n",
       "      <td>1999</td>\n",
       "      <td>0</td>\n",
       "      <td>98065</td>\n",
       "      <td>47.5261</td>\n",
       "      <td>-121.826</td>\n",
       "      <td>1500</td>\n",
       "      <td>4675</td>\n",
       "    </tr>\n",
       "    <tr>\n",
       "      <th>1149</th>\n",
       "      <td>3421079032</td>\n",
       "      <td>20150217T000000</td>\n",
       "      <td>75000.0</td>\n",
       "      <td>1</td>\n",
       "      <td>0.00</td>\n",
       "      <td>670</td>\n",
       "      <td>43377</td>\n",
       "      <td>1.0</td>\n",
       "      <td>0</td>\n",
       "      <td>0</td>\n",
       "      <td>...</td>\n",
       "      <td>3</td>\n",
       "      <td>670</td>\n",
       "      <td>0</td>\n",
       "      <td>1966</td>\n",
       "      <td>0</td>\n",
       "      <td>98022</td>\n",
       "      <td>47.2638</td>\n",
       "      <td>-121.906</td>\n",
       "      <td>1160</td>\n",
       "      <td>42882</td>\n",
       "    </tr>\n",
       "    <tr>\n",
       "      <th>5832</th>\n",
       "      <td>5702500050</td>\n",
       "      <td>20141104T000000</td>\n",
       "      <td>280000.0</td>\n",
       "      <td>1</td>\n",
       "      <td>0.00</td>\n",
       "      <td>600</td>\n",
       "      <td>24501</td>\n",
       "      <td>1.0</td>\n",
       "      <td>0</td>\n",
       "      <td>0</td>\n",
       "      <td>...</td>\n",
       "      <td>3</td>\n",
       "      <td>600</td>\n",
       "      <td>0</td>\n",
       "      <td>1950</td>\n",
       "      <td>0</td>\n",
       "      <td>98045</td>\n",
       "      <td>47.5316</td>\n",
       "      <td>-121.749</td>\n",
       "      <td>990</td>\n",
       "      <td>22549</td>\n",
       "    </tr>\n",
       "  </tbody>\n",
       "</table>\n",
       "<p>15 rows × 21 columns</p>\n",
       "</div>"
      ],
      "text/plain": [
       "               id             date      price  bedrooms  bathrooms  \\\n",
       "875    6306400140  20140612T000000  1095000.0         0       0.00   \n",
       "3119   3918400017  20150205T000000   380000.0         0       0.00   \n",
       "6994   2954400190  20140624T000000  1295650.0         0       0.00   \n",
       "9773   3374500520  20150429T000000   355000.0         0       0.00   \n",
       "9854   7849202190  20141223T000000   235000.0         0       0.00   \n",
       "14423  9543000205  20150413T000000   139950.0         0       0.00   \n",
       "19452  3980300371  20140926T000000   142000.0         0       0.00   \n",
       "18379  1222029077  20141029T000000   265000.0         0       0.75   \n",
       "4868   6896300380  20141002T000000   228000.0         0       1.00   \n",
       "3467   1453602309  20140805T000000   288000.0         0       1.50   \n",
       "8477   2569500210  20141117T000000   339950.0         0       2.50   \n",
       "8484   2310060040  20140925T000000   240000.0         0       2.50   \n",
       "12653  7849202299  20150218T000000   320000.0         0       2.50   \n",
       "1149   3421079032  20150217T000000    75000.0         1       0.00   \n",
       "5832   5702500050  20141104T000000   280000.0         1       0.00   \n",
       "\n",
       "       sqft_living  sqft_lot  floors  waterfront  view  ...  grade  \\\n",
       "875           3064      4764     3.5           0     2  ...      7   \n",
       "3119          1470       979     3.0           0     2  ...      8   \n",
       "6994          4810     28008     2.0           0     0  ...     12   \n",
       "9773          2460      8049     2.0           0     0  ...      8   \n",
       "9854          1470      4800     2.0           0     0  ...      7   \n",
       "14423          844      4269     1.0           0     0  ...      7   \n",
       "19452          290     20875     1.0           0     0  ...      1   \n",
       "18379          384    213444     1.0           0     0  ...      4   \n",
       "4868           390      5900     1.0           0     0  ...      4   \n",
       "3467          1430      1650     3.0           0     0  ...      7   \n",
       "8477          2290      8319     2.0           0     0  ...      8   \n",
       "8484          1810      5669     2.0           0     0  ...      7   \n",
       "12653         1490      7111     2.0           0     0  ...      7   \n",
       "1149           670     43377     1.0           0     0  ...      3   \n",
       "5832           600     24501     1.0           0     0  ...      3   \n",
       "\n",
       "       sqft_above  sqft_basement  yr_built  yr_renovated  zipcode      lat  \\\n",
       "875          3064              0      1990             0    98102  47.6362   \n",
       "3119         1470              0      2006             0    98133  47.7145   \n",
       "6994         4810              0      1990             0    98053  47.6642   \n",
       "9773         2460              0      1990             0    98031  47.4095   \n",
       "9854         1470              0      1996             0    98065  47.5265   \n",
       "14423         844              0      1913             0    98001  47.2781   \n",
       "19452         290              0      1963             0    98024  47.5308   \n",
       "18379         384              0      2003             0    98070  47.4177   \n",
       "4868          390              0      1953             0    98118  47.5260   \n",
       "3467         1430              0      1999             0    98125  47.7222   \n",
       "8477         2290              0      1985             0    98042  47.3473   \n",
       "8484         1810              0      2003             0    98038  47.3493   \n",
       "12653        1490              0      1999             0    98065  47.5261   \n",
       "1149          670              0      1966             0    98022  47.2638   \n",
       "5832          600              0      1950             0    98045  47.5316   \n",
       "\n",
       "          long  sqft_living15  sqft_lot15  \n",
       "875   -122.322           2360        4000  \n",
       "3119  -122.356           1470        1399  \n",
       "6994  -122.069           4740       35061  \n",
       "9773  -122.168           2520        8050  \n",
       "9854  -121.828           1060        7200  \n",
       "14423 -122.250           1380        9600  \n",
       "19452 -121.888           1620       22850  \n",
       "18379 -122.491           1920      224341  \n",
       "4868  -122.261           2170        6000  \n",
       "3467  -122.290           1430        1650  \n",
       "8477  -122.151           2500        8751  \n",
       "8484  -122.053           1810        5685  \n",
       "12653 -121.826           1500        4675  \n",
       "1149  -121.906           1160       42882  \n",
       "5832  -121.749            990       22549  \n",
       "\n",
       "[15 rows x 21 columns]"
      ]
     },
     "execution_count": 48,
     "metadata": {},
     "output_type": "execute_result"
    }
   ],
   "source": [
    "houses.nsmallest(15, [\"bedrooms\", \"bathrooms\"])"
   ]
  },
  {
   "cell_type": "markdown",
   "id": "399c95de",
   "metadata": {},
   "source": [
    "***\n",
    "**`value_counts()` metodu, verinin keşfi sırasında kullanılan oldukça kullanışlı bir metottur. Sütundaki NaN olmayan her bir unique değerin kaç kez kullanıldığını gösteren bir seri döndürür. Bu seri default olarak azalan şekilde sıralanmıştır ve NaN değerleri içermez.**\n",
    "\n",
    "**Üzerinde çalıştığımız seri tipideki bir değişken içerisinde kaç adet unique değer olduğunu `nunique()` metodunu kullanarak öğreniyorduk. Şimdi de hem `value_counts()` hem de `nunique()` metotlarını birlikte kullanarak üzerinde çalıştığımız değişken içerisinde kaç adet *unique* değer bulunduğunu ve bu *unique* değerlerin kaç kez kullanıldığını görelim.**\n",
    "***"
   ]
  },
  {
   "cell_type": "code",
   "execution_count": 49,
   "id": "45fd1e65",
   "metadata": {},
   "outputs": [
    {
     "data": {
      "text/plain": [
       "13"
      ]
     },
     "execution_count": 49,
     "metadata": {},
     "output_type": "execute_result"
    }
   ],
   "source": [
    "# Üzerinde çalıştığımız sütun içerisinde kaç adet unique değer var?\n",
    "houses[\"bedrooms\"].nunique()"
   ]
  },
  {
   "cell_type": "code",
   "execution_count": 50,
   "id": "7365a362",
   "metadata": {
    "scrolled": true
   },
   "outputs": [
    {
     "data": {
      "text/plain": [
       "3     9824\n",
       "4     6882\n",
       "2     2760\n",
       "5     1601\n",
       "6      272\n",
       "1      199\n",
       "7       38\n",
       "0       13\n",
       "8       13\n",
       "9        6\n",
       "10       3\n",
       "11       1\n",
       "33       1\n",
       "Name: bedrooms, dtype: int64"
      ]
     },
     "execution_count": 50,
     "metadata": {},
     "output_type": "execute_result"
    }
   ],
   "source": [
    "# Sütun içerisinde bulunan 13 adet unique değer sütun içerisinde kaç kez var oldu, kullanıldı?\n",
    "houses[\"bedrooms\"].value_counts()"
   ]
  },
  {
   "cell_type": "markdown",
   "id": "39c2534f",
   "metadata": {},
   "source": [
    "***\n",
    "**Örneklermizi arttıralım.**\n",
    "***"
   ]
  },
  {
   "cell_type": "code",
   "execution_count": 51,
   "id": "29354e57",
   "metadata": {},
   "outputs": [
    {
     "data": {
      "text/plain": [
       "2"
      ]
     },
     "execution_count": 51,
     "metadata": {},
     "output_type": "execute_result"
    }
   ],
   "source": [
    "# Üzerinde çalıştığımız sütun içerisinde kaç adet unique değer var?\n",
    "titanic[\"sex\"].nunique()"
   ]
  },
  {
   "cell_type": "code",
   "execution_count": 52,
   "id": "51cf3c7d",
   "metadata": {
    "scrolled": true
   },
   "outputs": [
    {
     "data": {
      "text/plain": [
       "male      843\n",
       "female    466\n",
       "Name: sex, dtype: int64"
      ]
     },
     "execution_count": 52,
     "metadata": {},
     "output_type": "execute_result"
    }
   ],
   "source": [
    "# Sütun içerisinde bulunan 13 adet unique değer sütun içerisinde kaç kez var oldu, kullanıldı?\n",
    "titanic[\"sex\"].value_counts()"
   ]
  },
  {
   "cell_type": "code",
   "execution_count": 53,
   "id": "1f7f8bc6",
   "metadata": {},
   "outputs": [
    {
     "data": {
      "text/plain": [
       "4528"
      ]
     },
     "execution_count": 53,
     "metadata": {},
     "output_type": "execute_result"
    }
   ],
   "source": [
    "# Üzerinde çalıştığımız sütun içerisinde kaç adet unique değer var?\n",
    "netflix[\"director\"].nunique()"
   ]
  },
  {
   "cell_type": "code",
   "execution_count": 54,
   "id": "c244c5f6",
   "metadata": {
    "scrolled": false
   },
   "outputs": [
    {
     "data": {
      "text/plain": [
       "Rajiv Chilaka             19\n",
       "Raúl Campos, Jan Suter    18\n",
       "Marcus Raboy              16\n",
       "Suhas Kadav               16\n",
       "Jay Karas                 14\n",
       "Cathy Garcia-Molina       13\n",
       "Martin Scorsese           12\n",
       "Youssef Chahine           12\n",
       "Jay Chapman               12\n",
       "Steven Spielberg          11\n",
       "Don Michael Paul          10\n",
       "David Dhawan               9\n",
       "Yılmaz Erdoğan             8\n",
       "Lance Bangs                8\n",
       "Kunle Afolayan             8\n",
       "Name: director, dtype: int64"
      ]
     },
     "execution_count": 54,
     "metadata": {},
     "output_type": "execute_result"
    }
   ],
   "source": [
    "# Sütun içerisinde bulunan 13 adet unique değer sütun içerisinde kaç kez var oldu, kullanıldı?\n",
    "netflix[\"director\"].value_counts().head(15)"
   ]
  },
  {
   "cell_type": "code",
   "execution_count": 55,
   "id": "8c0569f4",
   "metadata": {
    "scrolled": false
   },
   "outputs": [
    {
     "data": {
      "text/plain": [
       "Kirsten Johnson                   1\n",
       "Evgeny Afineevsky                 1\n",
       "Kristina Goolsby, Ashley York     1\n",
       "Phil Joanou                       1\n",
       "Anthony Pierce                    1\n",
       "                                 ..\n",
       "Jay Karas                        14\n",
       "Suhas Kadav                      16\n",
       "Marcus Raboy                     16\n",
       "Raúl Campos, Jan Suter           18\n",
       "Rajiv Chilaka                    19\n",
       "Name: director, Length: 4528, dtype: int64"
      ]
     },
     "execution_count": 55,
     "metadata": {},
     "output_type": "execute_result"
    }
   ],
   "source": [
    "# value_counts() metodunu kullanırken verileri artan sırada görmemiz mümkün\n",
    "netflix[\"director\"].value_counts(ascending=True)"
   ]
  },
  {
   "cell_type": "code",
   "execution_count": 56,
   "id": "6a958a94",
   "metadata": {},
   "outputs": [
    {
     "data": {
      "text/plain": [
       "6"
      ]
     },
     "execution_count": 56,
     "metadata": {},
     "output_type": "execute_result"
    }
   ],
   "source": [
    "# Üzerinde çalıştığımız sütun içerisinde kaç adet unique değer var?\n",
    "houses[\"floors\"].nunique()"
   ]
  },
  {
   "cell_type": "code",
   "execution_count": 57,
   "id": "3a5aafcb",
   "metadata": {
    "scrolled": true
   },
   "outputs": [
    {
     "data": {
      "text/plain": [
       "1.0    10680\n",
       "2.0     8241\n",
       "1.5     1910\n",
       "3.0      613\n",
       "2.5      161\n",
       "3.5        8\n",
       "Name: floors, dtype: int64"
      ]
     },
     "execution_count": 57,
     "metadata": {},
     "output_type": "execute_result"
    }
   ],
   "source": [
    "# Sütun içerisinde bulunan 13 adet unique değer sütun içerisinde kaç kez var oldu, kullanıldı?\n",
    "houses[\"floors\"].value_counts()"
   ]
  },
  {
   "cell_type": "markdown",
   "id": "13c1625f",
   "metadata": {},
   "source": [
    "***\n",
    "**Peki `value_counts()` metodunu, birden fazla sütun üzerinde çalışırken kullanmak mümkün müdür? Evet mümkündür, bu durumda belirtilen ilk sütun ile ikinci sütunun birlikte değerlendirildiği unique değerlerin kaç kere var olduğunu, kullanıldığını görebiliriz. Yani aslında birlikte var olan ikili unique kombinasyon sayılarını göreceğiz.**\n",
    "***"
   ]
  },
  {
   "cell_type": "code",
   "execution_count": 58,
   "id": "41872e66",
   "metadata": {
    "scrolled": false
   },
   "outputs": [
    {
     "data": {
      "text/plain": [
       "bedrooms  bathrooms\n",
       "4         2.50         2502\n",
       "3         2.50         2357\n",
       "          1.75         1870\n",
       "          1.00         1780\n",
       "2         1.00         1558\n",
       "                       ... \n",
       "7         1.00            1\n",
       "          3.25            1\n",
       "          5.50            1\n",
       "          5.75            1\n",
       "33        1.75            1\n",
       "Length: 144, dtype: int64"
      ]
     },
     "execution_count": 58,
     "metadata": {},
     "output_type": "execute_result"
    }
   ],
   "source": [
    "houses[[\"bedrooms\", \"bathrooms\"]].value_counts()"
   ]
  },
  {
   "cell_type": "markdown",
   "id": "5cc8c07e",
   "metadata": {},
   "source": [
    "***\n",
    "**Yukarıdaki sonuç sizi yanıltmasın, geriye dönen nesne Series tipindedir. En sağdaki değerler belirtilen sütunların birlikte var olduğu unique kombinasyon sayısını belirtirken, sütunlar ise etiket olarak karışımıza çıkıyor**\n",
    "***"
   ]
  },
  {
   "cell_type": "code",
   "execution_count": 59,
   "id": "2bd194e5",
   "metadata": {},
   "outputs": [
    {
     "data": {
      "text/plain": [
       "pandas.core.series.Series"
      ]
     },
     "execution_count": 59,
     "metadata": {},
     "output_type": "execute_result"
    }
   ],
   "source": [
    "# Bu durumu ispatlamak için type() metodunu kullanalım;\n",
    "type(houses[[\"bedrooms\", \"bathrooms\"]].value_counts())"
   ]
  },
  {
   "cell_type": "markdown",
   "id": "d5162ca1",
   "metadata": {},
   "source": [
    "***\n",
    "## $Selecting$ $Multiple$ $Lines$"
   ]
  },
  {
   "cell_type": "markdown",
   "id": "4e27b136",
   "metadata": {},
   "source": [
    "***\n",
    "**Hatırlarsanız birden fazla sütunu aynı anda seçebilmek için `dataframe[\"\"]` formatını kullanmamız gerekiyordu. Bu format içerisinde `dataframe[\"sütun_adi\"]` şeklinde bir kullanım yaparsak geriye `Series` tipinde bir nesne alyorduk. Ancak `dataframe[\"\"]` formatının içerisine `[\"sütun_adi1\", \"sütun_adi2\", \"sütun_adi3\"]` şeklinde bir liste verirsek birden fazla sütunu seçmiş oluruz ve bu seçim geriye `DataFrame` türünde bir nesne döndürür. Sonuçta kullanacağımız yazım formatı şu şekilde olacaktır: `dataframe[[\"sütun_adi1\", \"sütun_adi2\", \"sütun_adi3\"]]`.**\n",
    "***"
   ]
  },
  {
   "cell_type": "code",
   "execution_count": 60,
   "id": "569e3f78",
   "metadata": {},
   "outputs": [
    {
     "data": {
      "text/html": [
       "<div>\n",
       "<style scoped>\n",
       "    .dataframe tbody tr th:only-of-type {\n",
       "        vertical-align: middle;\n",
       "    }\n",
       "\n",
       "    .dataframe tbody tr th {\n",
       "        vertical-align: top;\n",
       "    }\n",
       "\n",
       "    .dataframe thead th {\n",
       "        text-align: right;\n",
       "    }\n",
       "</style>\n",
       "<table border=\"1\" class=\"dataframe\">\n",
       "  <thead>\n",
       "    <tr style=\"text-align: right;\">\n",
       "      <th></th>\n",
       "      <th>title</th>\n",
       "    </tr>\n",
       "  </thead>\n",
       "  <tbody>\n",
       "    <tr>\n",
       "      <th>0</th>\n",
       "      <td>Dick Johnson Is Dead</td>\n",
       "    </tr>\n",
       "    <tr>\n",
       "      <th>1</th>\n",
       "      <td>Blood &amp; Water</td>\n",
       "    </tr>\n",
       "    <tr>\n",
       "      <th>2</th>\n",
       "      <td>Ganglands</td>\n",
       "    </tr>\n",
       "    <tr>\n",
       "      <th>3</th>\n",
       "      <td>Jailbirds New Orleans</td>\n",
       "    </tr>\n",
       "    <tr>\n",
       "      <th>4</th>\n",
       "      <td>Kota Factory</td>\n",
       "    </tr>\n",
       "    <tr>\n",
       "      <th>...</th>\n",
       "      <td>...</td>\n",
       "    </tr>\n",
       "    <tr>\n",
       "      <th>8802</th>\n",
       "      <td>Zodiac</td>\n",
       "    </tr>\n",
       "    <tr>\n",
       "      <th>8803</th>\n",
       "      <td>Zombie Dumb</td>\n",
       "    </tr>\n",
       "    <tr>\n",
       "      <th>8804</th>\n",
       "      <td>Zombieland</td>\n",
       "    </tr>\n",
       "    <tr>\n",
       "      <th>8805</th>\n",
       "      <td>Zoom</td>\n",
       "    </tr>\n",
       "    <tr>\n",
       "      <th>8806</th>\n",
       "      <td>Zubaan</td>\n",
       "    </tr>\n",
       "  </tbody>\n",
       "</table>\n",
       "<p>8807 rows × 1 columns</p>\n",
       "</div>"
      ],
      "text/plain": [
       "                      title\n",
       "0      Dick Johnson Is Dead\n",
       "1             Blood & Water\n",
       "2                 Ganglands\n",
       "3     Jailbirds New Orleans\n",
       "4              Kota Factory\n",
       "...                     ...\n",
       "8802                 Zodiac\n",
       "8803            Zombie Dumb\n",
       "8804             Zombieland\n",
       "8805                   Zoom\n",
       "8806                 Zubaan\n",
       "\n",
       "[8807 rows x 1 columns]"
      ]
     },
     "execution_count": 60,
     "metadata": {},
     "output_type": "execute_result"
    }
   ],
   "source": [
    "netflix[[\"title\"]]"
   ]
  },
  {
   "cell_type": "code",
   "execution_count": 61,
   "id": "23789e77",
   "metadata": {},
   "outputs": [
    {
     "data": {
      "text/plain": [
       "pandas.core.frame.DataFrame"
      ]
     },
     "execution_count": 61,
     "metadata": {},
     "output_type": "execute_result"
    }
   ],
   "source": [
    "type(netflix[[\"title\"]])"
   ]
  },
  {
   "cell_type": "code",
   "execution_count": 62,
   "id": "45e97702",
   "metadata": {},
   "outputs": [
    {
     "data": {
      "text/plain": [
       "(8807, 1)"
      ]
     },
     "execution_count": 62,
     "metadata": {},
     "output_type": "execute_result"
    }
   ],
   "source": [
    "netflix[[\"title\"]].shape"
   ]
  },
  {
   "cell_type": "code",
   "execution_count": 63,
   "id": "d3261897",
   "metadata": {},
   "outputs": [
    {
     "data": {
      "text/html": [
       "<div>\n",
       "<style scoped>\n",
       "    .dataframe tbody tr th:only-of-type {\n",
       "        vertical-align: middle;\n",
       "    }\n",
       "\n",
       "    .dataframe tbody tr th {\n",
       "        vertical-align: top;\n",
       "    }\n",
       "\n",
       "    .dataframe thead th {\n",
       "        text-align: right;\n",
       "    }\n",
       "</style>\n",
       "<table border=\"1\" class=\"dataframe\">\n",
       "  <thead>\n",
       "    <tr style=\"text-align: right;\">\n",
       "      <th></th>\n",
       "      <th>title</th>\n",
       "      <th>rating</th>\n",
       "    </tr>\n",
       "  </thead>\n",
       "  <tbody>\n",
       "    <tr>\n",
       "      <th>0</th>\n",
       "      <td>Dick Johnson Is Dead</td>\n",
       "      <td>PG-13</td>\n",
       "    </tr>\n",
       "    <tr>\n",
       "      <th>1</th>\n",
       "      <td>Blood &amp; Water</td>\n",
       "      <td>TV-MA</td>\n",
       "    </tr>\n",
       "    <tr>\n",
       "      <th>2</th>\n",
       "      <td>Ganglands</td>\n",
       "      <td>TV-MA</td>\n",
       "    </tr>\n",
       "    <tr>\n",
       "      <th>3</th>\n",
       "      <td>Jailbirds New Orleans</td>\n",
       "      <td>TV-MA</td>\n",
       "    </tr>\n",
       "    <tr>\n",
       "      <th>4</th>\n",
       "      <td>Kota Factory</td>\n",
       "      <td>TV-MA</td>\n",
       "    </tr>\n",
       "    <tr>\n",
       "      <th>...</th>\n",
       "      <td>...</td>\n",
       "      <td>...</td>\n",
       "    </tr>\n",
       "    <tr>\n",
       "      <th>8802</th>\n",
       "      <td>Zodiac</td>\n",
       "      <td>R</td>\n",
       "    </tr>\n",
       "    <tr>\n",
       "      <th>8803</th>\n",
       "      <td>Zombie Dumb</td>\n",
       "      <td>TV-Y7</td>\n",
       "    </tr>\n",
       "    <tr>\n",
       "      <th>8804</th>\n",
       "      <td>Zombieland</td>\n",
       "      <td>R</td>\n",
       "    </tr>\n",
       "    <tr>\n",
       "      <th>8805</th>\n",
       "      <td>Zoom</td>\n",
       "      <td>PG</td>\n",
       "    </tr>\n",
       "    <tr>\n",
       "      <th>8806</th>\n",
       "      <td>Zubaan</td>\n",
       "      <td>TV-14</td>\n",
       "    </tr>\n",
       "  </tbody>\n",
       "</table>\n",
       "<p>8807 rows × 2 columns</p>\n",
       "</div>"
      ],
      "text/plain": [
       "                      title rating\n",
       "0      Dick Johnson Is Dead  PG-13\n",
       "1             Blood & Water  TV-MA\n",
       "2                 Ganglands  TV-MA\n",
       "3     Jailbirds New Orleans  TV-MA\n",
       "4              Kota Factory  TV-MA\n",
       "...                     ...    ...\n",
       "8802                 Zodiac      R\n",
       "8803            Zombie Dumb  TV-Y7\n",
       "8804             Zombieland      R\n",
       "8805                   Zoom     PG\n",
       "8806                 Zubaan  TV-14\n",
       "\n",
       "[8807 rows x 2 columns]"
      ]
     },
     "execution_count": 63,
     "metadata": {},
     "output_type": "execute_result"
    }
   ],
   "source": [
    "netflix[[\"title\", \"rating\"]]"
   ]
  },
  {
   "cell_type": "code",
   "execution_count": 64,
   "id": "2c00cc6c",
   "metadata": {},
   "outputs": [
    {
     "data": {
      "text/html": [
       "<div>\n",
       "<style scoped>\n",
       "    .dataframe tbody tr th:only-of-type {\n",
       "        vertical-align: middle;\n",
       "    }\n",
       "\n",
       "    .dataframe tbody tr th {\n",
       "        vertical-align: top;\n",
       "    }\n",
       "\n",
       "    .dataframe thead th {\n",
       "        text-align: right;\n",
       "    }\n",
       "</style>\n",
       "<table border=\"1\" class=\"dataframe\">\n",
       "  <thead>\n",
       "    <tr style=\"text-align: right;\">\n",
       "      <th></th>\n",
       "      <th>title</th>\n",
       "      <th>rating</th>\n",
       "    </tr>\n",
       "  </thead>\n",
       "  <tbody>\n",
       "    <tr>\n",
       "      <th>8802</th>\n",
       "      <td>Zodiac</td>\n",
       "      <td>R</td>\n",
       "    </tr>\n",
       "    <tr>\n",
       "      <th>8803</th>\n",
       "      <td>Zombie Dumb</td>\n",
       "      <td>TV-Y7</td>\n",
       "    </tr>\n",
       "    <tr>\n",
       "      <th>8804</th>\n",
       "      <td>Zombieland</td>\n",
       "      <td>R</td>\n",
       "    </tr>\n",
       "    <tr>\n",
       "      <th>8805</th>\n",
       "      <td>Zoom</td>\n",
       "      <td>PG</td>\n",
       "    </tr>\n",
       "    <tr>\n",
       "      <th>8806</th>\n",
       "      <td>Zubaan</td>\n",
       "      <td>TV-14</td>\n",
       "    </tr>\n",
       "  </tbody>\n",
       "</table>\n",
       "</div>"
      ],
      "text/plain": [
       "            title rating\n",
       "8802       Zodiac      R\n",
       "8803  Zombie Dumb  TV-Y7\n",
       "8804   Zombieland      R\n",
       "8805         Zoom     PG\n",
       "8806       Zubaan  TV-14"
      ]
     },
     "execution_count": 64,
     "metadata": {},
     "output_type": "execute_result"
    }
   ],
   "source": [
    "netflix[[\"title\", \"rating\"]].tail()"
   ]
  },
  {
   "cell_type": "code",
   "execution_count": 65,
   "id": "3c0c79e1",
   "metadata": {},
   "outputs": [
    {
     "data": {
      "text/html": [
       "<div>\n",
       "<style scoped>\n",
       "    .dataframe tbody tr th:only-of-type {\n",
       "        vertical-align: middle;\n",
       "    }\n",
       "\n",
       "    .dataframe tbody tr th {\n",
       "        vertical-align: top;\n",
       "    }\n",
       "\n",
       "    .dataframe thead th {\n",
       "        text-align: right;\n",
       "    }\n",
       "</style>\n",
       "<table border=\"1\" class=\"dataframe\">\n",
       "  <thead>\n",
       "    <tr style=\"text-align: right;\">\n",
       "      <th></th>\n",
       "      <th>price</th>\n",
       "      <th>bedrooms</th>\n",
       "      <th>bathrooms</th>\n",
       "    </tr>\n",
       "  </thead>\n",
       "  <tbody>\n",
       "    <tr>\n",
       "      <th>0</th>\n",
       "      <td>221900.0</td>\n",
       "      <td>3</td>\n",
       "      <td>1.00</td>\n",
       "    </tr>\n",
       "    <tr>\n",
       "      <th>1</th>\n",
       "      <td>538000.0</td>\n",
       "      <td>3</td>\n",
       "      <td>2.25</td>\n",
       "    </tr>\n",
       "    <tr>\n",
       "      <th>2</th>\n",
       "      <td>180000.0</td>\n",
       "      <td>2</td>\n",
       "      <td>1.00</td>\n",
       "    </tr>\n",
       "    <tr>\n",
       "      <th>3</th>\n",
       "      <td>604000.0</td>\n",
       "      <td>4</td>\n",
       "      <td>3.00</td>\n",
       "    </tr>\n",
       "    <tr>\n",
       "      <th>4</th>\n",
       "      <td>510000.0</td>\n",
       "      <td>3</td>\n",
       "      <td>2.00</td>\n",
       "    </tr>\n",
       "    <tr>\n",
       "      <th>...</th>\n",
       "      <td>...</td>\n",
       "      <td>...</td>\n",
       "      <td>...</td>\n",
       "    </tr>\n",
       "    <tr>\n",
       "      <th>21608</th>\n",
       "      <td>360000.0</td>\n",
       "      <td>3</td>\n",
       "      <td>2.50</td>\n",
       "    </tr>\n",
       "    <tr>\n",
       "      <th>21609</th>\n",
       "      <td>400000.0</td>\n",
       "      <td>4</td>\n",
       "      <td>2.50</td>\n",
       "    </tr>\n",
       "    <tr>\n",
       "      <th>21610</th>\n",
       "      <td>402101.0</td>\n",
       "      <td>2</td>\n",
       "      <td>0.75</td>\n",
       "    </tr>\n",
       "    <tr>\n",
       "      <th>21611</th>\n",
       "      <td>400000.0</td>\n",
       "      <td>3</td>\n",
       "      <td>2.50</td>\n",
       "    </tr>\n",
       "    <tr>\n",
       "      <th>21612</th>\n",
       "      <td>325000.0</td>\n",
       "      <td>2</td>\n",
       "      <td>0.75</td>\n",
       "    </tr>\n",
       "  </tbody>\n",
       "</table>\n",
       "<p>21613 rows × 3 columns</p>\n",
       "</div>"
      ],
      "text/plain": [
       "          price  bedrooms  bathrooms\n",
       "0      221900.0         3       1.00\n",
       "1      538000.0         3       2.25\n",
       "2      180000.0         2       1.00\n",
       "3      604000.0         4       3.00\n",
       "4      510000.0         3       2.00\n",
       "...         ...       ...        ...\n",
       "21608  360000.0         3       2.50\n",
       "21609  400000.0         4       2.50\n",
       "21610  402101.0         2       0.75\n",
       "21611  400000.0         3       2.50\n",
       "21612  325000.0         2       0.75\n",
       "\n",
       "[21613 rows x 3 columns]"
      ]
     },
     "execution_count": 65,
     "metadata": {},
     "output_type": "execute_result"
    }
   ],
   "source": [
    "houses[[\"price\", \"bedrooms\", \"bathrooms\"]]"
   ]
  },
  {
   "cell_type": "code",
   "execution_count": 66,
   "id": "c9a6a289",
   "metadata": {},
   "outputs": [
    {
     "data": {
      "text/html": [
       "<div>\n",
       "<style scoped>\n",
       "    .dataframe tbody tr th:only-of-type {\n",
       "        vertical-align: middle;\n",
       "    }\n",
       "\n",
       "    .dataframe tbody tr th {\n",
       "        vertical-align: top;\n",
       "    }\n",
       "\n",
       "    .dataframe thead th {\n",
       "        text-align: right;\n",
       "    }\n",
       "</style>\n",
       "<table border=\"1\" class=\"dataframe\">\n",
       "  <thead>\n",
       "    <tr style=\"text-align: right;\">\n",
       "      <th></th>\n",
       "      <th>price</th>\n",
       "      <th>bedrooms</th>\n",
       "      <th>bathrooms</th>\n",
       "    </tr>\n",
       "  </thead>\n",
       "  <tbody>\n",
       "    <tr>\n",
       "      <th>count</th>\n",
       "      <td>2.161300e+04</td>\n",
       "      <td>21613.000000</td>\n",
       "      <td>21613.000000</td>\n",
       "    </tr>\n",
       "    <tr>\n",
       "      <th>mean</th>\n",
       "      <td>5.400881e+05</td>\n",
       "      <td>3.370842</td>\n",
       "      <td>2.114757</td>\n",
       "    </tr>\n",
       "    <tr>\n",
       "      <th>std</th>\n",
       "      <td>3.671272e+05</td>\n",
       "      <td>0.930062</td>\n",
       "      <td>0.770163</td>\n",
       "    </tr>\n",
       "    <tr>\n",
       "      <th>min</th>\n",
       "      <td>7.500000e+04</td>\n",
       "      <td>0.000000</td>\n",
       "      <td>0.000000</td>\n",
       "    </tr>\n",
       "    <tr>\n",
       "      <th>25%</th>\n",
       "      <td>3.219500e+05</td>\n",
       "      <td>3.000000</td>\n",
       "      <td>1.750000</td>\n",
       "    </tr>\n",
       "    <tr>\n",
       "      <th>50%</th>\n",
       "      <td>4.500000e+05</td>\n",
       "      <td>3.000000</td>\n",
       "      <td>2.250000</td>\n",
       "    </tr>\n",
       "    <tr>\n",
       "      <th>75%</th>\n",
       "      <td>6.450000e+05</td>\n",
       "      <td>4.000000</td>\n",
       "      <td>2.500000</td>\n",
       "    </tr>\n",
       "    <tr>\n",
       "      <th>max</th>\n",
       "      <td>7.700000e+06</td>\n",
       "      <td>33.000000</td>\n",
       "      <td>8.000000</td>\n",
       "    </tr>\n",
       "  </tbody>\n",
       "</table>\n",
       "</div>"
      ],
      "text/plain": [
       "              price      bedrooms     bathrooms\n",
       "count  2.161300e+04  21613.000000  21613.000000\n",
       "mean   5.400881e+05      3.370842      2.114757\n",
       "std    3.671272e+05      0.930062      0.770163\n",
       "min    7.500000e+04      0.000000      0.000000\n",
       "25%    3.219500e+05      3.000000      1.750000\n",
       "50%    4.500000e+05      3.000000      2.250000\n",
       "75%    6.450000e+05      4.000000      2.500000\n",
       "max    7.700000e+06     33.000000      8.000000"
      ]
     },
     "execution_count": 66,
     "metadata": {},
     "output_type": "execute_result"
    }
   ],
   "source": [
    "houses[[\"price\", \"bedrooms\", \"bathrooms\"]].describe()"
   ]
  },
  {
   "cell_type": "code",
   "execution_count": 67,
   "id": "3222a3aa",
   "metadata": {},
   "outputs": [
    {
     "data": {
      "text/html": [
       "<div>\n",
       "<style scoped>\n",
       "    .dataframe tbody tr th:only-of-type {\n",
       "        vertical-align: middle;\n",
       "    }\n",
       "\n",
       "    .dataframe tbody tr th {\n",
       "        vertical-align: top;\n",
       "    }\n",
       "\n",
       "    .dataframe thead th {\n",
       "        text-align: right;\n",
       "    }\n",
       "</style>\n",
       "<table border=\"1\" class=\"dataframe\">\n",
       "  <thead>\n",
       "    <tr style=\"text-align: right;\">\n",
       "      <th></th>\n",
       "      <th>price</th>\n",
       "      <th>zipcode</th>\n",
       "      <th>sqft_lot</th>\n",
       "    </tr>\n",
       "  </thead>\n",
       "  <tbody>\n",
       "    <tr>\n",
       "      <th>0</th>\n",
       "      <td>221900.0</td>\n",
       "      <td>98178</td>\n",
       "      <td>5650</td>\n",
       "    </tr>\n",
       "    <tr>\n",
       "      <th>1</th>\n",
       "      <td>538000.0</td>\n",
       "      <td>98125</td>\n",
       "      <td>7242</td>\n",
       "    </tr>\n",
       "    <tr>\n",
       "      <th>2</th>\n",
       "      <td>180000.0</td>\n",
       "      <td>98028</td>\n",
       "      <td>10000</td>\n",
       "    </tr>\n",
       "    <tr>\n",
       "      <th>3</th>\n",
       "      <td>604000.0</td>\n",
       "      <td>98136</td>\n",
       "      <td>5000</td>\n",
       "    </tr>\n",
       "    <tr>\n",
       "      <th>4</th>\n",
       "      <td>510000.0</td>\n",
       "      <td>98074</td>\n",
       "      <td>8080</td>\n",
       "    </tr>\n",
       "    <tr>\n",
       "      <th>...</th>\n",
       "      <td>...</td>\n",
       "      <td>...</td>\n",
       "      <td>...</td>\n",
       "    </tr>\n",
       "    <tr>\n",
       "      <th>21608</th>\n",
       "      <td>360000.0</td>\n",
       "      <td>98103</td>\n",
       "      <td>1131</td>\n",
       "    </tr>\n",
       "    <tr>\n",
       "      <th>21609</th>\n",
       "      <td>400000.0</td>\n",
       "      <td>98146</td>\n",
       "      <td>5813</td>\n",
       "    </tr>\n",
       "    <tr>\n",
       "      <th>21610</th>\n",
       "      <td>402101.0</td>\n",
       "      <td>98144</td>\n",
       "      <td>1350</td>\n",
       "    </tr>\n",
       "    <tr>\n",
       "      <th>21611</th>\n",
       "      <td>400000.0</td>\n",
       "      <td>98027</td>\n",
       "      <td>2388</td>\n",
       "    </tr>\n",
       "    <tr>\n",
       "      <th>21612</th>\n",
       "      <td>325000.0</td>\n",
       "      <td>98144</td>\n",
       "      <td>1076</td>\n",
       "    </tr>\n",
       "  </tbody>\n",
       "</table>\n",
       "<p>21613 rows × 3 columns</p>\n",
       "</div>"
      ],
      "text/plain": [
       "          price  zipcode  sqft_lot\n",
       "0      221900.0    98178      5650\n",
       "1      538000.0    98125      7242\n",
       "2      180000.0    98028     10000\n",
       "3      604000.0    98136      5000\n",
       "4      510000.0    98074      8080\n",
       "...         ...      ...       ...\n",
       "21608  360000.0    98103      1131\n",
       "21609  400000.0    98146      5813\n",
       "21610  402101.0    98144      1350\n",
       "21611  400000.0    98027      2388\n",
       "21612  325000.0    98144      1076\n",
       "\n",
       "[21613 rows x 3 columns]"
      ]
     },
     "execution_count": 67,
     "metadata": {},
     "output_type": "execute_result"
    }
   ],
   "source": [
    "# cols isminde bir liste oluşturarak liste içine sütun isimleri veiyoruz.\n",
    "# Dinamiklik açısından aşağıdaki kod kullanışlıdır.\n",
    "cols = [\"price\", \"zipcode\", \"sqft_lot\"]\n",
    "houses[cols]"
   ]
  },
  {
   "cell_type": "markdown",
   "id": "f727b3f6",
   "metadata": {},
   "source": [
    "***\n",
    "# $Using$ $plot()$ $Method$ $To$ $Visualize$"
   ]
  },
  {
   "cell_type": "markdown",
   "id": "30c584e0",
   "metadata": {},
   "source": [
    "**`pandas.Series.plot()` metodu, grafik çiziminin ana komutudur. Matplotlib kütüphanesi tarafından da kullanılan `plotting.backend` özelleştirilmiş backend servisini kullanır. Bu komutun içine ilk önce `x ekseni` bilgisi, sonrasında ise `y ekseni` bilgisi yazılır. Grafikteki temel bazı değişkenleri değiştirmek istersek ilgili kodu bu metot içerisine yazmamız gerekir. Örneğin grafiğin rengi, çizgi kalınlığı, aralıklar vs.**\n",
    "\n",
    "**Daha detaylı inceleme yapmak için bu linki kullanabilirsiniz: \n",
    "<a href=\"https://pandas.pydata.org/docs/reference/api/pandas.Series.plot.html\">pandas.Series.plot()</a>**\n",
    "\n",
    "**Bir örnek yapalım;**"
   ]
  },
  {
   "cell_type": "code",
   "execution_count": 68,
   "id": "28f8dea0",
   "metadata": {},
   "outputs": [
    {
     "data": {
      "text/plain": [
       "<AxesSubplot:>"
      ]
     },
     "execution_count": 68,
     "metadata": {},
     "output_type": "execute_result"
    },
    {
     "data": {
      "image/png": "[encoded data removed]",
      "text/plain": [
       "<Figure size 432x288 with 1 Axes>"
      ]
     },
     "metadata": {
      "needs_background": "light"
     },
     "output_type": "display_data"
    }
   ],
   "source": [
    "houses[\"bedrooms\"].plot()"
   ]
  },
  {
   "cell_type": "markdown",
   "id": "342fdef2",
   "metadata": {},
   "source": [
    "**Görüldüğü gibi bu haliyle kullanıldığında pek de informatif değil. `value_counts()` metodu ile birlikte kullanmayı deneyelim.**"
   ]
  },
  {
   "cell_type": "code",
   "execution_count": 69,
   "id": "9c85beb9",
   "metadata": {},
   "outputs": [
    {
     "data": {
      "text/plain": [
       "<AxesSubplot:>"
      ]
     },
     "execution_count": 69,
     "metadata": {},
     "output_type": "execute_result"
    },
    {
     "data": {
      "image/png": "[encoded data removed]",
      "text/plain": [
       "<Figure size 432x288 with 1 Axes>"
      ]
     },
     "metadata": {
      "needs_background": "light"
     },
     "output_type": "display_data"
    }
   ],
   "source": [
    "houses[\"bedrooms\"].value_counts().plot()"
   ]
  },
  {
   "cell_type": "markdown",
   "id": "66e4dc6d",
   "metadata": {},
   "source": [
    "**Bu haliyle de biraz tuhaf göründü. Peki nasıl bir çözüm bulabiliriz. Bu noktada `plot()` metodunun kullanıcıya sunduğu `kind` parametresinden faydalanabiliriz. Bu göre `plot()` metodu ile çeşitli grafikler üretebiliriz. Aşağıda belirtilen parametre değişkenlerinin her biri birer grafik türü olarak karşımıza çıkmaktadır:**\n",
    "\n",
    "* **‘line’ : çizgi plot (default)**\n",
    "\n",
    "* **‘bar’ : dikey bar plot**\n",
    "\n",
    "* **‘barh’ : yatay bar plot**\n",
    "\n",
    "* **‘hist’ : histogram**\n",
    "\n",
    "* **‘box’ : boxplot**\n",
    "\n",
    "* **‘kde’ : Kernel Density Estimation plot**\n",
    "\n",
    "* **‘density’ : Kernel Density Estimation plot ile aynı**\n",
    "\n",
    "* **‘area’ : alan plot'u**\n",
    "\n",
    "* **‘pie’ : pie plot**\n",
    "\n",
    "* **‘scatter’ : scatter plot (Yalnızca DataFrame)**\n",
    "\n",
    "* **‘hexbin’ : hexbin plot (Yalnızca DataFrame)**"
   ]
  },
  {
   "cell_type": "code",
   "execution_count": 70,
   "id": "179d36f8",
   "metadata": {},
   "outputs": [
    {
     "data": {
      "text/plain": [
       "<AxesSubplot:>"
      ]
     },
     "execution_count": 70,
     "metadata": {},
     "output_type": "execute_result"
    },
    {
     "data": {
      "image/png": "[encoded data removed]",
      "text/plain": [
       "<Figure size 432x288 with 1 Axes>"
      ]
     },
     "metadata": {
      "needs_background": "light"
     },
     "output_type": "display_data"
    }
   ],
   "source": [
    "houses[\"bedrooms\"].value_counts().plot(kind=\"bar\")"
   ]
  },
  {
   "cell_type": "markdown",
   "id": "fb07d5cc",
   "metadata": {},
   "source": [
    "**Şimdi biraz daha anlaşılır bir grafik elde ettik. Mükemmel değil ancak öncekilere göre daha iyi. Farklı yapılarda farklı veri setlerinin kullanıldığı örneklere bakarak bilgilerimizi genişletebiliriz.**"
   ]
  },
  {
   "cell_type": "code",
   "execution_count": 71,
   "id": "acdcf230",
   "metadata": {},
   "outputs": [
    {
     "data": {
      "text/plain": [
       "<AxesSubplot:ylabel='bedrooms'>"
      ]
     },
     "execution_count": 71,
     "metadata": {},
     "output_type": "execute_result"
    },
    {
     "data": {
      "image/png": "[encoded data removed]",
      "text/plain": [
       "<Figure size 432x288 with 1 Axes>"
      ]
     },
     "metadata": {},
     "output_type": "display_data"
    }
   ],
   "source": [
    "houses[\"bedrooms\"].value_counts().plot(kind=\"pie\")"
   ]
  },
  {
   "cell_type": "code",
   "execution_count": 72,
   "id": "78bc6918",
   "metadata": {},
   "outputs": [
    {
     "data": {
      "text/plain": [
       "<AxesSubplot:ylabel='survived'>"
      ]
     },
     "execution_count": 72,
     "metadata": {},
     "output_type": "execute_result"
    },
    {
     "data": {
      "image/png": "[encoded data removed]",
      "text/plain": [
       "<Figure size 432x288 with 1 Axes>"
      ]
     },
     "metadata": {},
     "output_type": "display_data"
    }
   ],
   "source": [
    "titanic[\"survived\"].value_counts().plot(kind=\"pie\")"
   ]
  },
  {
   "cell_type": "code",
   "execution_count": 73,
   "id": "b415fe98",
   "metadata": {},
   "outputs": [
    {
     "data": {
      "text/plain": [
       "<AxesSubplot:ylabel='sex'>"
      ]
     },
     "execution_count": 73,
     "metadata": {},
     "output_type": "execute_result"
    },
    {
     "data": {
      "image/png": "[encoded data removed]",
      "text/plain": [
       "<Figure size 432x288 with 1 Axes>"
      ]
     },
     "metadata": {},
     "output_type": "display_data"
    }
   ],
   "source": [
    "titanic[\"sex\"].value_counts().plot(kind=\"pie\")"
   ]
  },
  {
   "cell_type": "markdown",
   "id": "0353c8ad",
   "metadata": {},
   "source": [
    "**Birden fazla sütun için bir grafik çizdirmek istediğimizi farz edelim. Aşağıdaki örneklerde bu senaryoyu inceleyebiliriz.**"
   ]
  },
  {
   "cell_type": "code",
   "execution_count": 74,
   "id": "b35323a6",
   "metadata": {
    "scrolled": true
   },
   "outputs": [
    {
     "data": {
      "text/plain": [
       "<AxesSubplot:>"
      ]
     },
     "execution_count": 74,
     "metadata": {},
     "output_type": "execute_result"
    },
    {
     "data": {
      "image/png": "[encoded data removed]",
      "text/plain": [
       "<Figure size 432x288 with 1 Axes>"
      ]
     },
     "metadata": {
      "needs_background": "light"
     },
     "output_type": "display_data"
    }
   ],
   "source": [
    "houses[[\"bedrooms\", \"bathrooms\"]].plot()"
   ]
  },
  {
   "cell_type": "markdown",
   "id": "9266ee21",
   "metadata": {},
   "source": [
    "**Biraz daha okunabilir bir yapı oluşturalım.**"
   ]
  },
  {
   "cell_type": "code",
   "execution_count": 75,
   "id": "46e54f0a",
   "metadata": {},
   "outputs": [
    {
     "data": {
      "text/plain": [
       "<AxesSubplot:xlabel='bedrooms'>"
      ]
     },
     "execution_count": 75,
     "metadata": {},
     "output_type": "execute_result"
    },
    {
     "data": {
      "image/png": "[encoded data removed]",
      "text/plain": [
       "<Figure size 432x288 with 1 Axes>"
      ]
     },
     "metadata": {
      "needs_background": "light"
     },
     "output_type": "display_data"
    }
   ],
   "source": [
    "df = houses[[\"bedrooms\", \"bathrooms\"]]\n",
    "df.plot(x=\"bedrooms\", y=\"bathrooms\")"
   ]
  },
  {
   "cell_type": "markdown",
   "id": "34de2d1a",
   "metadata": {},
   "source": [
    "**Biraz tuhaf bir grafik oluştur. Bu noktada `scatter` plot kullanabiliriz.**"
   ]
  },
  {
   "cell_type": "code",
   "execution_count": 76,
   "id": "b307627a",
   "metadata": {},
   "outputs": [
    {
     "data": {
      "text/plain": [
       "<AxesSubplot:xlabel='bedrooms', ylabel='bathrooms'>"
      ]
     },
     "execution_count": 76,
     "metadata": {},
     "output_type": "execute_result"
    },
    {
     "data": {
      "image/png": "[encoded data removed]",
      "text/plain": [
       "<Figure size 432x288 with 1 Axes>"
      ]
     },
     "metadata": {
      "needs_background": "light"
     },
     "output_type": "display_data"
    }
   ],
   "source": [
    "df.plot(kind=\"scatter\", x=\"bedrooms\", y=\"bathrooms\")"
   ]
  },
  {
   "cell_type": "markdown",
   "id": "14f9748e",
   "metadata": {},
   "source": [
    "**Biraz daha anlamlı bir grafik elde ettik. Örnekleri çeşitlendirmek mümkündür.**"
   ]
  },
  {
   "cell_type": "code",
   "execution_count": 77,
   "id": "ed6d25d2",
   "metadata": {},
   "outputs": [
    {
     "data": {
      "text/plain": [
       "<AxesSubplot:>"
      ]
     },
     "execution_count": 77,
     "metadata": {},
     "output_type": "execute_result"
    },
    {
     "data": {
      "image/png": "[encoded data removed]",
      "text/plain": [
       "<Figure size 432x288 with 1 Axes>"
      ]
     },
     "metadata": {
      "needs_background": "light"
     },
     "output_type": "display_data"
    }
   ],
   "source": [
    "netflix[\"rating\"].value_counts().head(10).plot(kind=\"bar\")"
   ]
  }
 ],
 "metadata": {
  "kernelspec": {
   "display_name": "Python 3 (ipykernel)",
   "language": "python",
   "name": "python3"
  },
  "language_info": {
   "codemirror_mode": {
    "name": "ipython",
    "version": 3
   },
   "file_extension": ".py",
   "mimetype": "text/x-python",
   "name": "python",
   "nbconvert_exporter": "python",
   "pygments_lexer": "ipython3",
   "version": "3.7.13"
  }
 },
 "nbformat": 4,
 "nbformat_minor": 5
}
